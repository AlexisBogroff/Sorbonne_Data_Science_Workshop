{
 "cells": [
  {
   "cell_type": "markdown",
   "metadata": {},
   "source": [
    "# Python Introduction Exercises"
   ]
  },
  {
   "cell_type": "markdown",
   "metadata": {},
   "source": [
    "Table of contents\n",
    "1. [Development tools](#devtools)\n",
    "2. [Essentials in Python Language](#python_essentials)\n",
    "3. [Basic data types / structures](#data_structures)\n",
    "4. [Control flow structures](#control_structures)\n",
    "5. [Operators](#operators)\n",
    "6. [Conditions](#conditions)\n",
    "7. [Functions](#functions)\n",
    "8. [Lists comprehension](#lists_comprehension)\n",
    "9. [Format strings](#format_strings)\n",
    "10. [Pandas](#pandas)\n",
    "10. [Lambda functions](#lambda)\n",
    "11. [Objects](#objects)\n",
    "12. [Libraries](#libraries)"
   ]
  },
  {
   "cell_type": "markdown",
   "metadata": {},
   "source": [
    "## Development tools<a class=anchor id=devtools></a>"
   ]
  },
  {
   "cell_type": "markdown",
   "metadata": {},
   "source": [
    "### Interactive console"
   ]
  },
  {
   "cell_type": "markdown",
   "metadata": {},
   "source": [
    "- Open a terminal\n",
    "- Launch python interactive console\n",
    "    - python\n",
    "- Make it say 'hello'\n",
    "    - print('hello')"
   ]
  },
  {
   "cell_type": "markdown",
   "metadata": {},
   "source": [
    "### Scripts"
   ]
  },
  {
   "cell_type": "markdown",
   "metadata": {},
   "source": [
    "- Open a terminal\n",
    "- Go to Desktop\n",
    "    - chdir Desktop (Windows)\n",
    "    - cd Desktop (Mac, Linux)\n",
    "- Create a python script\n",
    "    - echo \"print('hello')\" > script.py\n",
    "- Launch the script\n",
    "    - python script.py"
   ]
  },
  {
   "cell_type": "markdown",
   "metadata": {},
   "source": [
    "### Jupyter Notebook"
   ]
  },
  {
   "cell_type": "markdown",
   "metadata": {},
   "source": [
    "- Open a Jupyter Notebook\n",
    "    - https://jupyter.org/try (online)\n",
    "- Add a code cell\n",
    "- Make it say 'hello'\n",
    "    - print('hello')\n",
    "- run the cell\n",
    "    - click 'Run' > 'Run selected cells'"
   ]
  },
  {
   "cell_type": "markdown",
   "metadata": {},
   "source": [
    "## Essentials in Python Language<a class=anchor id=python_essentials></a>\n",
    "Do the following exercises in a Jupyter Notebook"
   ]
  },
  {
   "cell_type": "code",
   "execution_count": 5,
   "metadata": {},
   "outputs": [],
   "source": [
    "# Modules, Libraries\n",
    "import pandas as pd\n",
    "import numpy as np\n",
    "import datetime\n",
    "import truc"
   ]
  },
  {
   "cell_type": "markdown",
   "metadata": {},
   "source": [
    "## Data types / structures<a class=anchor id=data_structures></a>"
   ]
  },
  {
   "cell_type": "code",
   "execution_count": 6,
   "metadata": {},
   "outputs": [
    {
     "data": {
      "text/plain": [
       "{'name': ['akiko', 'julie'], 'age': [12, 43]}"
      ]
     },
     "execution_count": 6,
     "metadata": {},
     "output_type": "execute_result"
    }
   ],
   "source": [
    "# Text and numbers\n",
    "12         # int (integer)\n",
    "1.5        # float\n",
    "'hola'     # str (string)\n",
    "\"hola\"\n",
    "\"\"\"hola\"\"\"\n",
    "\n",
    "# Iterables\n",
    "[42, 58, 209, 42]  # list\n",
    "(42, 58, 209, 42)  # tuple\n",
    "{42, 58, 209}      # set\n",
    "{'name': ['akiko', 'julie'], 'age': [12, 43]}  # dict (dictionary)"
   ]
  },
  {
   "cell_type": "markdown",
   "metadata": {},
   "source": [
    "--------------------------------\n",
    "Question\n",
    "\n",
    "1. Create an integer of value 12\n",
    "2. Create a float of value 12\n",
    "3. Create a string containing: 12"
   ]
  },
  {
   "cell_type": "code",
   "execution_count": 7,
   "metadata": {},
   "outputs": [
    {
     "data": {
      "text/plain": [
       "'12'"
      ]
     },
     "execution_count": 7,
     "metadata": {},
     "output_type": "execute_result"
    }
   ],
   "source": [
    "### =====                ==== ####\n",
    "###       YOUR CODE HERE      ####\n",
    "### =====                ==== ####\n",
    "12\n",
    "12.0\n",
    "'12'"
   ]
  },
  {
   "cell_type": "markdown",
   "metadata": {},
   "source": [
    "--------------------------------\n",
    "Question\n",
    "\n",
    "1. Create a list containing: 12, 13, 14\n",
    "3. Create a dictionary with:\n",
    "    - key (only 1): emotion\n",
    "    - values (3): happy, sad, excited"
   ]
  },
  {
   "cell_type": "code",
   "execution_count": 8,
   "metadata": {},
   "outputs": [
    {
     "data": {
      "text/plain": [
       "{'emotion': ['happy', 'sad', 'excited']}"
      ]
     },
     "execution_count": 8,
     "metadata": {},
     "output_type": "execute_result"
    }
   ],
   "source": [
    "### =====                ==== ####\n",
    "###       YOUR CODE HERE      ####\n",
    "### =====                ==== ####\n",
    "[12, 13, 14]\n",
    "{'emotion': ['happy', 'sad', 'excited']}"
   ]
  },
  {
   "cell_type": "code",
   "execution_count": 9,
   "metadata": {},
   "outputs": [
    {
     "data": {
      "text/plain": [
       "{42, 58, 209}"
      ]
     },
     "execution_count": 9,
     "metadata": {},
     "output_type": "execute_result"
    }
   ],
   "source": [
    "# Get unique values from a list using the set function\n",
    "l = [42, 58, 58, 58, 209, 42, 42, 42]\n",
    "set(l)"
   ]
  },
  {
   "cell_type": "markdown",
   "metadata": {},
   "source": [
    "--------------------------------\n",
    "Question\n",
    "\n",
    "1. Create a list containing: 12, 13, 14, 12\n",
    "2. Store the list into a variable named: lst\n",
    "3. Get unique values from the list"
   ]
  },
  {
   "cell_type": "code",
   "execution_count": 10,
   "metadata": {},
   "outputs": [
    {
     "data": {
      "text/plain": [
       "{12, 13, 14}"
      ]
     },
     "execution_count": 10,
     "metadata": {},
     "output_type": "execute_result"
    }
   ],
   "source": [
    "### =====                ==== ####\n",
    "###       YOUR CODE HERE      ####\n",
    "### =====                ==== ####\n",
    "lst = [12, 13, 14, 12]\n",
    "set(lst)"
   ]
  },
  {
   "cell_type": "markdown",
   "metadata": {},
   "source": [
    "### Dictionaries\n",
    "\n",
    "Ensemble of pairs: (key, value)"
   ]
  },
  {
   "cell_type": "code",
   "execution_count": 11,
   "metadata": {},
   "outputs": [
    {
     "data": {
      "text/plain": [
       "{'surname': ['jp', 'pa', 'ma', 'fo'],\n",
       " 'name': ['aba', 'chd', 'oih', 'iouh'],\n",
       " 'age': [12, 23, 40, 8]}"
      ]
     },
     "execution_count": 11,
     "metadata": {},
     "output_type": "execute_result"
    }
   ],
   "source": [
    "# Different (legal as to PEP8) ways to create the dictionary\n",
    "dico = {'surname': ['jp', 'pa', 'ma', 'fo'], 'name': ['aba', 'chd', 'oih', 'iouh'], 'age': [12, 23, 40, 8]}\n",
    "\n",
    "dico = {'surname': ['jp', 'pa', 'ma', 'fo'],\n",
    "        'name': ['aba', 'chd', 'oih', 'iouh'],\n",
    "        'age': [12, 23, 40, 8]}\n",
    "\n",
    "dico = {\n",
    "    'surname': ['jp', 'pa', 'ma', 'fo'],\n",
    "    'name': ['aba', 'chd', 'oih', 'iouh'],\n",
    "    'age': [12, 23, 40, 8],\n",
    "}\n",
    "\n",
    "dico"
   ]
  },
  {
   "cell_type": "markdown",
   "metadata": {},
   "source": [
    "--------------------------------\n",
    "Question\n",
    "\n",
    "1. Create a dictionary named dico_stu containing:\n",
    "    - keys: pilou, balo, pata, mani, tika\n",
    "    - respective values: 120, 140, 145, 110, 115\n",
    "\n",
    "Becareful the form of this dictionary is slightly different from above:\n",
    "- Above example: 3 keys with 4 values each\n",
    "- This question: 5 keys with 1 value each"
   ]
  },
  {
   "cell_type": "code",
   "execution_count": 12,
   "metadata": {},
   "outputs": [],
   "source": [
    "### =====                ==== ####\n",
    "###       YOUR CODE HERE      ####\n",
    "### =====                ==== ####\n",
    "dico_stu = {\n",
    "    'pilou': 120,\n",
    "    'balo': 140,\n",
    "    'pata': 145,\n",
    "    'mani': 110,\n",
    "    'tika': 115,\n",
    "}"
   ]
  },
  {
   "cell_type": "markdown",
   "metadata": {},
   "source": [
    "#### Extract info from dictionary"
   ]
  },
  {
   "cell_type": "code",
   "execution_count": 13,
   "metadata": {},
   "outputs": [
    {
     "data": {
      "text/plain": [
       "['jp', 'pa', 'ma', 'fo']"
      ]
     },
     "execution_count": 13,
     "metadata": {},
     "output_type": "execute_result"
    }
   ],
   "source": [
    "dico['surname']"
   ]
  },
  {
   "cell_type": "code",
   "execution_count": 14,
   "metadata": {},
   "outputs": [
    {
     "data": {
      "text/plain": [
       "['aba', 'chd', 'oih', 'iouh']"
      ]
     },
     "execution_count": 14,
     "metadata": {},
     "output_type": "execute_result"
    }
   ],
   "source": [
    "dico['name']"
   ]
  },
  {
   "cell_type": "markdown",
   "metadata": {},
   "source": [
    "--------------------------------\n",
    "Question\n",
    "\n",
    "1. Get the size of pata\n",
    "2. Get the size of tika"
   ]
  },
  {
   "cell_type": "code",
   "execution_count": 15,
   "metadata": {},
   "outputs": [
    {
     "data": {
      "text/plain": [
       "115"
      ]
     },
     "execution_count": 15,
     "metadata": {},
     "output_type": "execute_result"
    }
   ],
   "source": [
    "### =====                ==== ####\n",
    "###       YOUR CODE HERE      ####\n",
    "### =====                ==== ####\n",
    "dico_stu['pata']\n",
    "dico_stu['tika']"
   ]
  },
  {
   "cell_type": "code",
   "execution_count": 16,
   "metadata": {},
   "outputs": [
    {
     "data": {
      "text/plain": [
       "dict_items([('surname', ['jp', 'pa', 'ma', 'fo']), ('name', ['aba', 'chd', 'oih', 'iouh']), ('age', [12, 23, 40, 8])])"
      ]
     },
     "execution_count": 16,
     "metadata": {},
     "output_type": "execute_result"
    }
   ],
   "source": [
    "dico.items()"
   ]
  },
  {
   "cell_type": "code",
   "execution_count": null,
   "metadata": {},
   "outputs": [
    {
     "data": {
      "text/plain": [
       "dict_keys(['surname', 'name', 'age'])"
      ]
     },
     "metadata": {},
     "output_type": "display_data"
    }
   ],
   "source": [
    "dico.keys()"
   ]
  },
  {
   "cell_type": "code",
   "execution_count": null,
   "metadata": {},
   "outputs": [
    {
     "data": {
      "text/plain": [
       "dict_values([['jp', 'pa', 'ma', 'fo'], ['aba', 'chd', 'oih', 'iouh'], [12, 23, 40, 8]])"
      ]
     },
     "metadata": {},
     "output_type": "display_data"
    }
   ],
   "source": [
    "dico.values()"
   ]
  },
  {
   "cell_type": "markdown",
   "metadata": {},
   "source": [
    "#### Add info to dicotionary"
   ]
  },
  {
   "cell_type": "code",
   "execution_count": null,
   "metadata": {},
   "outputs": [],
   "source": [
    "# Add a key with its value\n",
    "dico['origin'] = 'earth'"
   ]
  },
  {
   "cell_type": "code",
   "execution_count": null,
   "metadata": {},
   "outputs": [],
   "source": [
    "# Add value to existing key\n",
    "# Possible if the value is a list\n",
    "dico['age'].append(43)"
   ]
  },
  {
   "cell_type": "code",
   "execution_count": null,
   "metadata": {},
   "outputs": [
    {
     "data": {
      "text/plain": [
       "{'surname': ['jp', 'pa', 'ma', 'fo'],\n",
       " 'name': ['aba', 'chd', 'oih', 'iouh'],\n",
       " 'age': [12, 23, 40, 8, 43],\n",
       " 'origin': 'earth'}"
      ]
     },
     "metadata": {},
     "output_type": "display_data"
    }
   ],
   "source": [
    "dico"
   ]
  },
  {
   "cell_type": "markdown",
   "metadata": {},
   "source": [
    "We observe that lists of the dictionary do not need to be of same length.\n",
    "\n",
    "Actually, we could add any object in each value"
   ]
  },
  {
   "cell_type": "code",
   "execution_count": null,
   "metadata": {},
   "outputs": [],
   "source": [
    "dico['country'] = 'a'"
   ]
  },
  {
   "cell_type": "code",
   "execution_count": null,
   "metadata": {},
   "outputs": [
    {
     "data": {
      "text/plain": [
       "{'surname': ['jp', 'pa', 'ma', 'fo'],\n",
       " 'name': ['aba', 'chd', 'oih', 'iouh'],\n",
       " 'age': [12, 23, 40, 8, 43],\n",
       " 'country': 'a'}"
      ]
     },
     "metadata": {},
     "output_type": "display_data"
    }
   ],
   "source": [
    "dico"
   ]
  },
  {
   "cell_type": "code",
   "execution_count": null,
   "metadata": {},
   "outputs": [],
   "source": [
    "# Replace existing key/values\n",
    "dico['country'] = ['fr', 'gb', 'us', 'es']"
   ]
  },
  {
   "cell_type": "code",
   "execution_count": null,
   "metadata": {},
   "outputs": [
    {
     "data": {
      "text/plain": [
       "{'surname': ['jp', 'pa', 'ma', 'fo'],\n",
       " 'name': ['aba', 'chd', 'oih', 'iouh'],\n",
       " 'age': [12, 23, 40, 8, 43],\n",
       " 'country': ['fr', 'gb', 'us', 'es']}"
      ]
     },
     "metadata": {},
     "output_type": "display_data"
    }
   ],
   "source": [
    "dico"
   ]
  },
  {
   "cell_type": "code",
   "execution_count": null,
   "metadata": {},
   "outputs": [],
   "source": [
    "# Add a new key with a function (in a list) as value\n",
    "dico['objects'] = [truc.truc]"
   ]
  },
  {
   "cell_type": "code",
   "execution_count": null,
   "metadata": {},
   "outputs": [
    {
     "data": {
      "text/plain": [
       "{'surname': ['jp', 'pa', 'ma', 'fo'],\n",
       " 'name': ['aba', 'chd', 'oih', 'iouh'],\n",
       " 'age': [12, 23, 40, 8, 43],\n",
       " 'country': ['fr', 'gb', 'us', 'es'],\n",
       " 'objects': [<function truc.truc()>]}"
      ]
     },
     "metadata": {},
     "output_type": "display_data"
    }
   ],
   "source": [
    "dico"
   ]
  },
  {
   "cell_type": "code",
   "execution_count": null,
   "metadata": {},
   "outputs": [
    {
     "name": "stdout",
     "output_type": "stream",
     "text": [
      "[<function truc at 0x15c731670>]\n",
      "<function truc at 0x15c731670>\n",
      "truc\n"
     ]
    }
   ],
   "source": [
    "# Chaining operations\n",
    "print(dico['objects'])  # but is within parenthesis\n",
    "print(dico['objects'][0])  # extract the first (and only) element of the list\n",
    "print(dico['objects'][0]())  # execute the function (ref)"
   ]
  },
  {
   "cell_type": "code",
   "execution_count": null,
   "metadata": {},
   "outputs": [
    {
     "data": {
      "text/plain": [
       "<function truc.truc()>"
      ]
     },
     "metadata": {},
     "output_type": "display_data"
    }
   ],
   "source": [
    "# It became complicated because the value is a function \n",
    "# which requires parenthesis to be executed\n",
    "truc.truc"
   ]
  },
  {
   "cell_type": "markdown",
   "metadata": {},
   "source": [
    "--------------------------------\n",
    "Question\n",
    "\n",
    "1. Add new pairs of key/value:\n",
    "- keys: bibi, theo\n",
    "- respective values: 130, 140\n",
    "2. Change the value of existing key/values:\n",
    "- set pilou at 121\n",
    "- set balo at 141"
   ]
  },
  {
   "cell_type": "code",
   "execution_count": null,
   "metadata": {},
   "outputs": [],
   "source": [
    "### =====                ==== ####\n",
    "###       YOUR CODE HERE      ####\n",
    "### =====                ==== ####\n",
    "dico_stu['bibi'] = 130\n",
    "dico_stu['theo'] = 140\n",
    "dico_stu['pilou'] = 121\n",
    "dico_stu['balo'] = 141"
   ]
  },
  {
   "cell_type": "markdown",
   "metadata": {},
   "source": [
    "## Control Structures<a class=anchor id=control_structures></a>"
   ]
  },
  {
   "cell_type": "markdown",
   "metadata": {},
   "source": [
    "for loop"
   ]
  },
  {
   "cell_type": "code",
   "execution_count": null,
   "metadata": {},
   "outputs": [
    {
     "name": "stdout",
     "output_type": "stream",
     "text": [
      "2\n",
      "54\n",
      "39\n"
     ]
    }
   ],
   "source": [
    "# With simple list\n",
    "for i in [2, 54, 39]:\n",
    "    print(i)"
   ]
  },
  {
   "cell_type": "code",
   "execution_count": 18,
   "metadata": {},
   "outputs": [
    {
     "name": "stdout",
     "output_type": "stream",
     "text": [
      "Ceci est une nouvelle ligne ('surname', ['jp', 'pa', 'ma', 'fo'])\n",
      "Ceci est une nouvelle ligne ('name', ['aba', 'chd', 'oih', 'iouh'])\n",
      "Ceci est une nouvelle ligne ('age', [12, 23, 40, 8])\n",
      "\n",
      "Ceci est une nouvelle ligne surname ['jp', 'pa', 'ma', 'fo']\n",
      "Ceci est une nouvelle ligne name ['aba', 'chd', 'oih', 'iouh']\n",
      "Ceci est une nouvelle ligne age [12, 23, 40, 8]\n"
     ]
    }
   ],
   "source": [
    "# With dictionaries\n",
    "for i in dico.items():\n",
    "    print(\"Ceci est une nouvelle ligne\", i)\n",
    "\n",
    "\n",
    "print()\n",
    "for i in dico.items():\n",
    "    print(\"Ceci est une nouvelle ligne\", *i)  # * unroll iterables"
   ]
  },
  {
   "cell_type": "code",
   "execution_count": 21,
   "metadata": {},
   "outputs": [
    {
     "name": "stdout",
     "output_type": "stream",
     "text": [
      "pa\n",
      "chd\n",
      "23\n",
      "pa\n",
      "chd\n",
      "23\n"
     ]
    }
   ],
   "source": [
    "for key in dico:\n",
    "    print(dico[key][0])\n",
    "\n",
    "for key in dico.keys():\n",
    "    print(dico[key][0])"
   ]
  },
  {
   "cell_type": "code",
   "execution_count": 22,
   "metadata": {},
   "outputs": [
    {
     "name": "stdout",
     "output_type": "stream",
     "text": [
      "12\n",
      "23\n",
      "40\n",
      "8\n"
     ]
    }
   ],
   "source": [
    "for val in dico['age']:\n",
    "    print(val)"
   ]
  },
  {
   "cell_type": "markdown",
   "metadata": {},
   "source": [
    "--------------------------------\n",
    "Question\n",
    "\n",
    "1. Print a line for each key in the dictionary following the form:\n",
    "- pilou is 120 tall\n",
    "- balo is 140 tall\n",
    "- etc."
   ]
  },
  {
   "cell_type": "code",
   "execution_count": 23,
   "metadata": {},
   "outputs": [
    {
     "name": "stdout",
     "output_type": "stream",
     "text": [
      "pilou is 120 tall\n",
      "balo is 140 tall\n",
      "pata is 145 tall\n",
      "mani is 110 tall\n",
      "tika is 115 tall\n"
     ]
    }
   ],
   "source": [
    "### =====                ==== ####\n",
    "###       YOUR CODE HERE      ####\n",
    "### =====                ==== ####\n",
    "for key, val in dico_stu.items():\n",
    "    print(f'{key} is {val} tall')"
   ]
  },
  {
   "cell_type": "markdown",
   "metadata": {},
   "source": [
    "## Operators<a class=anchor id=operators></a>"
   ]
  },
  {
   "cell_type": "markdown",
   "metadata": {},
   "source": [
    "Class methods:\n",
    "- Greater than \\_\\_gt\\_\\_\n",
    "- Lower than \\_\\_lt\\_\\_ "
   ]
  },
  {
   "cell_type": "code",
   "execution_count": 552,
   "metadata": {},
   "outputs": [
    {
     "name": "stdout",
     "output_type": "stream",
     "text": [
      "False\n",
      "True\n",
      "False\n",
      "True\n",
      "False\n",
      "True\n",
      "False\n"
     ]
    }
   ],
   "source": [
    "print(1 > 2)\n",
    "print(1 < 2)\n",
    "print(1 < 1)\n",
    "print('a' < 'b')\n",
    "print('a' > 'b')\n",
    "print([1] < [2, 3])\n",
    "print([1] > [2, 3])"
   ]
  },
  {
   "cell_type": "markdown",
   "metadata": {},
   "source": [
    "Class methods:\n",
    "- Greater than or equal to \\_\\_ge\\_\\_\n",
    "- Lower than or equal to \\_\\_le\\_\\_ "
   ]
  },
  {
   "cell_type": "code",
   "execution_count": 553,
   "metadata": {},
   "outputs": [
    {
     "name": "stdout",
     "output_type": "stream",
     "text": [
      "False\n",
      "True\n",
      "True\n"
     ]
    }
   ],
   "source": [
    "print(1 >= 2)\n",
    "print(1 <= 2)\n",
    "print(1 <= 1)"
   ]
  },
  {
   "cell_type": "markdown",
   "metadata": {},
   "source": [
    "Class methods:\n",
    "- Equal to \\_\\_eq\\_\\_\n",
    "- Different from \\_\\_ne\\_\\_ "
   ]
  },
  {
   "cell_type": "code",
   "execution_count": 554,
   "metadata": {},
   "outputs": [
    {
     "name": "stdout",
     "output_type": "stream",
     "text": [
      "False\n",
      "True\n",
      "True\n",
      "False\n"
     ]
    }
   ],
   "source": [
    "print(1 == 2)\n",
    "print(1 != 2)\n",
    "print(1 == 1)\n",
    "print(1 != 1)"
   ]
  },
  {
   "cell_type": "markdown",
   "metadata": {},
   "source": [
    "--------------------------------\n",
    "Question\n",
    "\n",
    "1. Is bibi taller than theo?\n",
    "2. Is pilou smaller than balo?\n",
    "3. Is tika as tall as pata?\n",
    "4. Is mani of different size than pilou?"
   ]
  },
  {
   "cell_type": "code",
   "execution_count": 35,
   "metadata": {},
   "outputs": [
    {
     "data": {
      "text/plain": [
       "True"
      ]
     },
     "execution_count": 35,
     "metadata": {},
     "output_type": "execute_result"
    }
   ],
   "source": [
    "### =====                ==== ####\n",
    "###       YOUR CODE HERE      ####\n",
    "### =====                ==== ####\n",
    "dico_stu['bibi'] > dico_stu['theo']\n",
    "dico_stu['pilou'] < dico_stu['balo']\n",
    "dico_stu['tika'] == dico_stu['pata']\n",
    "dico_stu['mani'] != dico_stu['pilou']"
   ]
  },
  {
   "cell_type": "markdown",
   "metadata": {},
   "source": [
    "Class method:\n",
    "- Find element in object \\_\\_contains\\_\\_\n",
    "\n",
    "Available in iterables, not in numbers."
   ]
  },
  {
   "cell_type": "code",
   "execution_count": 555,
   "metadata": {},
   "outputs": [
    {
     "name": "stdout",
     "output_type": "stream",
     "text": [
      "True\n",
      "False\n",
      "False\n",
      "True\n",
      "False\n",
      "True\n"
     ]
    }
   ],
   "source": [
    "print(1 in [1, 4, 2])\n",
    "print(1 in [4, 2])\n",
    "print([1] in [1, 4, 2])\n",
    "print([1] in [[1], 4, 2])\n",
    "print('a' in 'oisj')\n",
    "print('a' in 'oiasj')"
   ]
  },
  {
   "cell_type": "markdown",
   "metadata": {},
   "source": [
    "Not a class method:\n",
    "- Check if element is (True, False, None, np.nan)"
   ]
  },
  {
   "cell_type": "code",
   "execution_count": 556,
   "metadata": {},
   "outputs": [
    {
     "name": "stdout",
     "output_type": "stream",
     "text": [
      "True\n",
      "False\n",
      "False\n",
      "False\n",
      "True\n",
      "False\n"
     ]
    }
   ],
   "source": [
    "print(True is True)\n",
    "print(True is False)\n",
    "\n",
    "print([1] is None)\n",
    "x = 12\n",
    "print(x is None)\n",
    "x = None\n",
    "print(x is None)\n",
    "\n",
    "import numpy as np\n",
    "print(x is np.nan)"
   ]
  },
  {
   "cell_type": "markdown",
   "metadata": {},
   "source": [
    "Negation operator:\n",
    "- not\n",
    "- ~"
   ]
  },
  {
   "cell_type": "code",
   "execution_count": 557,
   "metadata": {},
   "outputs": [
    {
     "name": "stdout",
     "output_type": "stream",
     "text": [
      "True\n",
      "False\n",
      "False\n",
      "False\n",
      "True\n",
      "True\n"
     ]
    }
   ],
   "source": [
    "print(1 == 1)\n",
    "print(not 1 == 1)\n",
    "print(~ 1 == 1)\n",
    "print(1 != 1)\n",
    "print(not 1 != 1)\n",
    "print(~ 1 != 1)"
   ]
  },
  {
   "cell_type": "markdown",
   "metadata": {},
   "source": [
    "View an object internal methods"
   ]
  },
  {
   "cell_type": "code",
   "execution_count": 32,
   "metadata": {},
   "outputs": [
    {
     "data": {
      "text/plain": [
       "['__abs__',\n",
       " '__add__',\n",
       " '__and__',\n",
       " '__bool__',\n",
       " '__ceil__',\n",
       " '__class__',\n",
       " '__delattr__',\n",
       " '__dir__',\n",
       " '__divmod__',\n",
       " '__doc__']"
      ]
     },
     "execution_count": 32,
     "metadata": {},
     "output_type": "execute_result"
    }
   ],
   "source": [
    "dir(3)[:10]\n",
    "# dir([1, 2, 3])"
   ]
  },
  {
   "cell_type": "markdown",
   "metadata": {},
   "source": [
    "All these operators return boolean values (True / False). In Pandas, this will help us build \"masks\" (filters)"
   ]
  },
  {
   "cell_type": "markdown",
   "metadata": {},
   "source": [
    "--------------------------------\n",
    "Question\n",
    "\n",
    "1. Check whether pilou is an element of dico_stu\n",
    "2. Check whether pila is an element of dico_stu\n",
    "3. Check whether mani is NOT an element of dico_stu\n",
    "4. Check whether mana is NOT an element of dico_stu\n",
    "5. Store the first result in a variable named pilou_in_dico_stu\n",
    "6. Check whether pilou_in_dico_stu is True"
   ]
  },
  {
   "cell_type": "code",
   "execution_count": 43,
   "metadata": {},
   "outputs": [
    {
     "data": {
      "text/plain": [
       "False"
      ]
     },
     "execution_count": 43,
     "metadata": {},
     "output_type": "execute_result"
    }
   ],
   "source": [
    "### =====                ==== ####\n",
    "###       YOUR CODE HERE      ####\n",
    "### =====                ==== ####\n",
    "'pilou' in dico_stu\n",
    "'pila' in dico_stu\n",
    "'mani' not in dico_stu\n",
    "'mana' not in dico_stu\n",
    "\n",
    "pilou_in_dico_stu = 'pilou' in dico_stu\n",
    "pilou_in_dico_stu is True"
   ]
  },
  {
   "cell_type": "markdown",
   "metadata": {},
   "source": [
    "## Conditions<a class=anchor id=conditions></a>"
   ]
  },
  {
   "cell_type": "markdown",
   "metadata": {},
   "source": [
    "Simple \"if, else\" condition"
   ]
  },
  {
   "cell_type": "code",
   "execution_count": 559,
   "metadata": {},
   "outputs": [
    {
     "name": "stdout",
     "output_type": "stream",
     "text": [
      "Yes, x is equal to 3\n"
     ]
    }
   ],
   "source": [
    "x = 3\n",
    "\n",
    "if x == 3:\n",
    "    print(\"Yes, x is equal to 3\")\n",
    "else:\n",
    "    print(\"No, x is not equal to 3\")"
   ]
  },
  {
   "cell_type": "markdown",
   "metadata": {},
   "source": [
    "If is not None"
   ]
  },
  {
   "cell_type": "code",
   "execution_count": 560,
   "metadata": {},
   "outputs": [
    {
     "name": "stdout",
     "output_type": "stream",
     "text": [
      "3\n"
     ]
    }
   ],
   "source": [
    "if x != None:\n",
    "    print(x)\n",
    "else:\n",
    "    print(\"Not possible\")"
   ]
  },
  {
   "cell_type": "markdown",
   "metadata": {},
   "source": [
    "Better way to write, if is not None"
   ]
  },
  {
   "cell_type": "code",
   "execution_count": 561,
   "metadata": {},
   "outputs": [
    {
     "name": "stdout",
     "output_type": "stream",
     "text": [
      "3\n"
     ]
    }
   ],
   "source": [
    "if x:\n",
    "    print(x)\n",
    "else:\n",
    "    print(\"Not possible\")"
   ]
  },
  {
   "cell_type": "markdown",
   "metadata": {},
   "source": [
    "--------------------------------\n",
    "Question\n",
    "\n",
    "1. Create a variable named: stu\n",
    "2. Set this variable to: mani (you will change the value later)\n",
    "3. Create a code that says:\n",
    "- [name] is in dico_stu (if the name is in the dico_stu)\n",
    "- [name] is not in dico_stu (if the name is not in the dico_stu)\n",
    "\n",
    "e.g.:\n",
    "\n",
    "```mani is in dico_stu```\n",
    "\n",
    "```mana is not in dico_stu```\n",
    "\n",
    "This should work for any value of stu."
   ]
  },
  {
   "cell_type": "code",
   "execution_count": 46,
   "metadata": {},
   "outputs": [
    {
     "name": "stdout",
     "output_type": "stream",
     "text": [
      "mana is not in dico_stu\n"
     ]
    }
   ],
   "source": [
    "### =====                ==== ####\n",
    "###       YOUR CODE HERE      ####\n",
    "### =====                ==== ####\n",
    "stu = 'mana'\n",
    "\n",
    "if stu in dico_stu:\n",
    "    print(f'{stu} is in dico_stu')\n",
    "else:\n",
    "    print(f'{stu} is not in dico_stu')"
   ]
  },
  {
   "cell_type": "markdown",
   "metadata": {},
   "source": [
    "--------------------------------\n",
    "Question\n",
    "\n",
    "1. Create a variable named: stu_size\n",
    "2. Set this variable to: 120\n",
    "3. Create a code that says:\n",
    "- [name] is smaller than 120 (if the value corresponding to the name is indeed smaller than 120)\n",
    "\n",
    "The code should output:\n",
    "```\n",
    "mani is smaller than 120\n",
    "tika is smaller than 120\n",
    "```"
   ]
  },
  {
   "cell_type": "code",
   "execution_count": 47,
   "metadata": {},
   "outputs": [
    {
     "name": "stdout",
     "output_type": "stream",
     "text": [
      "mani is smaller than 120\n",
      "tika is smaller than 120\n"
     ]
    }
   ],
   "source": [
    "### =====                ==== ####\n",
    "###       YOUR CODE HERE      ####\n",
    "### =====                ==== ####\n",
    "stu_size = 120\n",
    "\n",
    "for name in dico_stu:\n",
    "    if dico_stu[name] < 120:\n",
    "        print(f'{name} is smaller than 120')"
   ]
  },
  {
   "cell_type": "markdown",
   "metadata": {},
   "source": [
    "## Functions<a class=anchor id=functions></a>"
   ]
  },
  {
   "cell_type": "markdown",
   "metadata": {},
   "source": [
    "Functions can:\n",
    "- take no, to many arguments\n",
    "- arguments can be \"Positional\" or \"Keyword\" arguments\n",
    "- return nothing (None) or anything (to many things)\n",
    "- synonyms: arguments / parameters / inputs\n",
    "\n",
    "One must:\n",
    "- Define the function\n",
    "- Call the function"
   ]
  },
  {
   "cell_type": "markdown",
   "metadata": {},
   "source": [
    "Simplest form:\n",
    "- No argument required\n",
    "- No return"
   ]
  },
  {
   "cell_type": "code",
   "execution_count": 563,
   "metadata": {},
   "outputs": [
    {
     "name": "stdout",
     "output_type": "stream",
     "text": [
      "Something\n"
     ]
    }
   ],
   "source": [
    "# Define the function\n",
    "def say_something():\n",
    "    print(\"Something\")\n",
    "\n",
    "# Call the function\n",
    "say_something()"
   ]
  },
  {
   "cell_type": "markdown",
   "metadata": {},
   "source": [
    "Function with:\n",
    "- an argument\n",
    "- no return"
   ]
  },
  {
   "cell_type": "code",
   "execution_count": 564,
   "metadata": {},
   "outputs": [
    {
     "name": "stdout",
     "output_type": "stream",
     "text": [
      "Alexis\n"
     ]
    }
   ],
   "source": [
    "def say_my_name(name):\n",
    "    print(name)\n",
    "\n",
    "say_my_name(\"Alexis\")"
   ]
  },
  {
   "cell_type": "markdown",
   "metadata": {},
   "source": [
    "Function with:\n",
    "- an argument\n",
    "- a return"
   ]
  },
  {
   "cell_type": "code",
   "execution_count": 565,
   "metadata": {},
   "outputs": [
    {
     "data": {
      "text/plain": [
       "16"
      ]
     },
     "execution_count": 565,
     "metadata": {},
     "output_type": "execute_result"
    }
   ],
   "source": [
    "def square(x):\n",
    "    return x**2\n",
    "\n",
    "result = square(4)\n",
    "result"
   ]
  },
  {
   "cell_type": "markdown",
   "metadata": {},
   "source": [
    "Function with:\n",
    "- multiple arguments\n",
    "- a return"
   ]
  },
  {
   "cell_type": "code",
   "execution_count": 566,
   "metadata": {},
   "outputs": [
    {
     "data": {
      "text/plain": [
       "15"
      ]
     },
     "execution_count": 566,
     "metadata": {},
     "output_type": "execute_result"
    }
   ],
   "source": [
    "def add(a, b, c):\n",
    "    return a + b + c\n",
    "\n",
    "result = add(4, 2, 9)\n",
    "result"
   ]
  },
  {
   "cell_type": "markdown",
   "metadata": {},
   "source": [
    "Function with:\n",
    "- no argument\n",
    "- multiple returns"
   ]
  },
  {
   "cell_type": "code",
   "execution_count": 567,
   "metadata": {},
   "outputs": [
    {
     "data": {
      "text/plain": [
       "('alexis', 'bogroff', 'data')"
      ]
     },
     "execution_count": 567,
     "metadata": {},
     "output_type": "execute_result"
    }
   ],
   "source": [
    "def return_many_things():\n",
    "    return 'alexis', 'bogroff', 'data'\n",
    "\n",
    "return_many_things()"
   ]
  },
  {
   "cell_type": "code",
   "execution_count": 568,
   "metadata": {},
   "outputs": [
    {
     "name": "stdout",
     "output_type": "stream",
     "text": [
      "alexis\n",
      "bogroff\n",
      "data\n"
     ]
    }
   ],
   "source": [
    "# Get the result in separate variables\n",
    "r_1, r_2, r_3 = return_many_things()\n",
    "print(r_1)\n",
    "print(r_2)\n",
    "print(r_3)"
   ]
  },
  {
   "cell_type": "markdown",
   "metadata": {},
   "source": [
    "Function with:\n",
    "- a keyword argument\n",
    "    - is thus optional\n",
    "    - must be positioned after the positional arguments\n",
    "- no return"
   ]
  },
  {
   "cell_type": "code",
   "execution_count": 569,
   "metadata": {},
   "outputs": [
    {
     "name": "stdout",
     "output_type": "stream",
     "text": [
      "Alexis doing data\n",
      "Alexis doing writing the course\n"
     ]
    }
   ],
   "source": [
    "def say_what_you_doing(name, course='data'):\n",
    "    print(f\"{name} doing {course}\")\n",
    "\n",
    "say_what_you_doing(\"Alexis\")\n",
    "say_what_you_doing(\"Alexis\", \"writing the course\")"
   ]
  },
  {
   "cell_type": "markdown",
   "metadata": {},
   "source": [
    "Function with:\n",
    "- a (positional) argument awaiting a function\n",
    "- no return"
   ]
  },
  {
   "cell_type": "code",
   "execution_count": 570,
   "metadata": {},
   "outputs": [
    {
     "name": "stdout",
     "output_type": "stream",
     "text": [
      "This function will say\n",
      "Something\n"
     ]
    }
   ],
   "source": [
    "def complex_fct(func):\n",
    "    print(\"This function will say\")\n",
    "    func()\n",
    "\n",
    "complex_fct(say_something)"
   ]
  },
  {
   "cell_type": "markdown",
   "metadata": {},
   "source": [
    "--------------------------------\n",
    "Question\n",
    "\n",
    "1. Create a function named: salutation\n",
    "2. Make the function say: hello\n",
    "3. Call the function"
   ]
  },
  {
   "cell_type": "code",
   "execution_count": 49,
   "metadata": {},
   "outputs": [
    {
     "name": "stdout",
     "output_type": "stream",
     "text": [
      "hello\n"
     ]
    }
   ],
   "source": [
    "### =====                ==== ####\n",
    "###       YOUR CODE HERE      ####\n",
    "### =====                ==== ####\n",
    "def salutation():\n",
    "    print('hello')\n",
    "\n",
    "salutation()"
   ]
  },
  {
   "cell_type": "markdown",
   "metadata": {},
   "source": [
    "--------------------------------\n",
    "Question\n",
    "\n",
    "1. Create a function named: salutation_perso\n",
    "2. The function should take an argument named: surname\n",
    "2. Make the function say: hello [surname]\n",
    "3. Call the function\n",
    "\n",
    "e.g. with a surname set to alexis, the function should return:\n",
    "```\n",
    "hello alexis\n",
    "```"
   ]
  },
  {
   "cell_type": "code",
   "execution_count": 51,
   "metadata": {},
   "outputs": [
    {
     "name": "stdout",
     "output_type": "stream",
     "text": [
      "hello alexis\n"
     ]
    }
   ],
   "source": [
    "### =====                ==== ####\n",
    "###       YOUR CODE HERE      ####\n",
    "### =====                ==== ####\n",
    "def salutation_perso(surname):\n",
    "    print(f'hello {surname}')\n",
    "\n",
    "salutation_perso('alexis')"
   ]
  },
  {
   "cell_type": "markdown",
   "metadata": {},
   "source": [
    "--------------------------------\n",
    "Question\n",
    "\n",
    "1. Create a function named: get_small_stu\n",
    "2. The function should take a dictionary as argument named: students\n",
    "2. Make the function return a tuple containing the a pair of key/value where the value is smaller than 120\n",
    "3. Call the function by passing your previous dictionary (dico_stu) as argument\n",
    "\n",
    "e.g. for the above input, the function could return:\n",
    "```\n",
    "('mani', 110)\n",
    "```"
   ]
  },
  {
   "cell_type": "code",
   "execution_count": 53,
   "metadata": {},
   "outputs": [
    {
     "data": {
      "text/plain": [
       "('mani', 110)"
      ]
     },
     "execution_count": 53,
     "metadata": {},
     "output_type": "execute_result"
    }
   ],
   "source": [
    "### =====                ==== ####\n",
    "###       YOUR CODE HERE      ####\n",
    "### =====                ==== ####\n",
    "def get_small_stu(students):\n",
    "    for name in students:\n",
    "        if students[name] < 120:\n",
    "            return (name, students[name])\n",
    "\n",
    "get_small_stu(dico_stu)"
   ]
  },
  {
   "cell_type": "markdown",
   "metadata": {},
   "source": [
    "## Lists comprehension<a class=anchor id=lists_comprehension></a>"
   ]
  },
  {
   "cell_type": "markdown",
   "metadata": {},
   "source": [
    "The standard way to create a list from a loop"
   ]
  },
  {
   "cell_type": "code",
   "execution_count": 62,
   "metadata": {},
   "outputs": [],
   "source": [
    "l_loop = []\n",
    "for i in range(10000):\n",
    "    l_loop.append(i**2)"
   ]
  },
  {
   "cell_type": "markdown",
   "metadata": {},
   "source": [
    "The efficient way, list comprehension\n",
    "\n",
    "Advantage:\n",
    "- one liner\n",
    "- more efficient computation (faster)\n",
    "\n",
    "Disadvantages:\n",
    "- less readable\n",
    "- not possible for complex operations within the loop"
   ]
  },
  {
   "cell_type": "code",
   "execution_count": 77,
   "metadata": {},
   "outputs": [
    {
     "data": {
      "text/plain": [
       "[11, 14, 12, 19, 14]"
      ]
     },
     "execution_count": 77,
     "metadata": {},
     "output_type": "execute_result"
    }
   ],
   "source": [
    "l_comprehension = [i+10 for i in [1, 4, 2, 9, 4]]\n",
    "l_comprehension"
   ]
  },
  {
   "cell_type": "code",
   "execution_count": 78,
   "metadata": {},
   "outputs": [
    {
     "data": {
      "text/plain": [
       "[('a', 1, 11), ('a', 4, 14), ('a', 2, 12), ('a', 9, 19), ('a', 4, 14)]"
      ]
     },
     "execution_count": 78,
     "metadata": {},
     "output_type": "execute_result"
    }
   ],
   "source": [
    "# Generate complex elements in the list\n",
    "l_comprehension = [('a', i, i+10) for i in [1, 4, 2, 9, 4]]\n",
    "l_comprehension"
   ]
  },
  {
   "cell_type": "code",
   "execution_count": 69,
   "metadata": {},
   "outputs": [
    {
     "data": {
      "text/plain": [
       "[0, 1, 4, 9, 16]"
      ]
     },
     "execution_count": 69,
     "metadata": {},
     "output_type": "execute_result"
    }
   ],
   "source": [
    "# Use range to create a long list\n",
    "l_comprehension = [i**2 for i in range(10000)]\n",
    "l_comprehension[:5]"
   ]
  },
  {
   "cell_type": "markdown",
   "metadata": {},
   "source": [
    "Use a condition"
   ]
  },
  {
   "cell_type": "code",
   "execution_count": 68,
   "metadata": {},
   "outputs": [
    {
     "data": {
      "text/plain": [
       "[0, 100, 400, 900, 1600]"
      ]
     },
     "execution_count": 68,
     "metadata": {},
     "output_type": "execute_result"
    }
   ],
   "source": [
    "l_comprehension = [i**2 for i in range(10000) if i%10==0]\n",
    "l_comprehension[:5]"
   ]
  },
  {
   "cell_type": "markdown",
   "metadata": {},
   "source": [
    "Use a more complex condition (it requires to write the if at the beginning)"
   ]
  },
  {
   "cell_type": "code",
   "execution_count": 74,
   "metadata": {},
   "outputs": [
    {
     "data": {
      "text/plain": [
       "[0, 1, 4, 3, 16]"
      ]
     },
     "execution_count": 74,
     "metadata": {},
     "output_type": "execute_result"
    }
   ],
   "source": [
    "l_comprehension = [i**2 if i%2==0 else i for i in range(10000)]\n",
    "l_comprehension[:5]"
   ]
  },
  {
   "cell_type": "markdown",
   "metadata": {},
   "source": [
    "--------------------------------\n",
    "Question\n",
    "\n",
    "1. Write a list comprehension that generates the following output (using your dictionary dico_stu)\n",
    "\n",
    "```\n",
    "['Student pilou is 121 tall',\n",
    " 'Student balo is 141 tall',\n",
    " 'Student pata is 145 tall',\n",
    " 'Student mani is 110 tall',\n",
    " 'Student tika is 115 tall',\n",
    " 'Student bibi is 130 tall',\n",
    " 'Student theo is 140 tall']\n",
    "```"
   ]
  },
  {
   "cell_type": "code",
   "execution_count": 84,
   "metadata": {},
   "outputs": [
    {
     "data": {
      "text/plain": [
       "['Student pilou is 121 tall',\n",
       " 'Student balo is 141 tall',\n",
       " 'Student pata is 145 tall',\n",
       " 'Student mani is 110 tall',\n",
       " 'Student tika is 115 tall',\n",
       " 'Student bibi is 130 tall',\n",
       " 'Student theo is 140 tall']"
      ]
     },
     "execution_count": 84,
     "metadata": {},
     "output_type": "execute_result"
    }
   ],
   "source": [
    "### =====                ==== ####\n",
    "###       YOUR CODE HERE      ####\n",
    "### =====                ==== ####\n",
    "[f'Student {name} is {size} tall' for name, size in dico_stu.items()]"
   ]
  },
  {
   "cell_type": "markdown",
   "metadata": {},
   "source": [
    "--------------------------------\n",
    "Question\n",
    "\n",
    "1. Modify your list comprehension in order to generate only sentences for students taller than 115\n",
    "\n",
    "It should generate the following list\n",
    "```\n",
    "['Student balo is 141 tall',\n",
    " 'Student pata is 145 tall',\n",
    " 'Student theo is 140 tall']\n",
    "```"
   ]
  },
  {
   "cell_type": "code",
   "execution_count": 86,
   "metadata": {},
   "outputs": [
    {
     "data": {
      "text/plain": [
       "['Student balo is 141 tall',\n",
       " 'Student pata is 145 tall',\n",
       " 'Student theo is 140 tall']"
      ]
     },
     "execution_count": 86,
     "metadata": {},
     "output_type": "execute_result"
    }
   ],
   "source": [
    "### =====                ==== ####\n",
    "###       YOUR CODE HERE      ####\n",
    "### =====                ==== ####\n",
    "[f'Student {name} is {size} tall' for name, size in dico_stu.items() if size > 130]"
   ]
  },
  {
   "cell_type": "markdown",
   "metadata": {},
   "source": [
    "--------------------------------\n",
    "Question\n",
    "\n",
    "1. Modify your list comprehension in order to generate:\n",
    "- the same sentence for students taller than 115\n",
    "- the following sentence otherwise: Student [name] is smaller than 130\n",
    "\n",
    "It should generate the following list\n",
    "```\n",
    "['Student pilou is smaller than 130',\n",
    " 'Student balo is 141 tall',\n",
    " 'Student pata is 145 tall',\n",
    " 'Student mani is smaller than 130',\n",
    " 'Student tika is smaller than 130',\n",
    " 'Student bibi is smaller than 130',\n",
    " 'Student theo is 140 tall']\n",
    "```"
   ]
  },
  {
   "cell_type": "code",
   "execution_count": 87,
   "metadata": {},
   "outputs": [
    {
     "data": {
      "text/plain": [
       "['Student pilou is smaller than 130',\n",
       " 'Student balo is 141 tall',\n",
       " 'Student pata is 145 tall',\n",
       " 'Student mani is smaller than 130',\n",
       " 'Student tika is smaller than 130',\n",
       " 'Student bibi is smaller than 130',\n",
       " 'Student theo is 140 tall']"
      ]
     },
     "execution_count": 87,
     "metadata": {},
     "output_type": "execute_result"
    }
   ],
   "source": [
    "### =====                ==== ####\n",
    "###       YOUR CODE HERE      ####\n",
    "### =====                ==== ####\n",
    "[f'Student {name} is {size} tall' if size > 130 else f'Student {name} is smaller than 130' for name, size in dico_stu.items()]"
   ]
  },
  {
   "cell_type": "markdown",
   "metadata": {},
   "source": [
    "## Format strings<a class=anchor id=format_strings></a>\n",
    "Combine text with variables"
   ]
  },
  {
   "cell_type": "markdown",
   "metadata": {},
   "source": [
    "Simple formats"
   ]
  },
  {
   "cell_type": "code",
   "execution_count": null,
   "metadata": {},
   "outputs": [
    {
     "name": "stdout",
     "output_type": "stream",
     "text": [
      "4983\n",
      "Result 4983\n"
     ]
    }
   ],
   "source": [
    "val_ex = 4983\n",
    "print('Result', val_ex)"
   ]
  },
  {
   "cell_type": "markdown",
   "metadata": {},
   "source": [
    "Advanced format V1: .format()"
   ]
  },
  {
   "cell_type": "code",
   "execution_count": 572,
   "metadata": {},
   "outputs": [],
   "source": [
    "l = []\n",
    "for i in range(10):\n",
    "    l.append(\"{}\".format(i))\n",
    "\n",
    "l = []\n",
    "for i in range(10):\n",
    "    l.append(\"{0}\".format(i))\n",
    "\n",
    "l = []\n",
    "for i in range(10):\n",
    "    l.append(\"{num}\".format(num=i))"
   ]
  },
  {
   "cell_type": "markdown",
   "metadata": {},
   "source": [
    "Advanced format V2 (since Python 3.6): 'f' format"
   ]
  },
  {
   "cell_type": "code",
   "execution_count": 573,
   "metadata": {},
   "outputs": [],
   "source": [
    "l = []\n",
    "for i in range(10):\n",
    "    l.append(f\"{i}\")"
   ]
  },
  {
   "cell_type": "markdown",
   "metadata": {},
   "source": [
    "--------------------------------\n",
    "Question\n",
    "\n",
    "1. Re-use your old list lst, containing [12, 13, 14, 12]\n",
    "2. Using the 3 different formats presented above, your code should display:\n",
    "- The first element is: [first_value]\n",
    "\n",
    "For the 3 outputs it should generate the following list\n",
    "```\n",
    "The first element is: 12\n",
    "The first element is: 12\n",
    "The first element is: 12\n",
    "```"
   ]
  },
  {
   "cell_type": "code",
   "execution_count": 93,
   "metadata": {},
   "outputs": [
    {
     "name": "stdout",
     "output_type": "stream",
     "text": [
      "The first element is: 12\n",
      "The first element is: 12\n",
      "The first element is: 12\n"
     ]
    }
   ],
   "source": [
    "### =====                ==== ####\n",
    "###       YOUR CODE HERE      ####\n",
    "### =====                ==== ####\n",
    "print('The first element is:', lst[0])\n",
    "print(f'The first element is: {lst[0]}')\n",
    "print('The first element is: {}'.format(lst[0]))"
   ]
  },
  {
   "cell_type": "markdown",
   "metadata": {},
   "source": [
    "## Pandas<a class=anchor id=pandas></a>"
   ]
  },
  {
   "cell_type": "markdown",
   "metadata": {},
   "source": [
    "### Create Series"
   ]
  },
  {
   "cell_type": "code",
   "execution_count": 651,
   "metadata": {},
   "outputs": [
    {
     "data": {
      "text/plain": [
       "a    [1.5, 2.2, 4.9, 3.4, 5.9]\n",
       "dtype: object"
      ]
     },
     "execution_count": 651,
     "metadata": {},
     "output_type": "execute_result"
    }
   ],
   "source": [
    "s = pd.Series({'a': [1.5, 2.2, 4.9, 3.4, 5.9]})\n",
    "s"
   ]
  },
  {
   "cell_type": "markdown",
   "metadata": {},
   "source": [
    "--------------------------------\n",
    "Question\n",
    "\n",
    "1. Create a pandas Series named: grades\n",
    "2. The Series should contain the following values: [12, 13, 14, 12]\n",
    "3. Store the Series in a variable named s_stu\n",
    "3. Display the Series\n",
    "\n",
    "It should generate the following output\n",
    "```\n",
    "grades    [12, 13, 14, 12]\n",
    "dtype: object\n",
    "```"
   ]
  },
  {
   "cell_type": "code",
   "execution_count": 95,
   "metadata": {},
   "outputs": [
    {
     "data": {
      "text/plain": [
       "grades    [12, 13, 14, 12]\n",
       "dtype: object"
      ]
     },
     "execution_count": 95,
     "metadata": {},
     "output_type": "execute_result"
    }
   ],
   "source": [
    "### =====                ==== ####\n",
    "###       YOUR CODE HERE      ####\n",
    "### =====                ==== ####\n",
    "s_stu = pd.Series({'grades': [12, 13, 14, 12]})\n",
    "s_stu"
   ]
  },
  {
   "cell_type": "markdown",
   "metadata": {},
   "source": [
    "### Create DataFrame (manually)"
   ]
  },
  {
   "cell_type": "code",
   "execution_count": 28,
   "metadata": {},
   "outputs": [],
   "source": [
    "students = {\n",
    "    'names': ['ali', 'zoe', 'moh'],\n",
    "    'age': [10, 12, 9],\n",
    "}\n",
    "\n",
    "df = pd.DataFrame(students)"
   ]
  },
  {
   "cell_type": "code",
   "execution_count": 21,
   "metadata": {},
   "outputs": [
    {
     "data": {
      "text/html": [
       "<div>\n",
       "<style scoped>\n",
       "    .dataframe tbody tr th:only-of-type {\n",
       "        vertical-align: middle;\n",
       "    }\n",
       "\n",
       "    .dataframe tbody tr th {\n",
       "        vertical-align: top;\n",
       "    }\n",
       "\n",
       "    .dataframe thead th {\n",
       "        text-align: right;\n",
       "    }\n",
       "</style>\n",
       "<table border=\"1\" class=\"dataframe\">\n",
       "  <thead>\n",
       "    <tr style=\"text-align: right;\">\n",
       "      <th></th>\n",
       "      <th>names</th>\n",
       "      <th>age</th>\n",
       "    </tr>\n",
       "  </thead>\n",
       "  <tbody>\n",
       "    <tr>\n",
       "      <th>0</th>\n",
       "      <td>ali</td>\n",
       "      <td>10</td>\n",
       "    </tr>\n",
       "    <tr>\n",
       "      <th>1</th>\n",
       "      <td>zoe</td>\n",
       "      <td>12</td>\n",
       "    </tr>\n",
       "    <tr>\n",
       "      <th>2</th>\n",
       "      <td>moh</td>\n",
       "      <td>9</td>\n",
       "    </tr>\n",
       "  </tbody>\n",
       "</table>\n",
       "</div>"
      ],
      "text/plain": [
       "  names  age\n",
       "0   ali   10\n",
       "1   zoe   12\n",
       "2   moh    9"
      ]
     },
     "execution_count": 21,
     "metadata": {},
     "output_type": "execute_result"
    }
   ],
   "source": [
    "df"
   ]
  },
  {
   "cell_type": "markdown",
   "metadata": {},
   "source": [
    "--------------------------------\n",
    "Question\n",
    "\n",
    "1. Create a pandas DataFrame\n",
    "2. The DataFrame should contain two Series:\n",
    "- names: liu, fuy, tio, kape\n",
    "- grades: 12, 13, 14, 12\n",
    "3. Store the DataFrame in a variable named df_stu\n",
    "3. Display the DataFrame\n",
    "\n",
    "It should generate the following output\n",
    "```\n",
    "\tnames\tgrades\n",
    "0\tliu\t12\n",
    "1\tfuy\t13\n",
    "2\ttio\t14\n",
    "3\tkape\t12\n",
    "```"
   ]
  },
  {
   "cell_type": "code",
   "execution_count": 98,
   "metadata": {},
   "outputs": [
    {
     "data": {
      "text/html": [
       "<div>\n",
       "<style scoped>\n",
       "    .dataframe tbody tr th:only-of-type {\n",
       "        vertical-align: middle;\n",
       "    }\n",
       "\n",
       "    .dataframe tbody tr th {\n",
       "        vertical-align: top;\n",
       "    }\n",
       "\n",
       "    .dataframe thead th {\n",
       "        text-align: right;\n",
       "    }\n",
       "</style>\n",
       "<table border=\"1\" class=\"dataframe\">\n",
       "  <thead>\n",
       "    <tr style=\"text-align: right;\">\n",
       "      <th></th>\n",
       "      <th>names</th>\n",
       "      <th>grades</th>\n",
       "    </tr>\n",
       "  </thead>\n",
       "  <tbody>\n",
       "    <tr>\n",
       "      <th>0</th>\n",
       "      <td>liu</td>\n",
       "      <td>12</td>\n",
       "    </tr>\n",
       "    <tr>\n",
       "      <th>1</th>\n",
       "      <td>fuy</td>\n",
       "      <td>13</td>\n",
       "    </tr>\n",
       "    <tr>\n",
       "      <th>2</th>\n",
       "      <td>tio</td>\n",
       "      <td>14</td>\n",
       "    </tr>\n",
       "    <tr>\n",
       "      <th>3</th>\n",
       "      <td>kape</td>\n",
       "      <td>12</td>\n",
       "    </tr>\n",
       "  </tbody>\n",
       "</table>\n",
       "</div>"
      ],
      "text/plain": [
       "  names  grades\n",
       "0   liu      12\n",
       "1   fuy      13\n",
       "2   tio      14\n",
       "3  kape      12"
      ]
     },
     "execution_count": 98,
     "metadata": {},
     "output_type": "execute_result"
    }
   ],
   "source": [
    "### =====                ==== ####\n",
    "###       YOUR CODE HERE      ####\n",
    "### =====                ==== ####\n",
    "dico_stu_grades = {\n",
    "    'names': ['liu', 'fuy', 'tio', 'kape'],\n",
    "    'grades': [12, 13, 14, 12],\n",
    "}\n",
    "df_stu = pd.DataFrame(dico_stu_grades)\n",
    "df_stu"
   ]
  },
  {
   "cell_type": "markdown",
   "metadata": {},
   "source": [
    "- Add index names for the purpose of this exercise: index are like the names of the lines\n",
    "- In Excel, it ranges from 0 to +100000... and is generated automatically. It actually represents the number of the line.\n",
    "- But in pandas DataFrames, it can represent anything (dates, client_id, even numbers in disorder)\n",
    "- It corresponds to a default primary key"
   ]
  },
  {
   "cell_type": "code",
   "execution_count": 38,
   "metadata": {},
   "outputs": [],
   "source": [
    "df.index = ['stu_1', 'stu_2', 'stu_3']"
   ]
  },
  {
   "cell_type": "code",
   "execution_count": 39,
   "metadata": {},
   "outputs": [
    {
     "data": {
      "text/plain": [
       "Index(['stu_1', 'stu_2', 'stu_3'], dtype='object')"
      ]
     },
     "execution_count": 39,
     "metadata": {},
     "output_type": "execute_result"
    }
   ],
   "source": [
    "df.index"
   ]
  },
  {
   "cell_type": "code",
   "execution_count": 40,
   "metadata": {},
   "outputs": [
    {
     "data": {
      "text/html": [
       "<div>\n",
       "<style scoped>\n",
       "    .dataframe tbody tr th:only-of-type {\n",
       "        vertical-align: middle;\n",
       "    }\n",
       "\n",
       "    .dataframe tbody tr th {\n",
       "        vertical-align: top;\n",
       "    }\n",
       "\n",
       "    .dataframe thead th {\n",
       "        text-align: right;\n",
       "    }\n",
       "</style>\n",
       "<table border=\"1\" class=\"dataframe\">\n",
       "  <thead>\n",
       "    <tr style=\"text-align: right;\">\n",
       "      <th></th>\n",
       "      <th>names</th>\n",
       "      <th>age</th>\n",
       "      <th>ages</th>\n",
       "    </tr>\n",
       "  </thead>\n",
       "  <tbody>\n",
       "    <tr>\n",
       "      <th>stu_1</th>\n",
       "      <td>ali</td>\n",
       "      <td>10</td>\n",
       "      <td>10</td>\n",
       "    </tr>\n",
       "    <tr>\n",
       "      <th>stu_2</th>\n",
       "      <td>zoe</td>\n",
       "      <td>12</td>\n",
       "      <td>12</td>\n",
       "    </tr>\n",
       "    <tr>\n",
       "      <th>stu_3</th>\n",
       "      <td>moh</td>\n",
       "      <td>9</td>\n",
       "      <td>9</td>\n",
       "    </tr>\n",
       "  </tbody>\n",
       "</table>\n",
       "</div>"
      ],
      "text/plain": [
       "      names  age  ages\n",
       "stu_1   ali   10    10\n",
       "stu_2   zoe   12    12\n",
       "stu_3   moh    9     9"
      ]
     },
     "execution_count": 40,
     "metadata": {},
     "output_type": "execute_result"
    }
   ],
   "source": [
    "df"
   ]
  },
  {
   "cell_type": "markdown",
   "metadata": {},
   "source": [
    "The above DataFrame is composed of 2 Series (a specific object / in column)"
   ]
  },
  {
   "cell_type": "code",
   "execution_count": 579,
   "metadata": {},
   "outputs": [
    {
     "data": {
      "text/plain": [
       "stu_1    10\n",
       "stu_2    12\n",
       "stu_3     9\n",
       "Name: age, dtype: int64"
      ]
     },
     "execution_count": 579,
     "metadata": {},
     "output_type": "execute_result"
    }
   ],
   "source": [
    "# Get a single Series\n",
    "df['age']"
   ]
  },
  {
   "cell_type": "markdown",
   "metadata": {},
   "source": [
    "Multiply by 2 each element of 'nums'"
   ]
  },
  {
   "cell_type": "code",
   "execution_count": 580,
   "metadata": {},
   "outputs": [],
   "source": [
    "df_temp = df.copy()"
   ]
  },
  {
   "cell_type": "code",
   "execution_count": 581,
   "metadata": {},
   "outputs": [],
   "source": [
    "# /!\\ Never do it this way (loops) /!\\\n",
    "for i, val in enumerate(df_temp['age']):\n",
    "    df_temp.loc[i, 'age'] = val * 2"
   ]
  },
  {
   "cell_type": "code",
   "execution_count": 582,
   "metadata": {},
   "outputs": [
    {
     "data": {
      "text/html": [
       "<div>\n",
       "<style scoped>\n",
       "    .dataframe tbody tr th:only-of-type {\n",
       "        vertical-align: middle;\n",
       "    }\n",
       "\n",
       "    .dataframe tbody tr th {\n",
       "        vertical-align: top;\n",
       "    }\n",
       "\n",
       "    .dataframe thead th {\n",
       "        text-align: right;\n",
       "    }\n",
       "</style>\n",
       "<table border=\"1\" class=\"dataframe\">\n",
       "  <thead>\n",
       "    <tr style=\"text-align: right;\">\n",
       "      <th></th>\n",
       "      <th>names</th>\n",
       "      <th>age</th>\n",
       "    </tr>\n",
       "  </thead>\n",
       "  <tbody>\n",
       "    <tr>\n",
       "      <th>stu_1</th>\n",
       "      <td>ali</td>\n",
       "      <td>10.0</td>\n",
       "    </tr>\n",
       "    <tr>\n",
       "      <th>stu_2</th>\n",
       "      <td>zoe</td>\n",
       "      <td>12.0</td>\n",
       "    </tr>\n",
       "    <tr>\n",
       "      <th>stu_3</th>\n",
       "      <td>moh</td>\n",
       "      <td>9.0</td>\n",
       "    </tr>\n",
       "    <tr>\n",
       "      <th>0</th>\n",
       "      <td>NaN</td>\n",
       "      <td>20.0</td>\n",
       "    </tr>\n",
       "    <tr>\n",
       "      <th>1</th>\n",
       "      <td>NaN</td>\n",
       "      <td>24.0</td>\n",
       "    </tr>\n",
       "    <tr>\n",
       "      <th>2</th>\n",
       "      <td>NaN</td>\n",
       "      <td>18.0</td>\n",
       "    </tr>\n",
       "  </tbody>\n",
       "</table>\n",
       "</div>"
      ],
      "text/plain": [
       "      names   age\n",
       "stu_1   ali  10.0\n",
       "stu_2   zoe  12.0\n",
       "stu_3   moh   9.0\n",
       "0       NaN  20.0\n",
       "1       NaN  24.0\n",
       "2       NaN  18.0"
      ]
     },
     "execution_count": 582,
     "metadata": {},
     "output_type": "execute_result"
    }
   ],
   "source": [
    "df_temp"
   ]
  },
  {
   "cell_type": "markdown",
   "metadata": {},
   "source": [
    "- On large DataFrames this is very slow (inefficient)\n",
    "- It's also more difficul to read"
   ]
  },
  {
   "cell_type": "code",
   "execution_count": 583,
   "metadata": {},
   "outputs": [],
   "source": [
    "df_temp = df.copy()"
   ]
  },
  {
   "cell_type": "code",
   "execution_count": 584,
   "metadata": {},
   "outputs": [],
   "source": [
    "# Do this way (vectorized)\n",
    "df_temp['age'] = df_temp['age'] * 2"
   ]
  },
  {
   "cell_type": "markdown",
   "metadata": {},
   "source": [
    "--------------------------------\n",
    "Question\n",
    "\n",
    "1. Using your DataFrame df_stu\n",
    "2. Add 3 to each grade\n",
    "3. Store the new grade vector as a new column in the DataFrame under the name: grades_harmonized\n",
    "3. Display the DataFrame\n",
    "\n",
    "It should generate the following output\n",
    "```\n",
    "\tnames\tgrades\tgrades_harmonized\n",
    "0\tliu\t12\t15\n",
    "1\tfuy\t13\t16\n",
    "2\ttio\t14\t17\n",
    "3\tkape\t12\t15\n",
    "```"
   ]
  },
  {
   "cell_type": "code",
   "execution_count": 101,
   "metadata": {},
   "outputs": [
    {
     "data": {
      "text/html": [
       "<div>\n",
       "<style scoped>\n",
       "    .dataframe tbody tr th:only-of-type {\n",
       "        vertical-align: middle;\n",
       "    }\n",
       "\n",
       "    .dataframe tbody tr th {\n",
       "        vertical-align: top;\n",
       "    }\n",
       "\n",
       "    .dataframe thead th {\n",
       "        text-align: right;\n",
       "    }\n",
       "</style>\n",
       "<table border=\"1\" class=\"dataframe\">\n",
       "  <thead>\n",
       "    <tr style=\"text-align: right;\">\n",
       "      <th></th>\n",
       "      <th>names</th>\n",
       "      <th>grades</th>\n",
       "      <th>grades_harmonized</th>\n",
       "    </tr>\n",
       "  </thead>\n",
       "  <tbody>\n",
       "    <tr>\n",
       "      <th>0</th>\n",
       "      <td>liu</td>\n",
       "      <td>12</td>\n",
       "      <td>15</td>\n",
       "    </tr>\n",
       "    <tr>\n",
       "      <th>1</th>\n",
       "      <td>fuy</td>\n",
       "      <td>13</td>\n",
       "      <td>16</td>\n",
       "    </tr>\n",
       "    <tr>\n",
       "      <th>2</th>\n",
       "      <td>tio</td>\n",
       "      <td>14</td>\n",
       "      <td>17</td>\n",
       "    </tr>\n",
       "    <tr>\n",
       "      <th>3</th>\n",
       "      <td>kape</td>\n",
       "      <td>12</td>\n",
       "      <td>15</td>\n",
       "    </tr>\n",
       "  </tbody>\n",
       "</table>\n",
       "</div>"
      ],
      "text/plain": [
       "  names  grades  grades_harmonized\n",
       "0   liu      12                 15\n",
       "1   fuy      13                 16\n",
       "2   tio      14                 17\n",
       "3  kape      12                 15"
      ]
     },
     "execution_count": 101,
     "metadata": {},
     "output_type": "execute_result"
    }
   ],
   "source": [
    "### =====                ==== ####\n",
    "###       YOUR CODE HERE      ####\n",
    "### =====                ==== ####\n",
    "df_stu['grades_harmonized'] = df_stu['grades'] + 3\n",
    "df_stu"
   ]
  },
  {
   "cell_type": "markdown",
   "metadata": {},
   "source": [
    "### Access data"
   ]
  },
  {
   "cell_type": "markdown",
   "metadata": {},
   "source": [
    "#### Get column"
   ]
  },
  {
   "cell_type": "code",
   "execution_count": 585,
   "metadata": {},
   "outputs": [
    {
     "data": {
      "text/plain": [
       "stu_1    10\n",
       "stu_2    12\n",
       "stu_3     9\n",
       "Name: age, dtype: int64"
      ]
     },
     "execution_count": 585,
     "metadata": {},
     "output_type": "execute_result"
    }
   ],
   "source": [
    "df['age']"
   ]
  },
  {
   "cell_type": "code",
   "execution_count": 586,
   "metadata": {},
   "outputs": [
    {
     "data": {
      "text/plain": [
       "stu_1    ali\n",
       "stu_2    zoe\n",
       "stu_3    moh\n",
       "Name: names, dtype: object"
      ]
     },
     "execution_count": 586,
     "metadata": {},
     "output_type": "execute_result"
    }
   ],
   "source": [
    "df['names']"
   ]
  },
  {
   "cell_type": "markdown",
   "metadata": {},
   "source": [
    "--------------------------------\n",
    "Question\n",
    "\n",
    "1. Using your DataFrame df_stu\n",
    "2. Display the column grades_harmonized\n",
    "\n",
    "It should generate the following output\n",
    "```\n",
    "0    15\n",
    "1    16\n",
    "2    17\n",
    "3    15\n",
    "Name: grades_harmonized, dtype: int64\n",
    "```"
   ]
  },
  {
   "cell_type": "code",
   "execution_count": 103,
   "metadata": {},
   "outputs": [
    {
     "data": {
      "text/plain": [
       "0    15\n",
       "1    16\n",
       "2    17\n",
       "3    15\n",
       "Name: grades_harmonized, dtype: int64"
      ]
     },
     "execution_count": 103,
     "metadata": {},
     "output_type": "execute_result"
    }
   ],
   "source": [
    "### =====                ==== ####\n",
    "###       YOUR CODE HERE      ####\n",
    "### =====                ==== ####\n",
    "df_stu['grades_harmonized']"
   ]
  },
  {
   "cell_type": "markdown",
   "metadata": {},
   "source": [
    "### Get specific row"
   ]
  },
  {
   "cell_type": "markdown",
   "metadata": {},
   "source": [
    "Using its relative position"
   ]
  },
  {
   "cell_type": "code",
   "execution_count": 587,
   "metadata": {},
   "outputs": [
    {
     "data": {
      "text/plain": [
       "names    ali\n",
       "age       10\n",
       "Name: stu_1, dtype: object"
      ]
     },
     "execution_count": 587,
     "metadata": {},
     "output_type": "execute_result"
    }
   ],
   "source": [
    "df.iloc[0]"
   ]
  },
  {
   "cell_type": "code",
   "execution_count": 588,
   "metadata": {},
   "outputs": [
    {
     "data": {
      "text/plain": [
       "names    moh\n",
       "age        9\n",
       "Name: stu_3, dtype: object"
      ]
     },
     "execution_count": 588,
     "metadata": {},
     "output_type": "execute_result"
    }
   ],
   "source": [
    "df.iloc[-1]"
   ]
  },
  {
   "cell_type": "markdown",
   "metadata": {},
   "source": [
    "Using its index name \n",
    "- be careful, the first line is always at **position** 0\n",
    "- also, in many cases the index is named 0, 1, 2, 3, etc. thus, the first line is also named 0! (which could have been different from its relative position)"
   ]
  },
  {
   "cell_type": "code",
   "execution_count": 589,
   "metadata": {},
   "outputs": [
    {
     "data": {
      "text/plain": [
       "names    zoe\n",
       "age       12\n",
       "Name: stu_2, dtype: object"
      ]
     },
     "execution_count": 589,
     "metadata": {},
     "output_type": "execute_result"
    }
   ],
   "source": [
    "df.loc['stu_2']"
   ]
  },
  {
   "cell_type": "markdown",
   "metadata": {},
   "source": [
    "--------------------------------\n",
    "Question\n",
    "\n",
    "1. Using your DataFrame df_stu\n",
    "2. Display the last row\n",
    "\n",
    "It should generate the following output\n",
    "```\n",
    "names                kape\n",
    "grades                 12\n",
    "grades_harmonized      15\n",
    "Name: 3, dtype: object\n",
    "```"
   ]
  },
  {
   "cell_type": "code",
   "execution_count": 105,
   "metadata": {},
   "outputs": [
    {
     "data": {
      "text/plain": [
       "names                kape\n",
       "grades                 12\n",
       "grades_harmonized      15\n",
       "Name: 3, dtype: object"
      ]
     },
     "execution_count": 105,
     "metadata": {},
     "output_type": "execute_result"
    }
   ],
   "source": [
    "### =====                ==== ####\n",
    "###       YOUR CODE HERE      ####\n",
    "### =====                ==== ####\n",
    "df_stu.iloc[-1]"
   ]
  },
  {
   "cell_type": "markdown",
   "metadata": {},
   "source": [
    "--------------------------------\n",
    "Question\n",
    "\n",
    "1. Using your DataFrame df_stu\n",
    "2. Display the first row\n",
    "\n",
    "It should generate the following output\n",
    "```\n",
    "names                liu\n",
    "grades                12\n",
    "grades_harmonized     15\n",
    "Name: 0, dtype: object\n",
    "```"
   ]
  },
  {
   "cell_type": "code",
   "execution_count": 109,
   "metadata": {},
   "outputs": [
    {
     "data": {
      "text/plain": [
       "names                liu\n",
       "grades                12\n",
       "grades_harmonized     15\n",
       "Name: 0, dtype: object"
      ]
     },
     "execution_count": 109,
     "metadata": {},
     "output_type": "execute_result"
    }
   ],
   "source": [
    "### =====                ==== ####\n",
    "###       YOUR CODE HERE      ####\n",
    "### =====                ==== ####\n",
    "df_stu.iloc[0]"
   ]
  },
  {
   "cell_type": "markdown",
   "metadata": {},
   "source": [
    "--------------------------------\n",
    "Question\n",
    "\n",
    "1. Using your DataFrame df_stu\n",
    "2. Display the row **at index** 1\n",
    "\n",
    "It should generate the following output\n",
    "```\n",
    "names                fuy\n",
    "grades                13\n",
    "grades_harmonized     16\n",
    "Name: 1, dtype: object\n",
    "```"
   ]
  },
  {
   "cell_type": "code",
   "execution_count": 110,
   "metadata": {},
   "outputs": [
    {
     "data": {
      "text/plain": [
       "names                fuy\n",
       "grades                13\n",
       "grades_harmonized     16\n",
       "Name: 1, dtype: object"
      ]
     },
     "execution_count": 110,
     "metadata": {},
     "output_type": "execute_result"
    }
   ],
   "source": [
    "### =====                ==== ####\n",
    "###       YOUR CODE HERE      ####\n",
    "### =====                ==== ####\n",
    "df_stu.loc[1]"
   ]
  },
  {
   "cell_type": "markdown",
   "metadata": {},
   "source": [
    "### Masks (filters)\n",
    "Get multiple rows"
   ]
  },
  {
   "cell_type": "code",
   "execution_count": 590,
   "metadata": {},
   "outputs": [
    {
     "data": {
      "text/plain": [
       "stu_1     True\n",
       "stu_2     True\n",
       "stu_3    False\n",
       "Name: age, dtype: bool"
      ]
     },
     "execution_count": 590,
     "metadata": {},
     "output_type": "execute_result"
    }
   ],
   "source": [
    "mask_age = df['age'] >= 10\n",
    "mask_age"
   ]
  },
  {
   "cell_type": "code",
   "execution_count": 591,
   "metadata": {},
   "outputs": [
    {
     "data": {
      "text/html": [
       "<div>\n",
       "<style scoped>\n",
       "    .dataframe tbody tr th:only-of-type {\n",
       "        vertical-align: middle;\n",
       "    }\n",
       "\n",
       "    .dataframe tbody tr th {\n",
       "        vertical-align: top;\n",
       "    }\n",
       "\n",
       "    .dataframe thead th {\n",
       "        text-align: right;\n",
       "    }\n",
       "</style>\n",
       "<table border=\"1\" class=\"dataframe\">\n",
       "  <thead>\n",
       "    <tr style=\"text-align: right;\">\n",
       "      <th></th>\n",
       "      <th>names</th>\n",
       "      <th>age</th>\n",
       "    </tr>\n",
       "  </thead>\n",
       "  <tbody>\n",
       "    <tr>\n",
       "      <th>stu_1</th>\n",
       "      <td>ali</td>\n",
       "      <td>10</td>\n",
       "    </tr>\n",
       "    <tr>\n",
       "      <th>stu_2</th>\n",
       "      <td>zoe</td>\n",
       "      <td>12</td>\n",
       "    </tr>\n",
       "  </tbody>\n",
       "</table>\n",
       "</div>"
      ],
      "text/plain": [
       "      names  age\n",
       "stu_1   ali   10\n",
       "stu_2   zoe   12"
      ]
     },
     "execution_count": 591,
     "metadata": {},
     "output_type": "execute_result"
    }
   ],
   "source": [
    "df[mask_age]"
   ]
  },
  {
   "cell_type": "markdown",
   "metadata": {},
   "source": [
    "--------------------------------\n",
    "Question\n",
    "\n",
    "1. Using your DataFrame df_stu\n",
    "2. Create a mask that selects students with a grade greater than 15\n",
    "3. Store this mask in a variable named: ma_leaders\n",
    "4. Use this mask to extract the selected rows only\n",
    "\n",
    "It should generate the following output\n",
    "```\n",
    "\tnames\tgrades\tgrades_harmonized\n",
    "1\tfuy\t13\t16\n",
    "2\ttio\t14\t17\n",
    "```"
   ]
  },
  {
   "cell_type": "code",
   "execution_count": 115,
   "metadata": {},
   "outputs": [
    {
     "data": {
      "text/html": [
       "<div>\n",
       "<style scoped>\n",
       "    .dataframe tbody tr th:only-of-type {\n",
       "        vertical-align: middle;\n",
       "    }\n",
       "\n",
       "    .dataframe tbody tr th {\n",
       "        vertical-align: top;\n",
       "    }\n",
       "\n",
       "    .dataframe thead th {\n",
       "        text-align: right;\n",
       "    }\n",
       "</style>\n",
       "<table border=\"1\" class=\"dataframe\">\n",
       "  <thead>\n",
       "    <tr style=\"text-align: right;\">\n",
       "      <th></th>\n",
       "      <th>names</th>\n",
       "      <th>grades</th>\n",
       "      <th>grades_harmonized</th>\n",
       "    </tr>\n",
       "  </thead>\n",
       "  <tbody>\n",
       "    <tr>\n",
       "      <th>1</th>\n",
       "      <td>fuy</td>\n",
       "      <td>13</td>\n",
       "      <td>16</td>\n",
       "    </tr>\n",
       "    <tr>\n",
       "      <th>2</th>\n",
       "      <td>tio</td>\n",
       "      <td>14</td>\n",
       "      <td>17</td>\n",
       "    </tr>\n",
       "  </tbody>\n",
       "</table>\n",
       "</div>"
      ],
      "text/plain": [
       "  names  grades  grades_harmonized\n",
       "1   fuy      13                 16\n",
       "2   tio      14                 17"
      ]
     },
     "execution_count": 115,
     "metadata": {},
     "output_type": "execute_result"
    }
   ],
   "source": [
    "### =====                ==== ####\n",
    "###       YOUR CODE HERE      ####\n",
    "### =====                ==== ####\n",
    "ma_leaders = df_stu['grades_harmonized'] > 15\n",
    "df_stu[ma_leaders]"
   ]
  },
  {
   "cell_type": "markdown",
   "metadata": {},
   "source": [
    "### DataFrames Methods"
   ]
  },
  {
   "cell_type": "markdown",
   "metadata": {},
   "source": [
    "Max"
   ]
  },
  {
   "cell_type": "code",
   "execution_count": 592,
   "metadata": {},
   "outputs": [
    {
     "data": {
      "text/plain": [
       "names    zoe\n",
       "age       12\n",
       "dtype: object"
      ]
     },
     "execution_count": 592,
     "metadata": {},
     "output_type": "execute_result"
    }
   ],
   "source": [
    "df.max()"
   ]
  },
  {
   "cell_type": "code",
   "execution_count": 593,
   "metadata": {},
   "outputs": [
    {
     "data": {
      "text/plain": [
       "12"
      ]
     },
     "execution_count": 593,
     "metadata": {},
     "output_type": "execute_result"
    }
   ],
   "source": [
    "df['age'].max()"
   ]
  },
  {
   "cell_type": "markdown",
   "metadata": {},
   "source": [
    "Shape to know the number of rows and columns"
   ]
  },
  {
   "cell_type": "code",
   "execution_count": 594,
   "metadata": {},
   "outputs": [
    {
     "data": {
      "text/plain": [
       "(3, 2)"
      ]
     },
     "execution_count": 594,
     "metadata": {},
     "output_type": "execute_result"
    }
   ],
   "source": [
    "df.shape"
   ]
  },
  {
   "cell_type": "markdown",
   "metadata": {},
   "source": [
    "Info to get more informations on the composition"
   ]
  },
  {
   "cell_type": "code",
   "execution_count": 595,
   "metadata": {},
   "outputs": [
    {
     "name": "stdout",
     "output_type": "stream",
     "text": [
      "<class 'pandas.core.frame.DataFrame'>\n",
      "Index: 3 entries, stu_1 to stu_3\n",
      "Data columns (total 2 columns):\n",
      " #   Column  Non-Null Count  Dtype \n",
      "---  ------  --------------  ----- \n",
      " 0   names   3 non-null      object\n",
      " 1   age     3 non-null      int64 \n",
      "dtypes: int64(1), object(1)\n",
      "memory usage: 180.0+ bytes\n"
     ]
    }
   ],
   "source": [
    "df.info()"
   ]
  },
  {
   "cell_type": "markdown",
   "metadata": {},
   "source": [
    "Describe to get descriptive statistics \n",
    "\n",
    "(on the quantitative variables only)"
   ]
  },
  {
   "cell_type": "code",
   "execution_count": 596,
   "metadata": {},
   "outputs": [
    {
     "data": {
      "text/html": [
       "<div>\n",
       "<style scoped>\n",
       "    .dataframe tbody tr th:only-of-type {\n",
       "        vertical-align: middle;\n",
       "    }\n",
       "\n",
       "    .dataframe tbody tr th {\n",
       "        vertical-align: top;\n",
       "    }\n",
       "\n",
       "    .dataframe thead th {\n",
       "        text-align: right;\n",
       "    }\n",
       "</style>\n",
       "<table border=\"1\" class=\"dataframe\">\n",
       "  <thead>\n",
       "    <tr style=\"text-align: right;\">\n",
       "      <th></th>\n",
       "      <th>age</th>\n",
       "    </tr>\n",
       "  </thead>\n",
       "  <tbody>\n",
       "    <tr>\n",
       "      <th>count</th>\n",
       "      <td>3.000000</td>\n",
       "    </tr>\n",
       "    <tr>\n",
       "      <th>mean</th>\n",
       "      <td>10.333333</td>\n",
       "    </tr>\n",
       "    <tr>\n",
       "      <th>std</th>\n",
       "      <td>1.527525</td>\n",
       "    </tr>\n",
       "    <tr>\n",
       "      <th>min</th>\n",
       "      <td>9.000000</td>\n",
       "    </tr>\n",
       "    <tr>\n",
       "      <th>25%</th>\n",
       "      <td>9.500000</td>\n",
       "    </tr>\n",
       "    <tr>\n",
       "      <th>50%</th>\n",
       "      <td>10.000000</td>\n",
       "    </tr>\n",
       "    <tr>\n",
       "      <th>75%</th>\n",
       "      <td>11.000000</td>\n",
       "    </tr>\n",
       "    <tr>\n",
       "      <th>max</th>\n",
       "      <td>12.000000</td>\n",
       "    </tr>\n",
       "  </tbody>\n",
       "</table>\n",
       "</div>"
      ],
      "text/plain": [
       "             age\n",
       "count   3.000000\n",
       "mean   10.333333\n",
       "std     1.527525\n",
       "min     9.000000\n",
       "25%     9.500000\n",
       "50%    10.000000\n",
       "75%    11.000000\n",
       "max    12.000000"
      ]
     },
     "execution_count": 596,
     "metadata": {},
     "output_type": "execute_result"
    }
   ],
   "source": [
    "df.describe()"
   ]
  },
  {
   "cell_type": "code",
   "execution_count": 597,
   "metadata": {},
   "outputs": [
    {
     "data": {
      "text/plain": [
       "count     3.000000\n",
       "mean     10.333333\n",
       "std       1.527525\n",
       "min       9.000000\n",
       "25%       9.500000\n",
       "50%      10.000000\n",
       "75%      11.000000\n",
       "max      12.000000\n",
       "Name: age, dtype: float64"
      ]
     },
     "execution_count": 597,
     "metadata": {},
     "output_type": "execute_result"
    }
   ],
   "source": [
    "df['age'].describe()"
   ]
  },
  {
   "cell_type": "markdown",
   "metadata": {},
   "source": [
    "--------------------------------\n",
    "Question\n",
    "\n",
    "1. Using your DataFrame df_stu\n",
    "2. Use the *describe* method\n",
    "3. Check that the median is 12.5"
   ]
  },
  {
   "cell_type": "code",
   "execution_count": 116,
   "metadata": {},
   "outputs": [
    {
     "data": {
      "text/html": [
       "<div>\n",
       "<style scoped>\n",
       "    .dataframe tbody tr th:only-of-type {\n",
       "        vertical-align: middle;\n",
       "    }\n",
       "\n",
       "    .dataframe tbody tr th {\n",
       "        vertical-align: top;\n",
       "    }\n",
       "\n",
       "    .dataframe thead th {\n",
       "        text-align: right;\n",
       "    }\n",
       "</style>\n",
       "<table border=\"1\" class=\"dataframe\">\n",
       "  <thead>\n",
       "    <tr style=\"text-align: right;\">\n",
       "      <th></th>\n",
       "      <th>grades</th>\n",
       "      <th>grades_harmonized</th>\n",
       "    </tr>\n",
       "  </thead>\n",
       "  <tbody>\n",
       "    <tr>\n",
       "      <th>count</th>\n",
       "      <td>4.000000</td>\n",
       "      <td>4.000000</td>\n",
       "    </tr>\n",
       "    <tr>\n",
       "      <th>mean</th>\n",
       "      <td>12.750000</td>\n",
       "      <td>15.750000</td>\n",
       "    </tr>\n",
       "    <tr>\n",
       "      <th>std</th>\n",
       "      <td>0.957427</td>\n",
       "      <td>0.957427</td>\n",
       "    </tr>\n",
       "    <tr>\n",
       "      <th>min</th>\n",
       "      <td>12.000000</td>\n",
       "      <td>15.000000</td>\n",
       "    </tr>\n",
       "    <tr>\n",
       "      <th>25%</th>\n",
       "      <td>12.000000</td>\n",
       "      <td>15.000000</td>\n",
       "    </tr>\n",
       "    <tr>\n",
       "      <th>50%</th>\n",
       "      <td>12.500000</td>\n",
       "      <td>15.500000</td>\n",
       "    </tr>\n",
       "    <tr>\n",
       "      <th>75%</th>\n",
       "      <td>13.250000</td>\n",
       "      <td>16.250000</td>\n",
       "    </tr>\n",
       "    <tr>\n",
       "      <th>max</th>\n",
       "      <td>14.000000</td>\n",
       "      <td>17.000000</td>\n",
       "    </tr>\n",
       "  </tbody>\n",
       "</table>\n",
       "</div>"
      ],
      "text/plain": [
       "          grades  grades_harmonized\n",
       "count   4.000000           4.000000\n",
       "mean   12.750000          15.750000\n",
       "std     0.957427           0.957427\n",
       "min    12.000000          15.000000\n",
       "25%    12.000000          15.000000\n",
       "50%    12.500000          15.500000\n",
       "75%    13.250000          16.250000\n",
       "max    14.000000          17.000000"
      ]
     },
     "execution_count": 116,
     "metadata": {},
     "output_type": "execute_result"
    }
   ],
   "source": [
    "### =====                ==== ####\n",
    "###       YOUR CODE HERE      ####\n",
    "### =====                ==== ####\n",
    "df_stu.describe()"
   ]
  },
  {
   "cell_type": "markdown",
   "metadata": {},
   "source": [
    "--------------------------------\n",
    "Question\n",
    "\n",
    "1. Using your DataFrame df_stu\n",
    "2. Use the *info* method\n",
    "3. Check that the column *names* is of Dtype *object*\n",
    "4. Check the number of rows and columns"
   ]
  },
  {
   "cell_type": "code",
   "execution_count": 117,
   "metadata": {},
   "outputs": [
    {
     "name": "stdout",
     "output_type": "stream",
     "text": [
      "<class 'pandas.core.frame.DataFrame'>\n",
      "RangeIndex: 4 entries, 0 to 3\n",
      "Data columns (total 3 columns):\n",
      " #   Column             Non-Null Count  Dtype \n",
      "---  ------             --------------  ----- \n",
      " 0   names              4 non-null      object\n",
      " 1   grades             4 non-null      int64 \n",
      " 2   grades_harmonized  4 non-null      int64 \n",
      "dtypes: int64(2), object(1)\n",
      "memory usage: 224.0+ bytes\n"
     ]
    }
   ],
   "source": [
    "### =====                ==== ####\n",
    "###       YOUR CODE HERE      ####\n",
    "### =====                ==== ####\n",
    "df_stu.info()"
   ]
  },
  {
   "cell_type": "markdown",
   "metadata": {},
   "source": [
    "--------------------------------\n",
    "Question\n",
    "\n",
    "1. Using your DataFrame df_stu\n",
    "2. Use the *shape* attribute to control for the number of rows and columns\n",
    "\n",
    "It should generate the following output\n",
    "```\n",
    "(4, 3)\n",
    "```"
   ]
  },
  {
   "cell_type": "code",
   "execution_count": 118,
   "metadata": {},
   "outputs": [
    {
     "data": {
      "text/plain": [
       "(4, 3)"
      ]
     },
     "execution_count": 118,
     "metadata": {},
     "output_type": "execute_result"
    }
   ],
   "source": [
    "### =====                ==== ####\n",
    "###       YOUR CODE HERE      ####\n",
    "### =====                ==== ####\n",
    "df_stu.shape"
   ]
  },
  {
   "cell_type": "markdown",
   "metadata": {},
   "source": [
    "### Apply function\n",
    "To each row (to all or to a selected column)"
   ]
  },
  {
   "cell_type": "code",
   "execution_count": 598,
   "metadata": {},
   "outputs": [
    {
     "data": {
      "text/html": [
       "<div>\n",
       "<style scoped>\n",
       "    .dataframe tbody tr th:only-of-type {\n",
       "        vertical-align: middle;\n",
       "    }\n",
       "\n",
       "    .dataframe tbody tr th {\n",
       "        vertical-align: top;\n",
       "    }\n",
       "\n",
       "    .dataframe thead th {\n",
       "        text-align: right;\n",
       "    }\n",
       "</style>\n",
       "<table border=\"1\" class=\"dataframe\">\n",
       "  <thead>\n",
       "    <tr style=\"text-align: right;\">\n",
       "      <th></th>\n",
       "      <th>names</th>\n",
       "      <th>age</th>\n",
       "    </tr>\n",
       "  </thead>\n",
       "  <tbody>\n",
       "    <tr>\n",
       "      <th>stu_1</th>\n",
       "      <td>aliali</td>\n",
       "      <td>20</td>\n",
       "    </tr>\n",
       "    <tr>\n",
       "      <th>stu_2</th>\n",
       "      <td>zoezoe</td>\n",
       "      <td>24</td>\n",
       "    </tr>\n",
       "    <tr>\n",
       "      <th>stu_3</th>\n",
       "      <td>mohmoh</td>\n",
       "      <td>18</td>\n",
       "    </tr>\n",
       "  </tbody>\n",
       "</table>\n",
       "</div>"
      ],
      "text/plain": [
       "        names  age\n",
       "stu_1  aliali   20\n",
       "stu_2  zoezoe   24\n",
       "stu_3  mohmoh   18"
      ]
     },
     "execution_count": 598,
     "metadata": {},
     "output_type": "execute_result"
    }
   ],
   "source": [
    "df.apply(lambda x: x*2)"
   ]
  },
  {
   "cell_type": "code",
   "execution_count": 599,
   "metadata": {},
   "outputs": [
    {
     "data": {
      "text/plain": [
       "stu_1    20\n",
       "stu_2    24\n",
       "stu_3    18\n",
       "Name: age, dtype: int64"
      ]
     },
     "execution_count": 599,
     "metadata": {},
     "output_type": "execute_result"
    }
   ],
   "source": [
    "df['age'].apply(lambda x: x*2)"
   ]
  },
  {
   "cell_type": "markdown",
   "metadata": {},
   "source": [
    "Could use a pre-defined function"
   ]
  },
  {
   "cell_type": "code",
   "execution_count": 600,
   "metadata": {},
   "outputs": [],
   "source": [
    "def double(x):\n",
    "    return x * 2"
   ]
  },
  {
   "cell_type": "code",
   "execution_count": 601,
   "metadata": {},
   "outputs": [
    {
     "data": {
      "text/plain": [
       "stu_1    20\n",
       "stu_2    24\n",
       "stu_3    18\n",
       "Name: age, dtype: int64"
      ]
     },
     "execution_count": 601,
     "metadata": {},
     "output_type": "execute_result"
    }
   ],
   "source": [
    "df['age'].apply(double)"
   ]
  },
  {
   "cell_type": "markdown",
   "metadata": {},
   "source": [
    "--------------------------------\n",
    "Question\n",
    "\n",
    "1. Using your DataFrame df_stu\n",
    "2. Use apply function on the column *grades*\n",
    "3. Add 2 if the grade is smaller than 13 (use lambda)\n",
    "\n",
    "It should generate the following output\n",
    "```\n",
    "0    14\n",
    "1    13\n",
    "2    14\n",
    "3    14\n",
    "Name: grades, dtype: int64\n",
    "```"
   ]
  },
  {
   "cell_type": "code",
   "execution_count": 124,
   "metadata": {},
   "outputs": [
    {
     "data": {
      "text/plain": [
       "0    14\n",
       "1    13\n",
       "2    14\n",
       "3    14\n",
       "Name: grades, dtype: int64"
      ]
     },
     "execution_count": 124,
     "metadata": {},
     "output_type": "execute_result"
    }
   ],
   "source": [
    "### =====                ==== ####\n",
    "###       YOUR CODE HERE      ####\n",
    "### =====                ==== ####\n",
    "df_stu['grades'].apply(lambda x: x+2 if x<13 else x)"
   ]
  },
  {
   "cell_type": "markdown",
   "metadata": {},
   "source": [
    "### DataFrame other useful methods"
   ]
  },
  {
   "cell_type": "markdown",
   "metadata": {},
   "source": [
    "#### String methods"
   ]
  },
  {
   "cell_type": "code",
   "execution_count": 602,
   "metadata": {},
   "outputs": [
    {
     "data": {
      "text/plain": [
       "stu_1    ALI\n",
       "stu_2    ZOE\n",
       "stu_3    MOH\n",
       "Name: names, dtype: object"
      ]
     },
     "execution_count": 602,
     "metadata": {},
     "output_type": "execute_result"
    }
   ],
   "source": [
    "df['names'].str.upper()"
   ]
  },
  {
   "cell_type": "markdown",
   "metadata": {},
   "source": [
    "--------------------------------\n",
    "Question\n",
    "\n",
    "1. Using your DataFrame df_stu\n",
    "2. Use pandas buit-in method to change the first letter of each name with a capital letter\n",
    "\n",
    "It should generate the following output\n",
    "```\n",
    "0     Liu\n",
    "1     Fuy\n",
    "2     Tio\n",
    "3    Kape\n",
    "Name: names, dtype: object\n",
    "```"
   ]
  },
  {
   "cell_type": "code",
   "execution_count": 126,
   "metadata": {},
   "outputs": [
    {
     "data": {
      "text/plain": [
       "0     Liu\n",
       "1     Fuy\n",
       "2     Tio\n",
       "3    Kape\n",
       "Name: names, dtype: object"
      ]
     },
     "execution_count": 126,
     "metadata": {},
     "output_type": "execute_result"
    }
   ],
   "source": [
    "### =====                ==== ####\n",
    "###       YOUR CODE HERE      ####\n",
    "### =====                ==== ####\n",
    "df_stu['names'].str.capitalize()"
   ]
  },
  {
   "cell_type": "markdown",
   "metadata": {},
   "source": [
    "#### Drop a column"
   ]
  },
  {
   "cell_type": "code",
   "execution_count": 603,
   "metadata": {},
   "outputs": [],
   "source": [
    "df_temp = df.copy()"
   ]
  },
  {
   "cell_type": "markdown",
   "metadata": {},
   "source": [
    "Not applied to the current DataFrame"
   ]
  },
  {
   "cell_type": "code",
   "execution_count": 604,
   "metadata": {},
   "outputs": [
    {
     "data": {
      "text/html": [
       "<div>\n",
       "<style scoped>\n",
       "    .dataframe tbody tr th:only-of-type {\n",
       "        vertical-align: middle;\n",
       "    }\n",
       "\n",
       "    .dataframe tbody tr th {\n",
       "        vertical-align: top;\n",
       "    }\n",
       "\n",
       "    .dataframe thead th {\n",
       "        text-align: right;\n",
       "    }\n",
       "</style>\n",
       "<table border=\"1\" class=\"dataframe\">\n",
       "  <thead>\n",
       "    <tr style=\"text-align: right;\">\n",
       "      <th></th>\n",
       "      <th>age</th>\n",
       "    </tr>\n",
       "  </thead>\n",
       "  <tbody>\n",
       "    <tr>\n",
       "      <th>stu_1</th>\n",
       "      <td>10</td>\n",
       "    </tr>\n",
       "    <tr>\n",
       "      <th>stu_2</th>\n",
       "      <td>12</td>\n",
       "    </tr>\n",
       "    <tr>\n",
       "      <th>stu_3</th>\n",
       "      <td>9</td>\n",
       "    </tr>\n",
       "  </tbody>\n",
       "</table>\n",
       "</div>"
      ],
      "text/plain": [
       "       age\n",
       "stu_1   10\n",
       "stu_2   12\n",
       "stu_3    9"
      ]
     },
     "execution_count": 604,
     "metadata": {},
     "output_type": "execute_result"
    }
   ],
   "source": [
    "df_temp.drop(columns='names')"
   ]
  },
  {
   "cell_type": "code",
   "execution_count": 605,
   "metadata": {},
   "outputs": [
    {
     "data": {
      "text/html": [
       "<div>\n",
       "<style scoped>\n",
       "    .dataframe tbody tr th:only-of-type {\n",
       "        vertical-align: middle;\n",
       "    }\n",
       "\n",
       "    .dataframe tbody tr th {\n",
       "        vertical-align: top;\n",
       "    }\n",
       "\n",
       "    .dataframe thead th {\n",
       "        text-align: right;\n",
       "    }\n",
       "</style>\n",
       "<table border=\"1\" class=\"dataframe\">\n",
       "  <thead>\n",
       "    <tr style=\"text-align: right;\">\n",
       "      <th></th>\n",
       "      <th>names</th>\n",
       "      <th>age</th>\n",
       "    </tr>\n",
       "  </thead>\n",
       "  <tbody>\n",
       "    <tr>\n",
       "      <th>stu_1</th>\n",
       "      <td>ali</td>\n",
       "      <td>10</td>\n",
       "    </tr>\n",
       "    <tr>\n",
       "      <th>stu_2</th>\n",
       "      <td>zoe</td>\n",
       "      <td>12</td>\n",
       "    </tr>\n",
       "    <tr>\n",
       "      <th>stu_3</th>\n",
       "      <td>moh</td>\n",
       "      <td>9</td>\n",
       "    </tr>\n",
       "  </tbody>\n",
       "</table>\n",
       "</div>"
      ],
      "text/plain": [
       "      names  age\n",
       "stu_1   ali   10\n",
       "stu_2   zoe   12\n",
       "stu_3   moh    9"
      ]
     },
     "execution_count": 605,
     "metadata": {},
     "output_type": "execute_result"
    }
   ],
   "source": [
    "df_temp"
   ]
  },
  {
   "cell_type": "markdown",
   "metadata": {},
   "source": [
    "Apply to current DataFrame:\n",
    "- Using standard variable assignment"
   ]
  },
  {
   "cell_type": "code",
   "execution_count": 606,
   "metadata": {},
   "outputs": [],
   "source": [
    "df_temp = df.copy()"
   ]
  },
  {
   "cell_type": "code",
   "execution_count": 607,
   "metadata": {},
   "outputs": [],
   "source": [
    "df_temp = df_temp.drop(columns='names')"
   ]
  },
  {
   "cell_type": "code",
   "execution_count": 608,
   "metadata": {},
   "outputs": [
    {
     "data": {
      "text/html": [
       "<div>\n",
       "<style scoped>\n",
       "    .dataframe tbody tr th:only-of-type {\n",
       "        vertical-align: middle;\n",
       "    }\n",
       "\n",
       "    .dataframe tbody tr th {\n",
       "        vertical-align: top;\n",
       "    }\n",
       "\n",
       "    .dataframe thead th {\n",
       "        text-align: right;\n",
       "    }\n",
       "</style>\n",
       "<table border=\"1\" class=\"dataframe\">\n",
       "  <thead>\n",
       "    <tr style=\"text-align: right;\">\n",
       "      <th></th>\n",
       "      <th>age</th>\n",
       "    </tr>\n",
       "  </thead>\n",
       "  <tbody>\n",
       "    <tr>\n",
       "      <th>stu_1</th>\n",
       "      <td>10</td>\n",
       "    </tr>\n",
       "    <tr>\n",
       "      <th>stu_2</th>\n",
       "      <td>12</td>\n",
       "    </tr>\n",
       "    <tr>\n",
       "      <th>stu_3</th>\n",
       "      <td>9</td>\n",
       "    </tr>\n",
       "  </tbody>\n",
       "</table>\n",
       "</div>"
      ],
      "text/plain": [
       "       age\n",
       "stu_1   10\n",
       "stu_2   12\n",
       "stu_3    9"
      ]
     },
     "execution_count": 608,
     "metadata": {},
     "output_type": "execute_result"
    }
   ],
   "source": [
    "df_temp"
   ]
  },
  {
   "cell_type": "markdown",
   "metadata": {},
   "source": [
    "Using inplace"
   ]
  },
  {
   "cell_type": "code",
   "execution_count": 609,
   "metadata": {},
   "outputs": [],
   "source": [
    "df_temp = df.copy()"
   ]
  },
  {
   "cell_type": "code",
   "execution_count": 610,
   "metadata": {},
   "outputs": [],
   "source": [
    "df_temp.drop(columns='names', inplace=True)"
   ]
  },
  {
   "cell_type": "code",
   "execution_count": 611,
   "metadata": {},
   "outputs": [
    {
     "data": {
      "text/html": [
       "<div>\n",
       "<style scoped>\n",
       "    .dataframe tbody tr th:only-of-type {\n",
       "        vertical-align: middle;\n",
       "    }\n",
       "\n",
       "    .dataframe tbody tr th {\n",
       "        vertical-align: top;\n",
       "    }\n",
       "\n",
       "    .dataframe thead th {\n",
       "        text-align: right;\n",
       "    }\n",
       "</style>\n",
       "<table border=\"1\" class=\"dataframe\">\n",
       "  <thead>\n",
       "    <tr style=\"text-align: right;\">\n",
       "      <th></th>\n",
       "      <th>age</th>\n",
       "    </tr>\n",
       "  </thead>\n",
       "  <tbody>\n",
       "    <tr>\n",
       "      <th>stu_1</th>\n",
       "      <td>10</td>\n",
       "    </tr>\n",
       "    <tr>\n",
       "      <th>stu_2</th>\n",
       "      <td>12</td>\n",
       "    </tr>\n",
       "    <tr>\n",
       "      <th>stu_3</th>\n",
       "      <td>9</td>\n",
       "    </tr>\n",
       "  </tbody>\n",
       "</table>\n",
       "</div>"
      ],
      "text/plain": [
       "       age\n",
       "stu_1   10\n",
       "stu_2   12\n",
       "stu_3    9"
      ]
     },
     "execution_count": 611,
     "metadata": {},
     "output_type": "execute_result"
    }
   ],
   "source": [
    "df_temp"
   ]
  },
  {
   "cell_type": "markdown",
   "metadata": {},
   "source": [
    "--------------------------------\n",
    "Question\n",
    "\n",
    "1. Using your DataFrame df_stu\n",
    "2. Drop the column named *grades* using *inplace* parameter\n",
    "\n",
    "It should output nothing"
   ]
  },
  {
   "cell_type": "code",
   "execution_count": 128,
   "metadata": {},
   "outputs": [],
   "source": [
    "### =====                ==== ####\n",
    "###       YOUR CODE HERE      ####\n",
    "### =====                ==== ####\n",
    "df_stu.drop(columns='grades', inplace=True)"
   ]
  },
  {
   "cell_type": "markdown",
   "metadata": {},
   "source": [
    "#### Sort_values"
   ]
  },
  {
   "cell_type": "code",
   "execution_count": 615,
   "metadata": {},
   "outputs": [
    {
     "data": {
      "text/html": [
       "<div>\n",
       "<style scoped>\n",
       "    .dataframe tbody tr th:only-of-type {\n",
       "        vertical-align: middle;\n",
       "    }\n",
       "\n",
       "    .dataframe tbody tr th {\n",
       "        vertical-align: top;\n",
       "    }\n",
       "\n",
       "    .dataframe thead th {\n",
       "        text-align: right;\n",
       "    }\n",
       "</style>\n",
       "<table border=\"1\" class=\"dataframe\">\n",
       "  <thead>\n",
       "    <tr style=\"text-align: right;\">\n",
       "      <th></th>\n",
       "      <th>names</th>\n",
       "      <th>age</th>\n",
       "    </tr>\n",
       "  </thead>\n",
       "  <tbody>\n",
       "    <tr>\n",
       "      <th>stu_3</th>\n",
       "      <td>moh</td>\n",
       "      <td>9</td>\n",
       "    </tr>\n",
       "    <tr>\n",
       "      <th>stu_1</th>\n",
       "      <td>ali</td>\n",
       "      <td>10</td>\n",
       "    </tr>\n",
       "    <tr>\n",
       "      <th>stu_2</th>\n",
       "      <td>zoe</td>\n",
       "      <td>12</td>\n",
       "    </tr>\n",
       "  </tbody>\n",
       "</table>\n",
       "</div>"
      ],
      "text/plain": [
       "      names  age\n",
       "stu_3   moh    9\n",
       "stu_1   ali   10\n",
       "stu_2   zoe   12"
      ]
     },
     "execution_count": 615,
     "metadata": {},
     "output_type": "execute_result"
    }
   ],
   "source": [
    "df.sort_values(by='age')"
   ]
  },
  {
   "cell_type": "code",
   "execution_count": 616,
   "metadata": {},
   "outputs": [
    {
     "data": {
      "text/html": [
       "<div>\n",
       "<style scoped>\n",
       "    .dataframe tbody tr th:only-of-type {\n",
       "        vertical-align: middle;\n",
       "    }\n",
       "\n",
       "    .dataframe tbody tr th {\n",
       "        vertical-align: top;\n",
       "    }\n",
       "\n",
       "    .dataframe thead th {\n",
       "        text-align: right;\n",
       "    }\n",
       "</style>\n",
       "<table border=\"1\" class=\"dataframe\">\n",
       "  <thead>\n",
       "    <tr style=\"text-align: right;\">\n",
       "      <th></th>\n",
       "      <th>names</th>\n",
       "      <th>age</th>\n",
       "    </tr>\n",
       "  </thead>\n",
       "  <tbody>\n",
       "    <tr>\n",
       "      <th>stu_2</th>\n",
       "      <td>zoe</td>\n",
       "      <td>12</td>\n",
       "    </tr>\n",
       "    <tr>\n",
       "      <th>stu_1</th>\n",
       "      <td>ali</td>\n",
       "      <td>10</td>\n",
       "    </tr>\n",
       "    <tr>\n",
       "      <th>stu_3</th>\n",
       "      <td>moh</td>\n",
       "      <td>9</td>\n",
       "    </tr>\n",
       "  </tbody>\n",
       "</table>\n",
       "</div>"
      ],
      "text/plain": [
       "      names  age\n",
       "stu_2   zoe   12\n",
       "stu_1   ali   10\n",
       "stu_3   moh    9"
      ]
     },
     "execution_count": 616,
     "metadata": {},
     "output_type": "execute_result"
    }
   ],
   "source": [
    "df.sort_values(by='age', ascending=False)"
   ]
  },
  {
   "cell_type": "markdown",
   "metadata": {},
   "source": [
    "#### Value_counts"
   ]
  },
  {
   "cell_type": "code",
   "execution_count": 622,
   "metadata": {},
   "outputs": [],
   "source": [
    "df_temp = df.copy()\n",
    "\n",
    "additional_students = {\n",
    "    'names': ['jul', 'lipo', 'chen'],\n",
    "    'age': [10, 10, 12]\n",
    "}\n",
    "\n",
    "df_add_students = pd.DataFrame(\n",
    "    additional_students,\n",
    "    index = ['stu_4', 'stu_5', 'stu_6']\n",
    ")\n",
    "\n",
    "df_temp = df_temp.append(df_add_students)"
   ]
  },
  {
   "cell_type": "code",
   "execution_count": 623,
   "metadata": {},
   "outputs": [
    {
     "data": {
      "text/html": [
       "<div>\n",
       "<style scoped>\n",
       "    .dataframe tbody tr th:only-of-type {\n",
       "        vertical-align: middle;\n",
       "    }\n",
       "\n",
       "    .dataframe tbody tr th {\n",
       "        vertical-align: top;\n",
       "    }\n",
       "\n",
       "    .dataframe thead th {\n",
       "        text-align: right;\n",
       "    }\n",
       "</style>\n",
       "<table border=\"1\" class=\"dataframe\">\n",
       "  <thead>\n",
       "    <tr style=\"text-align: right;\">\n",
       "      <th></th>\n",
       "      <th>names</th>\n",
       "      <th>age</th>\n",
       "    </tr>\n",
       "  </thead>\n",
       "  <tbody>\n",
       "    <tr>\n",
       "      <th>stu_1</th>\n",
       "      <td>ali</td>\n",
       "      <td>10</td>\n",
       "    </tr>\n",
       "    <tr>\n",
       "      <th>stu_2</th>\n",
       "      <td>zoe</td>\n",
       "      <td>12</td>\n",
       "    </tr>\n",
       "    <tr>\n",
       "      <th>stu_3</th>\n",
       "      <td>moh</td>\n",
       "      <td>9</td>\n",
       "    </tr>\n",
       "    <tr>\n",
       "      <th>stu_4</th>\n",
       "      <td>jul</td>\n",
       "      <td>10</td>\n",
       "    </tr>\n",
       "    <tr>\n",
       "      <th>stu_5</th>\n",
       "      <td>lipo</td>\n",
       "      <td>10</td>\n",
       "    </tr>\n",
       "    <tr>\n",
       "      <th>stu_6</th>\n",
       "      <td>chen</td>\n",
       "      <td>12</td>\n",
       "    </tr>\n",
       "  </tbody>\n",
       "</table>\n",
       "</div>"
      ],
      "text/plain": [
       "      names  age\n",
       "stu_1   ali   10\n",
       "stu_2   zoe   12\n",
       "stu_3   moh    9\n",
       "stu_4   jul   10\n",
       "stu_5  lipo   10\n",
       "stu_6  chen   12"
      ]
     },
     "execution_count": 623,
     "metadata": {},
     "output_type": "execute_result"
    }
   ],
   "source": [
    "df_temp"
   ]
  },
  {
   "cell_type": "code",
   "execution_count": 626,
   "metadata": {},
   "outputs": [
    {
     "data": {
      "text/plain": [
       "10    3\n",
       "12    2\n",
       "9     1\n",
       "Name: age, dtype: int64"
      ]
     },
     "execution_count": 626,
     "metadata": {},
     "output_type": "execute_result"
    }
   ],
   "source": [
    "df_temp['age'].value_counts()"
   ]
  },
  {
   "cell_type": "markdown",
   "metadata": {},
   "source": [
    "--------------------------------\n",
    "Question\n",
    "\n",
    "1. Using your DataFrame df_stu\n",
    "2. Count the number of each occurence in *grades_harmonized*\n",
    "\n",
    "It should generate the following output\n",
    "```\n",
    "15    2\n",
    "16    1\n",
    "17    1\n",
    "Name: grades_harmonized, dtype: int64\n",
    "```"
   ]
  },
  {
   "cell_type": "code",
   "execution_count": 130,
   "metadata": {},
   "outputs": [
    {
     "data": {
      "text/plain": [
       "15    2\n",
       "16    1\n",
       "17    1\n",
       "Name: grades_harmonized, dtype: int64"
      ]
     },
     "execution_count": 130,
     "metadata": {},
     "output_type": "execute_result"
    }
   ],
   "source": [
    "### =====                ==== ####\n",
    "###       YOUR CODE HERE      ####\n",
    "### =====                ==== ####\n",
    "df_stu['grades_harmonized'].value_counts()"
   ]
  },
  {
   "cell_type": "markdown",
   "metadata": {},
   "source": [
    "#### Groupby"
   ]
  },
  {
   "cell_type": "code",
   "execution_count": 639,
   "metadata": {},
   "outputs": [],
   "source": [
    "df_temp['centroid'] = [1, 3, 3, 2, 3, 1]"
   ]
  },
  {
   "cell_type": "code",
   "execution_count": 640,
   "metadata": {},
   "outputs": [
    {
     "data": {
      "text/html": [
       "<div>\n",
       "<style scoped>\n",
       "    .dataframe tbody tr th:only-of-type {\n",
       "        vertical-align: middle;\n",
       "    }\n",
       "\n",
       "    .dataframe tbody tr th {\n",
       "        vertical-align: top;\n",
       "    }\n",
       "\n",
       "    .dataframe thead th {\n",
       "        text-align: right;\n",
       "    }\n",
       "</style>\n",
       "<table border=\"1\" class=\"dataframe\">\n",
       "  <thead>\n",
       "    <tr style=\"text-align: right;\">\n",
       "      <th></th>\n",
       "      <th>names</th>\n",
       "      <th>age</th>\n",
       "      <th>centroid</th>\n",
       "    </tr>\n",
       "  </thead>\n",
       "  <tbody>\n",
       "    <tr>\n",
       "      <th>stu_1</th>\n",
       "      <td>ali</td>\n",
       "      <td>10</td>\n",
       "      <td>1</td>\n",
       "    </tr>\n",
       "    <tr>\n",
       "      <th>stu_2</th>\n",
       "      <td>zoe</td>\n",
       "      <td>12</td>\n",
       "      <td>3</td>\n",
       "    </tr>\n",
       "    <tr>\n",
       "      <th>stu_3</th>\n",
       "      <td>moh</td>\n",
       "      <td>9</td>\n",
       "      <td>3</td>\n",
       "    </tr>\n",
       "    <tr>\n",
       "      <th>stu_4</th>\n",
       "      <td>jul</td>\n",
       "      <td>10</td>\n",
       "      <td>2</td>\n",
       "    </tr>\n",
       "    <tr>\n",
       "      <th>stu_5</th>\n",
       "      <td>lipo</td>\n",
       "      <td>10</td>\n",
       "      <td>3</td>\n",
       "    </tr>\n",
       "    <tr>\n",
       "      <th>stu_6</th>\n",
       "      <td>chen</td>\n",
       "      <td>12</td>\n",
       "      <td>1</td>\n",
       "    </tr>\n",
       "  </tbody>\n",
       "</table>\n",
       "</div>"
      ],
      "text/plain": [
       "      names  age  centroid\n",
       "stu_1   ali   10         1\n",
       "stu_2   zoe   12         3\n",
       "stu_3   moh    9         3\n",
       "stu_4   jul   10         2\n",
       "stu_5  lipo   10         3\n",
       "stu_6  chen   12         1"
      ]
     },
     "execution_count": 640,
     "metadata": {},
     "output_type": "execute_result"
    }
   ],
   "source": [
    "df_temp"
   ]
  },
  {
   "cell_type": "code",
   "execution_count": 641,
   "metadata": {},
   "outputs": [
    {
     "data": {
      "text/html": [
       "<div>\n",
       "<style scoped>\n",
       "    .dataframe tbody tr th:only-of-type {\n",
       "        vertical-align: middle;\n",
       "    }\n",
       "\n",
       "    .dataframe tbody tr th {\n",
       "        vertical-align: top;\n",
       "    }\n",
       "\n",
       "    .dataframe thead th {\n",
       "        text-align: right;\n",
       "    }\n",
       "</style>\n",
       "<table border=\"1\" class=\"dataframe\">\n",
       "  <thead>\n",
       "    <tr style=\"text-align: right;\">\n",
       "      <th></th>\n",
       "      <th>age</th>\n",
       "    </tr>\n",
       "    <tr>\n",
       "      <th>centroid</th>\n",
       "      <th></th>\n",
       "    </tr>\n",
       "  </thead>\n",
       "  <tbody>\n",
       "    <tr>\n",
       "      <th>1</th>\n",
       "      <td>11.000000</td>\n",
       "    </tr>\n",
       "    <tr>\n",
       "      <th>2</th>\n",
       "      <td>10.000000</td>\n",
       "    </tr>\n",
       "    <tr>\n",
       "      <th>3</th>\n",
       "      <td>10.333333</td>\n",
       "    </tr>\n",
       "  </tbody>\n",
       "</table>\n",
       "</div>"
      ],
      "text/plain": [
       "                age\n",
       "centroid           \n",
       "1         11.000000\n",
       "2         10.000000\n",
       "3         10.333333"
      ]
     },
     "execution_count": 641,
     "metadata": {},
     "output_type": "execute_result"
    }
   ],
   "source": [
    "df_temp.groupby('centroid').mean()"
   ]
  },
  {
   "cell_type": "markdown",
   "metadata": {},
   "source": [
    "--------------------------------\n",
    "Question\n",
    "\n",
    "1. Using your DataFrame df_stu\n",
    "2. Add a column named *is_adult* containing the values: 0, 1, 1, 0\n",
    "3. Then, compute the average *grades_harmonized* of both adults and non adults\n",
    "\n",
    "It should generate the following output\n",
    "```\n",
    "\tgrades_harmonized\n",
    "is_adult\t\n",
    "0\t15.0\n",
    "1\t16.5\n",
    "```"
   ]
  },
  {
   "cell_type": "code",
   "execution_count": 134,
   "metadata": {},
   "outputs": [
    {
     "data": {
      "text/html": [
       "<div>\n",
       "<style scoped>\n",
       "    .dataframe tbody tr th:only-of-type {\n",
       "        vertical-align: middle;\n",
       "    }\n",
       "\n",
       "    .dataframe tbody tr th {\n",
       "        vertical-align: top;\n",
       "    }\n",
       "\n",
       "    .dataframe thead th {\n",
       "        text-align: right;\n",
       "    }\n",
       "</style>\n",
       "<table border=\"1\" class=\"dataframe\">\n",
       "  <thead>\n",
       "    <tr style=\"text-align: right;\">\n",
       "      <th></th>\n",
       "      <th>grades_harmonized</th>\n",
       "    </tr>\n",
       "    <tr>\n",
       "      <th>is_adult</th>\n",
       "      <th></th>\n",
       "    </tr>\n",
       "  </thead>\n",
       "  <tbody>\n",
       "    <tr>\n",
       "      <th>0</th>\n",
       "      <td>15.0</td>\n",
       "    </tr>\n",
       "    <tr>\n",
       "      <th>1</th>\n",
       "      <td>16.5</td>\n",
       "    </tr>\n",
       "  </tbody>\n",
       "</table>\n",
       "</div>"
      ],
      "text/plain": [
       "          grades_harmonized\n",
       "is_adult                   \n",
       "0                      15.0\n",
       "1                      16.5"
      ]
     },
     "execution_count": 134,
     "metadata": {},
     "output_type": "execute_result"
    }
   ],
   "source": [
    "### =====                ==== ####\n",
    "###       YOUR CODE HERE      ####\n",
    "### =====                ==== ####\n",
    "df_stu['is_adult'] = [0, 1, 1, 0]\n",
    "df_stu.groupby('is_adult').mean()"
   ]
  },
  {
   "cell_type": "markdown",
   "metadata": {},
   "source": [
    "#### Treat NA values (Not available)"
   ]
  },
  {
   "cell_type": "code",
   "execution_count": 653,
   "metadata": {},
   "outputs": [
    {
     "data": {
      "text/plain": [
       "nan"
      ]
     },
     "execution_count": 653,
     "metadata": {},
     "output_type": "execute_result"
    }
   ],
   "source": [
    "import numpy as np\n",
    "np.nan"
   ]
  },
  {
   "cell_type": "code",
   "execution_count": 656,
   "metadata": {},
   "outputs": [],
   "source": [
    "df_temp.loc['stu_2', 'age'] = np.nan\n",
    "df_temp.loc['stu_4', 'age'] = np.nan"
   ]
  },
  {
   "cell_type": "code",
   "execution_count": 665,
   "metadata": {},
   "outputs": [
    {
     "data": {
      "text/html": [
       "<div>\n",
       "<style scoped>\n",
       "    .dataframe tbody tr th:only-of-type {\n",
       "        vertical-align: middle;\n",
       "    }\n",
       "\n",
       "    .dataframe tbody tr th {\n",
       "        vertical-align: top;\n",
       "    }\n",
       "\n",
       "    .dataframe thead th {\n",
       "        text-align: right;\n",
       "    }\n",
       "</style>\n",
       "<table border=\"1\" class=\"dataframe\">\n",
       "  <thead>\n",
       "    <tr style=\"text-align: right;\">\n",
       "      <th></th>\n",
       "      <th>names</th>\n",
       "      <th>age</th>\n",
       "      <th>centroid</th>\n",
       "    </tr>\n",
       "  </thead>\n",
       "  <tbody>\n",
       "    <tr>\n",
       "      <th>stu_1</th>\n",
       "      <td>ali</td>\n",
       "      <td>10.0</td>\n",
       "      <td>1</td>\n",
       "    </tr>\n",
       "    <tr>\n",
       "      <th>stu_2</th>\n",
       "      <td>zoe</td>\n",
       "      <td>NaN</td>\n",
       "      <td>3</td>\n",
       "    </tr>\n",
       "    <tr>\n",
       "      <th>stu_3</th>\n",
       "      <td>moh</td>\n",
       "      <td>9.0</td>\n",
       "      <td>3</td>\n",
       "    </tr>\n",
       "    <tr>\n",
       "      <th>stu_4</th>\n",
       "      <td>jul</td>\n",
       "      <td>NaN</td>\n",
       "      <td>2</td>\n",
       "    </tr>\n",
       "    <tr>\n",
       "      <th>stu_5</th>\n",
       "      <td>lipo</td>\n",
       "      <td>10.0</td>\n",
       "      <td>3</td>\n",
       "    </tr>\n",
       "    <tr>\n",
       "      <th>stu_6</th>\n",
       "      <td>chen</td>\n",
       "      <td>12.0</td>\n",
       "      <td>1</td>\n",
       "    </tr>\n",
       "  </tbody>\n",
       "</table>\n",
       "</div>"
      ],
      "text/plain": [
       "      names   age  centroid\n",
       "stu_1   ali  10.0         1\n",
       "stu_2   zoe   NaN         3\n",
       "stu_3   moh   9.0         3\n",
       "stu_4   jul   NaN         2\n",
       "stu_5  lipo  10.0         3\n",
       "stu_6  chen  12.0         1"
      ]
     },
     "execution_count": 665,
     "metadata": {},
     "output_type": "execute_result"
    }
   ],
   "source": [
    "df_temp"
   ]
  },
  {
   "cell_type": "code",
   "execution_count": 663,
   "metadata": {},
   "outputs": [
    {
     "data": {
      "text/html": [
       "<div>\n",
       "<style scoped>\n",
       "    .dataframe tbody tr th:only-of-type {\n",
       "        vertical-align: middle;\n",
       "    }\n",
       "\n",
       "    .dataframe tbody tr th {\n",
       "        vertical-align: top;\n",
       "    }\n",
       "\n",
       "    .dataframe thead th {\n",
       "        text-align: right;\n",
       "    }\n",
       "</style>\n",
       "<table border=\"1\" class=\"dataframe\">\n",
       "  <thead>\n",
       "    <tr style=\"text-align: right;\">\n",
       "      <th></th>\n",
       "      <th>names</th>\n",
       "      <th>age</th>\n",
       "      <th>centroid</th>\n",
       "    </tr>\n",
       "  </thead>\n",
       "  <tbody>\n",
       "    <tr>\n",
       "      <th>stu_1</th>\n",
       "      <td>False</td>\n",
       "      <td>False</td>\n",
       "      <td>False</td>\n",
       "    </tr>\n",
       "    <tr>\n",
       "      <th>stu_2</th>\n",
       "      <td>False</td>\n",
       "      <td>True</td>\n",
       "      <td>False</td>\n",
       "    </tr>\n",
       "    <tr>\n",
       "      <th>stu_3</th>\n",
       "      <td>False</td>\n",
       "      <td>False</td>\n",
       "      <td>False</td>\n",
       "    </tr>\n",
       "    <tr>\n",
       "      <th>stu_4</th>\n",
       "      <td>False</td>\n",
       "      <td>True</td>\n",
       "      <td>False</td>\n",
       "    </tr>\n",
       "    <tr>\n",
       "      <th>stu_5</th>\n",
       "      <td>False</td>\n",
       "      <td>False</td>\n",
       "      <td>False</td>\n",
       "    </tr>\n",
       "    <tr>\n",
       "      <th>stu_6</th>\n",
       "      <td>False</td>\n",
       "      <td>False</td>\n",
       "      <td>False</td>\n",
       "    </tr>\n",
       "  </tbody>\n",
       "</table>\n",
       "</div>"
      ],
      "text/plain": [
       "       names    age  centroid\n",
       "stu_1  False  False     False\n",
       "stu_2  False   True     False\n",
       "stu_3  False  False     False\n",
       "stu_4  False   True     False\n",
       "stu_5  False  False     False\n",
       "stu_6  False  False     False"
      ]
     },
     "execution_count": 663,
     "metadata": {},
     "output_type": "execute_result"
    }
   ],
   "source": [
    "df_temp.isna()"
   ]
  },
  {
   "cell_type": "code",
   "execution_count": 664,
   "metadata": {},
   "outputs": [
    {
     "data": {
      "text/plain": [
       "stu_1    10.0\n",
       "stu_2    10.0\n",
       "stu_3     9.0\n",
       "stu_4    10.0\n",
       "stu_5    10.0\n",
       "stu_6    12.0\n",
       "Name: age, dtype: float64"
      ]
     },
     "execution_count": 664,
     "metadata": {},
     "output_type": "execute_result"
    }
   ],
   "source": [
    "df_temp['age'].fillna(10)"
   ]
  },
  {
   "cell_type": "markdown",
   "metadata": {},
   "source": [
    "--------------------------------\n",
    "Question\n",
    "\n",
    "1. Using your DataFrame df_stu\n",
    "2. Replace zeros by *nan* in column *is_adult*\n",
    "3. Display the DataFrame\n",
    "\n",
    "It should generate the following output\n",
    "```\n",
    "\tnames\tgrades_harmonized\tis_adult\n",
    "0\tliu\t15\tNaN\n",
    "1\tfuy\t16\t1.0\n",
    "2\ttio\t17\t1.0\n",
    "3\tkape\t15\tNaN\n",
    "```"
   ]
  },
  {
   "cell_type": "code",
   "execution_count": 140,
   "metadata": {},
   "outputs": [
    {
     "data": {
      "text/html": [
       "<div>\n",
       "<style scoped>\n",
       "    .dataframe tbody tr th:only-of-type {\n",
       "        vertical-align: middle;\n",
       "    }\n",
       "\n",
       "    .dataframe tbody tr th {\n",
       "        vertical-align: top;\n",
       "    }\n",
       "\n",
       "    .dataframe thead th {\n",
       "        text-align: right;\n",
       "    }\n",
       "</style>\n",
       "<table border=\"1\" class=\"dataframe\">\n",
       "  <thead>\n",
       "    <tr style=\"text-align: right;\">\n",
       "      <th></th>\n",
       "      <th>names</th>\n",
       "      <th>grades_harmonized</th>\n",
       "      <th>is_adult</th>\n",
       "    </tr>\n",
       "  </thead>\n",
       "  <tbody>\n",
       "    <tr>\n",
       "      <th>0</th>\n",
       "      <td>liu</td>\n",
       "      <td>15</td>\n",
       "      <td>NaN</td>\n",
       "    </tr>\n",
       "    <tr>\n",
       "      <th>1</th>\n",
       "      <td>fuy</td>\n",
       "      <td>16</td>\n",
       "      <td>1.0</td>\n",
       "    </tr>\n",
       "    <tr>\n",
       "      <th>2</th>\n",
       "      <td>tio</td>\n",
       "      <td>17</td>\n",
       "      <td>1.0</td>\n",
       "    </tr>\n",
       "    <tr>\n",
       "      <th>3</th>\n",
       "      <td>kape</td>\n",
       "      <td>15</td>\n",
       "      <td>NaN</td>\n",
       "    </tr>\n",
       "  </tbody>\n",
       "</table>\n",
       "</div>"
      ],
      "text/plain": [
       "  names  grades_harmonized  is_adult\n",
       "0   liu                 15       NaN\n",
       "1   fuy                 16       1.0\n",
       "2   tio                 17       1.0\n",
       "3  kape                 15       NaN"
      ]
     },
     "execution_count": 140,
     "metadata": {},
     "output_type": "execute_result"
    }
   ],
   "source": [
    "### =====                ==== ####\n",
    "###       YOUR CODE HERE      ####\n",
    "### =====                ==== ####\n",
    "df_stu.replace(0, np.nan, inplace=True)\n",
    "df_stu"
   ]
  },
  {
   "cell_type": "markdown",
   "metadata": {},
   "source": [
    "--------------------------------\n",
    "Question\n",
    "\n",
    "1. Using your DataFrame df_stu\n",
    "2. Replace NaNs by False in the column *is_adult*\n",
    "\n",
    "It should generate the following output\n",
    "```\n",
    "\tnames\tgrades_harmonized\tis_adult\n",
    "0\tliu\t15\tFalse\n",
    "1\tfuy\t16\t1.0\n",
    "2\ttio\t17\t1.0\n",
    "3\tkape\t15\tFalse\n",
    "```"
   ]
  },
  {
   "cell_type": "code",
   "execution_count": 143,
   "metadata": {},
   "outputs": [
    {
     "data": {
      "text/html": [
       "<div>\n",
       "<style scoped>\n",
       "    .dataframe tbody tr th:only-of-type {\n",
       "        vertical-align: middle;\n",
       "    }\n",
       "\n",
       "    .dataframe tbody tr th {\n",
       "        vertical-align: top;\n",
       "    }\n",
       "\n",
       "    .dataframe thead th {\n",
       "        text-align: right;\n",
       "    }\n",
       "</style>\n",
       "<table border=\"1\" class=\"dataframe\">\n",
       "  <thead>\n",
       "    <tr style=\"text-align: right;\">\n",
       "      <th></th>\n",
       "      <th>names</th>\n",
       "      <th>grades_harmonized</th>\n",
       "      <th>is_adult</th>\n",
       "    </tr>\n",
       "  </thead>\n",
       "  <tbody>\n",
       "    <tr>\n",
       "      <th>0</th>\n",
       "      <td>liu</td>\n",
       "      <td>15</td>\n",
       "      <td>False</td>\n",
       "    </tr>\n",
       "    <tr>\n",
       "      <th>1</th>\n",
       "      <td>fuy</td>\n",
       "      <td>16</td>\n",
       "      <td>1.0</td>\n",
       "    </tr>\n",
       "    <tr>\n",
       "      <th>2</th>\n",
       "      <td>tio</td>\n",
       "      <td>17</td>\n",
       "      <td>1.0</td>\n",
       "    </tr>\n",
       "    <tr>\n",
       "      <th>3</th>\n",
       "      <td>kape</td>\n",
       "      <td>15</td>\n",
       "      <td>False</td>\n",
       "    </tr>\n",
       "  </tbody>\n",
       "</table>\n",
       "</div>"
      ],
      "text/plain": [
       "  names  grades_harmonized is_adult\n",
       "0   liu                 15    False\n",
       "1   fuy                 16      1.0\n",
       "2   tio                 17      1.0\n",
       "3  kape                 15    False"
      ]
     },
     "execution_count": 143,
     "metadata": {},
     "output_type": "execute_result"
    }
   ],
   "source": [
    "### =====                ==== ####\n",
    "###       YOUR CODE HERE      ####\n",
    "### =====                ==== ####\n",
    "df_stu.fillna(False, inplace=True)\n",
    "df_stu"
   ]
  },
  {
   "cell_type": "markdown",
   "metadata": {},
   "source": [
    "--------------------------------\n",
    "Question\n",
    "\n",
    "1. Using your DataFrame df_stu\n",
    "2. Replace 1.0 by True in the column *is_adult*\n",
    "\n",
    "It should generate the following output\n",
    "```\n",
    "\tnames\tgrades_harmonized\tis_adult\n",
    "0\tliu\t15\tFalse\n",
    "1\tfuy\t16\tTrue\n",
    "2\ttio\t17\tTrue\n",
    "3\tkape\t15\tFalse\n",
    "```"
   ]
  },
  {
   "cell_type": "code",
   "execution_count": 146,
   "metadata": {},
   "outputs": [
    {
     "data": {
      "text/html": [
       "<div>\n",
       "<style scoped>\n",
       "    .dataframe tbody tr th:only-of-type {\n",
       "        vertical-align: middle;\n",
       "    }\n",
       "\n",
       "    .dataframe tbody tr th {\n",
       "        vertical-align: top;\n",
       "    }\n",
       "\n",
       "    .dataframe thead th {\n",
       "        text-align: right;\n",
       "    }\n",
       "</style>\n",
       "<table border=\"1\" class=\"dataframe\">\n",
       "  <thead>\n",
       "    <tr style=\"text-align: right;\">\n",
       "      <th></th>\n",
       "      <th>names</th>\n",
       "      <th>grades_harmonized</th>\n",
       "      <th>is_adult</th>\n",
       "    </tr>\n",
       "  </thead>\n",
       "  <tbody>\n",
       "    <tr>\n",
       "      <th>0</th>\n",
       "      <td>liu</td>\n",
       "      <td>15</td>\n",
       "      <td>False</td>\n",
       "    </tr>\n",
       "    <tr>\n",
       "      <th>1</th>\n",
       "      <td>fuy</td>\n",
       "      <td>16</td>\n",
       "      <td>True</td>\n",
       "    </tr>\n",
       "    <tr>\n",
       "      <th>2</th>\n",
       "      <td>tio</td>\n",
       "      <td>17</td>\n",
       "      <td>True</td>\n",
       "    </tr>\n",
       "    <tr>\n",
       "      <th>3</th>\n",
       "      <td>kape</td>\n",
       "      <td>15</td>\n",
       "      <td>False</td>\n",
       "    </tr>\n",
       "  </tbody>\n",
       "</table>\n",
       "</div>"
      ],
      "text/plain": [
       "  names  grades_harmonized  is_adult\n",
       "0   liu                 15     False\n",
       "1   fuy                 16      True\n",
       "2   tio                 17      True\n",
       "3  kape                 15     False"
      ]
     },
     "execution_count": 146,
     "metadata": {},
     "output_type": "execute_result"
    }
   ],
   "source": [
    "### =====                ==== ####\n",
    "###       YOUR CODE HERE      ####\n",
    "### =====                ==== ####\n",
    "df_stu.replace(1.0, True, inplace=True)\n",
    "df_stu"
   ]
  },
  {
   "cell_type": "markdown",
   "metadata": {},
   "source": [
    "### Generate graphs"
   ]
  },
  {
   "cell_type": "markdown",
   "metadata": {},
   "source": [
    "Add feature 'size'"
   ]
  },
  {
   "cell_type": "code",
   "execution_count": 478,
   "metadata": {},
   "outputs": [],
   "source": [
    "df_graph = df.copy()"
   ]
  },
  {
   "cell_type": "code",
   "execution_count": 479,
   "metadata": {},
   "outputs": [],
   "source": [
    "df_graph['size'] = [100, 140, 70]"
   ]
  },
  {
   "cell_type": "code",
   "execution_count": 480,
   "metadata": {},
   "outputs": [],
   "source": [
    "df_graph.sort_values('age', inplace=True)"
   ]
  },
  {
   "cell_type": "code",
   "execution_count": 481,
   "metadata": {},
   "outputs": [
    {
     "data": {
      "text/html": [
       "<div>\n",
       "<style scoped>\n",
       "    .dataframe tbody tr th:only-of-type {\n",
       "        vertical-align: middle;\n",
       "    }\n",
       "\n",
       "    .dataframe tbody tr th {\n",
       "        vertical-align: top;\n",
       "    }\n",
       "\n",
       "    .dataframe thead th {\n",
       "        text-align: right;\n",
       "    }\n",
       "</style>\n",
       "<table border=\"1\" class=\"dataframe\">\n",
       "  <thead>\n",
       "    <tr style=\"text-align: right;\">\n",
       "      <th></th>\n",
       "      <th>names</th>\n",
       "      <th>age</th>\n",
       "      <th>size</th>\n",
       "    </tr>\n",
       "  </thead>\n",
       "  <tbody>\n",
       "    <tr>\n",
       "      <th>stu_3</th>\n",
       "      <td>moh</td>\n",
       "      <td>9</td>\n",
       "      <td>70</td>\n",
       "    </tr>\n",
       "    <tr>\n",
       "      <th>stu_1</th>\n",
       "      <td>ali</td>\n",
       "      <td>10</td>\n",
       "      <td>100</td>\n",
       "    </tr>\n",
       "    <tr>\n",
       "      <th>stu_2</th>\n",
       "      <td>zoe</td>\n",
       "      <td>12</td>\n",
       "      <td>140</td>\n",
       "    </tr>\n",
       "  </tbody>\n",
       "</table>\n",
       "</div>"
      ],
      "text/plain": [
       "      names  age  size\n",
       "stu_3   moh    9    70\n",
       "stu_1   ali   10   100\n",
       "stu_2   zoe   12   140"
      ]
     },
     "execution_count": 481,
     "metadata": {},
     "output_type": "execute_result"
    }
   ],
   "source": [
    "df_graph"
   ]
  },
  {
   "cell_type": "code",
   "execution_count": 482,
   "metadata": {},
   "outputs": [
    {
     "data": {
      "text/plain": [
       "<AxesSubplot:xlabel='age'>"
      ]
     },
     "execution_count": 482,
     "metadata": {},
     "output_type": "execute_result"
    },
    {
     "data": {
      "image/png": "[encoded data removed]",
      "text/plain": [
       "<Figure size 432x288 with 1 Axes>"
      ]
     },
     "metadata": {
      "needs_background": "light"
     },
     "output_type": "display_data"
    }
   ],
   "source": [
    "df_graph.plot(x='age', y='size')"
   ]
  },
  {
   "cell_type": "code",
   "execution_count": 483,
   "metadata": {},
   "outputs": [
    {
     "data": {
      "text/plain": [
       "<AxesSubplot:xlabel='age', ylabel='size'>"
      ]
     },
     "execution_count": 483,
     "metadata": {},
     "output_type": "execute_result"
    },
    {
     "data": {
      "image/png": "[encoded data removed]",
      "text/plain": [
       "<Figure size 432x288 with 1 Axes>"
      ]
     },
     "metadata": {
      "needs_background": "light"
     },
     "output_type": "display_data"
    }
   ],
   "source": [
    "df_graph.plot.scatter(x='age', y='size')"
   ]
  },
  {
   "cell_type": "code",
   "execution_count": 484,
   "metadata": {},
   "outputs": [],
   "source": [
    "stu_4 = {'names': 'mat', 'age': 12, 'size': 100}\n",
    "df_graph = df_graph.append(stu_4, ignore_index=True)"
   ]
  },
  {
   "cell_type": "code",
   "execution_count": 485,
   "metadata": {},
   "outputs": [
    {
     "data": {
      "text/plain": [
       "<AxesSubplot:>"
      ]
     },
     "execution_count": 485,
     "metadata": {},
     "output_type": "execute_result"
    },
    {
     "data": {
      "image/png": "[encoded data removed]",
      "text/plain": [
       "<Figure size 432x288 with 1 Axes>"
      ]
     },
     "metadata": {
      "needs_background": "light"
     },
     "output_type": "display_data"
    }
   ],
   "source": [
    "df_graph['age'].hist()"
   ]
  },
  {
   "cell_type": "markdown",
   "metadata": {},
   "source": [
    "--------------------------------\n",
    "Question\n",
    "\n",
    "1. Using your DataFrame df_stu\n",
    "2. Display a histgoram of *grades_harmonized*"
   ]
  },
  {
   "cell_type": "code",
   "execution_count": 150,
   "metadata": {},
   "outputs": [
    {
     "data": {
      "image/png": "[encoded data removed]",
      "text/plain": [
       "<Figure size 432x288 with 1 Axes>"
      ]
     },
     "metadata": {
      "needs_background": "light"
     },
     "output_type": "display_data"
    }
   ],
   "source": [
    "### =====                ==== ####\n",
    "###       YOUR CODE HERE      ####\n",
    "### =====                ==== ####\n",
    "df_stu.hist()\n",
    "None"
   ]
  },
  {
   "cell_type": "markdown",
   "metadata": {},
   "source": [
    "### Import csv"
   ]
  },
  {
   "cell_type": "code",
   "execution_count": 486,
   "metadata": {},
   "outputs": [
    {
     "data": {
      "text/html": [
       "<div>\n",
       "<style scoped>\n",
       "    .dataframe tbody tr th:only-of-type {\n",
       "        vertical-align: middle;\n",
       "    }\n",
       "\n",
       "    .dataframe tbody tr th {\n",
       "        vertical-align: top;\n",
       "    }\n",
       "\n",
       "    .dataframe thead th {\n",
       "        text-align: right;\n",
       "    }\n",
       "</style>\n",
       "<table border=\"1\" class=\"dataframe\">\n",
       "  <thead>\n",
       "    <tr style=\"text-align: right;\">\n",
       "      <th></th>\n",
       "      <th>Question</th>\n",
       "      <th>Answer1</th>\n",
       "      <th>True?</th>\n",
       "      <th>2</th>\n",
       "      <th>True?.1</th>\n",
       "      <th>3</th>\n",
       "      <th>True?.2</th>\n",
       "      <th>4</th>\n",
       "      <th>True?.3</th>\n",
       "      <th>5</th>\n",
       "      <th>...</th>\n",
       "      <th>6</th>\n",
       "      <th>True?.5</th>\n",
       "      <th>7</th>\n",
       "      <th>True?.6</th>\n",
       "      <th>8</th>\n",
       "      <th>True?.7</th>\n",
       "      <th>9</th>\n",
       "      <th>True?.8</th>\n",
       "      <th>10</th>\n",
       "      <th>True?.9</th>\n",
       "    </tr>\n",
       "  </thead>\n",
       "  <tbody>\n",
       "    <tr>\n",
       "      <th>0</th>\n",
       "      <td>NaN</td>\n",
       "      <td>NaN</td>\n",
       "      <td>NaN</td>\n",
       "      <td>NaN</td>\n",
       "      <td>NaN</td>\n",
       "      <td>NaN</td>\n",
       "      <td>NaN</td>\n",
       "      <td>NaN</td>\n",
       "      <td>NaN</td>\n",
       "      <td>NaN</td>\n",
       "      <td>...</td>\n",
       "      <td>NaN</td>\n",
       "      <td>NaN</td>\n",
       "      <td>NaN</td>\n",
       "      <td>NaN</td>\n",
       "      <td>NaN</td>\n",
       "      <td>NaN</td>\n",
       "      <td>NaN</td>\n",
       "      <td>NaN</td>\n",
       "      <td>NaN</td>\n",
       "      <td>NaN</td>\n",
       "    </tr>\n",
       "    <tr>\n",
       "      <th>1</th>\n",
       "      <td>Which Operating System has the biggest Persona...</td>\n",
       "      <td>Microsoft Windows</td>\n",
       "      <td>X</td>\n",
       "      <td>Apple macOS</td>\n",
       "      <td>NaN</td>\n",
       "      <td>Unix - Linux</td>\n",
       "      <td>NaN</td>\n",
       "      <td>NaN</td>\n",
       "      <td>NaN</td>\n",
       "      <td>NaN</td>\n",
       "      <td>...</td>\n",
       "      <td>NaN</td>\n",
       "      <td>NaN</td>\n",
       "      <td>NaN</td>\n",
       "      <td>NaN</td>\n",
       "      <td>NaN</td>\n",
       "      <td>NaN</td>\n",
       "      <td>NaN</td>\n",
       "      <td>NaN</td>\n",
       "      <td>NaN</td>\n",
       "      <td>NaN</td>\n",
       "    </tr>\n",
       "    <tr>\n",
       "      <th>2</th>\n",
       "      <td>Which Operating System has the biggest Smartph...</td>\n",
       "      <td>Microsoft Windows</td>\n",
       "      <td>NaN</td>\n",
       "      <td>Apple macOS</td>\n",
       "      <td>NaN</td>\n",
       "      <td>Unix - Linux</td>\n",
       "      <td>X</td>\n",
       "      <td>NaN</td>\n",
       "      <td>NaN</td>\n",
       "      <td>NaN</td>\n",
       "      <td>...</td>\n",
       "      <td>NaN</td>\n",
       "      <td>NaN</td>\n",
       "      <td>NaN</td>\n",
       "      <td>NaN</td>\n",
       "      <td>NaN</td>\n",
       "      <td>NaN</td>\n",
       "      <td>NaN</td>\n",
       "      <td>NaN</td>\n",
       "      <td>NaN</td>\n",
       "      <td>NaN</td>\n",
       "    </tr>\n",
       "    <tr>\n",
       "      <th>3</th>\n",
       "      <td>For Unix creators, human efficiency is more va...</td>\n",
       "      <td>TRUE</td>\n",
       "      <td>X</td>\n",
       "      <td>FALSE</td>\n",
       "      <td>NaN</td>\n",
       "      <td>NaN</td>\n",
       "      <td>NaN</td>\n",
       "      <td>NaN</td>\n",
       "      <td>NaN</td>\n",
       "      <td>NaN</td>\n",
       "      <td>...</td>\n",
       "      <td>NaN</td>\n",
       "      <td>NaN</td>\n",
       "      <td>NaN</td>\n",
       "      <td>NaN</td>\n",
       "      <td>NaN</td>\n",
       "      <td>NaN</td>\n",
       "      <td>NaN</td>\n",
       "      <td>NaN</td>\n",
       "      <td>NaN</td>\n",
       "      <td>NaN</td>\n",
       "    </tr>\n",
       "    <tr>\n",
       "      <th>4</th>\n",
       "      <td>Before Personal Computer era, human efficiency...</td>\n",
       "      <td>TRUE</td>\n",
       "      <td>NaN</td>\n",
       "      <td>FALSE</td>\n",
       "      <td>X</td>\n",
       "      <td>NaN</td>\n",
       "      <td>NaN</td>\n",
       "      <td>NaN</td>\n",
       "      <td>NaN</td>\n",
       "      <td>NaN</td>\n",
       "      <td>...</td>\n",
       "      <td>NaN</td>\n",
       "      <td>NaN</td>\n",
       "      <td>NaN</td>\n",
       "      <td>NaN</td>\n",
       "      <td>NaN</td>\n",
       "      <td>NaN</td>\n",
       "      <td>NaN</td>\n",
       "      <td>NaN</td>\n",
       "      <td>NaN</td>\n",
       "      <td>NaN</td>\n",
       "    </tr>\n",
       "  </tbody>\n",
       "</table>\n",
       "<p>5 rows × 21 columns</p>\n",
       "</div>"
      ],
      "text/plain": [
       "                                            Question            Answer1 True?  \\\n",
       "0                                                NaN                NaN   NaN   \n",
       "1  Which Operating System has the biggest Persona...  Microsoft Windows     X   \n",
       "2  Which Operating System has the biggest Smartph...  Microsoft Windows   NaN   \n",
       "3  For Unix creators, human efficiency is more va...               TRUE     X   \n",
       "4  Before Personal Computer era, human efficiency...               TRUE   NaN   \n",
       "\n",
       "             2 True?.1             3 True?.2    4 True?.3    5  ...    6  \\\n",
       "0          NaN     NaN           NaN     NaN  NaN     NaN  NaN  ...  NaN   \n",
       "1  Apple macOS     NaN  Unix - Linux     NaN  NaN     NaN  NaN  ...  NaN   \n",
       "2  Apple macOS     NaN  Unix - Linux       X  NaN     NaN  NaN  ...  NaN   \n",
       "3        FALSE     NaN           NaN     NaN  NaN     NaN  NaN  ...  NaN   \n",
       "4        FALSE       X           NaN     NaN  NaN     NaN  NaN  ...  NaN   \n",
       "\n",
       "  True?.5    7 True?.6    8 True?.7   9  True?.8  10  True?.9  \n",
       "0     NaN  NaN     NaN  NaN     NaN NaN      NaN NaN      NaN  \n",
       "1     NaN  NaN     NaN  NaN     NaN NaN      NaN NaN      NaN  \n",
       "2     NaN  NaN     NaN  NaN     NaN NaN      NaN NaN      NaN  \n",
       "3     NaN  NaN     NaN  NaN     NaN NaN      NaN NaN      NaN  \n",
       "4     NaN  NaN     NaN  NaN     NaN NaN      NaN NaN      NaN  \n",
       "\n",
       "[5 rows x 21 columns]"
      ]
     },
     "execution_count": 486,
     "metadata": {},
     "output_type": "execute_result"
    }
   ],
   "source": [
    "path_relative = \"examples/TD6_Exam_MCQ.csv\"  # relative\n",
    "path_absolute = \"/Users/alexisbogroff/git_repositories/Sorbonne_Data_Science_Workshop/src/examples/TD6_Exam_MCQ.csv\" # absolute\n",
    "df = pd.read_csv(path_relative)\n",
    "df.head()"
   ]
  },
  {
   "cell_type": "code",
   "execution_count": 487,
   "metadata": {},
   "outputs": [
    {
     "data": {
      "text/plain": [
       "pandas.core.frame.DataFrame"
      ]
     },
     "execution_count": 487,
     "metadata": {},
     "output_type": "execute_result"
    }
   ],
   "source": [
    "type(df)"
   ]
  },
  {
   "cell_type": "code",
   "execution_count": 488,
   "metadata": {},
   "outputs": [
    {
     "name": "stdout",
     "output_type": "stream",
     "text": [
      "<class 'pandas.core.frame.DataFrame'>\n",
      "RangeIndex: 53 entries, 0 to 52\n",
      "Data columns (total 21 columns):\n",
      " #   Column    Non-Null Count  Dtype  \n",
      "---  ------    --------------  -----  \n",
      " 0   Question  48 non-null     object \n",
      " 1   Answer1   48 non-null     object \n",
      " 2   True?     17 non-null     object \n",
      " 3   2         48 non-null     object \n",
      " 4   True?.1   17 non-null     object \n",
      " 5   3         43 non-null     object \n",
      " 6   True?.2   13 non-null     object \n",
      " 7   4         39 non-null     object \n",
      " 8   True?.3   12 non-null     object \n",
      " 9   5         32 non-null     object \n",
      " 10  True?.4   6 non-null      object \n",
      " 11  6         19 non-null     object \n",
      " 12  True?.5   2 non-null      object \n",
      " 13  7         11 non-null     object \n",
      " 14  True?.6   1 non-null      object \n",
      " 15  8         1 non-null      object \n",
      " 16  True?.7   0 non-null      float64\n",
      " 17  9         0 non-null      float64\n",
      " 18  True?.8   0 non-null      float64\n",
      " 19  10        0 non-null      float64\n",
      " 20  True?.9   0 non-null      float64\n",
      "dtypes: float64(5), object(16)\n",
      "memory usage: 8.8+ KB\n"
     ]
    }
   ],
   "source": [
    "df.info()"
   ]
  },
  {
   "cell_type": "markdown",
   "metadata": {},
   "source": [
    "### Filter (extract) data from DataFrame (Pandas)"
   ]
  },
  {
   "cell_type": "code",
   "execution_count": 489,
   "metadata": {},
   "outputs": [
    {
     "name": "stdout",
     "output_type": "stream",
     "text": [
      "<class 'pandas.core.series.Series'>\n"
     ]
    },
    {
     "data": {
      "text/plain": [
       "Question    Which Operating System has the biggest Persona...\n",
       "Answer1                                     Microsoft Windows\n",
       "True?                                                       X\n",
       "2                                                 Apple macOS\n",
       "True?.1                                                   NaN\n",
       "3                                                Unix - Linux\n",
       "True?.2                                                   NaN\n",
       "4                                                         NaN\n",
       "True?.3                                                   NaN\n",
       "5                                                         NaN\n",
       "True?.4                                                   NaN\n",
       "6                                                         NaN\n",
       "True?.5                                                   NaN\n",
       "7                                                         NaN\n",
       "True?.6                                                   NaN\n",
       "8                                                         NaN\n",
       "True?.7                                                   NaN\n",
       "9                                                         NaN\n",
       "True?.8                                                   NaN\n",
       "10                                                        NaN\n",
       "True?.9                                                   NaN\n",
       "Name: 1, dtype: object"
      ]
     },
     "execution_count": 489,
     "metadata": {},
     "output_type": "execute_result"
    }
   ],
   "source": [
    "# Get line 2\n",
    "print(type(df.iloc[1]))\n",
    "df.iloc[1]"
   ]
  },
  {
   "cell_type": "code",
   "execution_count": 490,
   "metadata": {},
   "outputs": [
    {
     "data": {
      "text/plain": [
       "Question    Which Operating System has the biggest Persona...\n",
       "Answer1                                     Microsoft Windows\n",
       "True?                                                       X\n",
       "2                                                 Apple macOS\n",
       "3                                                Unix - Linux\n",
       "Name: 1, dtype: object"
      ]
     },
     "execution_count": 490,
     "metadata": {},
     "output_type": "execute_result"
    }
   ],
   "source": [
    "# Get line 2 without NAs\n",
    "df.iloc[1][~df.iloc[1].isna()]"
   ]
  },
  {
   "cell_type": "code",
   "execution_count": 491,
   "metadata": {},
   "outputs": [],
   "source": [
    "# Do the same in multiple steps (more comprehensible)\n",
    "line_2 = df.iloc[1]  # extract => get a pandas Series\n",
    "mask_isna = line_2.isna()  # mask => True & False\n",
    "line_2_no_na = line_2[~mask_isna]  # ~ => Get all BUT what is True"
   ]
  },
  {
   "cell_type": "code",
   "execution_count": 492,
   "metadata": {},
   "outputs": [
    {
     "data": {
      "text/plain": [
       "Question    Which Operating System has the biggest Persona...\n",
       "Answer1                                     Microsoft Windows\n",
       "True?                                                       X\n",
       "2                                                 Apple macOS\n",
       "3                                                Unix - Linux\n",
       "Name: 1, dtype: object"
      ]
     },
     "execution_count": 492,
     "metadata": {},
     "output_type": "execute_result"
    }
   ],
   "source": [
    "line_2_no_na"
   ]
  },
  {
   "cell_type": "markdown",
   "metadata": {},
   "source": [
    "## Lambda functions<a class=anchor id=lambda></a>"
   ]
  },
  {
   "cell_type": "code",
   "execution_count": 496,
   "metadata": {},
   "outputs": [],
   "source": [
    "def mult_11(x):\n",
    "    return x * 11"
   ]
  },
  {
   "cell_type": "code",
   "execution_count": 497,
   "metadata": {},
   "outputs": [
    {
     "data": {
      "text/plain": [
       "44"
      ]
     },
     "execution_count": 497,
     "metadata": {},
     "output_type": "execute_result"
    }
   ],
   "source": [
    "mult_11(4)"
   ]
  },
  {
   "cell_type": "code",
   "execution_count": 498,
   "metadata": {},
   "outputs": [],
   "source": [
    "# Create a function in one-line (don't do this, don't put it in a variable, use rather in apply function as above)\n",
    "# You should either (i) use lambda for one-time use, (ii) use the classic function definition otherwise\n",
    "mult_12 = lambda x: x * 12"
   ]
  },
  {
   "cell_type": "code",
   "execution_count": 499,
   "metadata": {},
   "outputs": [
    {
     "data": {
      "text/plain": [
       "48"
      ]
     },
     "execution_count": 499,
     "metadata": {},
     "output_type": "execute_result"
    }
   ],
   "source": [
    "mult_12(4)"
   ]
  },
  {
   "cell_type": "markdown",
   "metadata": {},
   "source": [
    "When is it useful? When you have one-time use functions"
   ]
  },
  {
   "cell_type": "code",
   "execution_count": 500,
   "metadata": {},
   "outputs": [],
   "source": [
    "df = pd.DataFrame({'letters':['a', 'b', 'c']})"
   ]
  },
  {
   "cell_type": "code",
   "execution_count": 501,
   "metadata": {},
   "outputs": [
    {
     "data": {
      "text/html": [
       "<div>\n",
       "<style scoped>\n",
       "    .dataframe tbody tr th:only-of-type {\n",
       "        vertical-align: middle;\n",
       "    }\n",
       "\n",
       "    .dataframe tbody tr th {\n",
       "        vertical-align: top;\n",
       "    }\n",
       "\n",
       "    .dataframe thead th {\n",
       "        text-align: right;\n",
       "    }\n",
       "</style>\n",
       "<table border=\"1\" class=\"dataframe\">\n",
       "  <thead>\n",
       "    <tr style=\"text-align: right;\">\n",
       "      <th></th>\n",
       "      <th>letters</th>\n",
       "    </tr>\n",
       "  </thead>\n",
       "  <tbody>\n",
       "    <tr>\n",
       "      <th>0</th>\n",
       "      <td>A</td>\n",
       "    </tr>\n",
       "    <tr>\n",
       "      <th>1</th>\n",
       "      <td>B</td>\n",
       "    </tr>\n",
       "    <tr>\n",
       "      <th>2</th>\n",
       "      <td>C</td>\n",
       "    </tr>\n",
       "  </tbody>\n",
       "</table>\n",
       "</div>"
      ],
      "text/plain": [
       "  letters\n",
       "0       A\n",
       "1       B\n",
       "2       C"
      ]
     },
     "execution_count": 501,
     "metadata": {},
     "output_type": "execute_result"
    }
   ],
   "source": [
    "df.apply(lambda x: x.str.upper())"
   ]
  },
  {
   "cell_type": "code",
   "execution_count": 502,
   "metadata": {},
   "outputs": [
    {
     "data": {
      "text/plain": [
       "0    A\n",
       "1    B\n",
       "2    C\n",
       "Name: letters, dtype: object"
      ]
     },
     "execution_count": 502,
     "metadata": {},
     "output_type": "execute_result"
    }
   ],
   "source": [
    "# But useless here since we have a simpler solution\n",
    "df['letters'].str.upper()"
   ]
  },
  {
   "cell_type": "code",
   "execution_count": 503,
   "metadata": {},
   "outputs": [
    {
     "data": {
      "text/plain": [
       "0    A\n",
       "1    b\n",
       "2    c\n",
       "Name: letters, dtype: object"
      ]
     },
     "execution_count": 503,
     "metadata": {},
     "output_type": "execute_result"
    }
   ],
   "source": [
    "df['letters'].apply(lambda x: x.upper() if x=='a' else x)"
   ]
  },
  {
   "cell_type": "markdown",
   "metadata": {},
   "source": [
    "Vectorised loop:\n",
    "- way more effient on large data\n",
    "- good practice"
   ]
  },
  {
   "cell_type": "code",
   "execution_count": 504,
   "metadata": {},
   "outputs": [
    {
     "data": {
      "text/plain": [
       "0    aaaaaaaaaaaa\n",
       "1    bbbbbbbbbbbb\n",
       "2    cccccccccccc\n",
       "Name: letters, dtype: object"
      ]
     },
     "execution_count": 504,
     "metadata": {},
     "output_type": "execute_result"
    }
   ],
   "source": [
    "# Use .apply with a pre defined function\n",
    "df['letters'].apply(mult_12)\n",
    "\n",
    "# Functions should take only 1 argument as input."
   ]
  },
  {
   "cell_type": "markdown",
   "metadata": {},
   "source": [
    "## Objects<a class=anchor id=objects></a>"
   ]
  },
  {
   "cell_type": "markdown",
   "metadata": {},
   "source": [
    "### Create simple class"
   ]
  },
  {
   "cell_type": "code",
   "execution_count": 505,
   "metadata": {},
   "outputs": [],
   "source": [
    "class Truc:\n",
    "    # Define instanciator (init)\n",
    "    def __init__(self):\n",
    "        self.age = 10\n",
    "        self.name = 'truc'"
   ]
  },
  {
   "cell_type": "code",
   "execution_count": 506,
   "metadata": {},
   "outputs": [],
   "source": [
    "truc_1 = Truc()"
   ]
  },
  {
   "cell_type": "code",
   "execution_count": 507,
   "metadata": {},
   "outputs": [
    {
     "data": {
      "text/plain": [
       "<__main__.Truc at 0x15e3629d0>"
      ]
     },
     "execution_count": 507,
     "metadata": {},
     "output_type": "execute_result"
    }
   ],
   "source": [
    "truc_1"
   ]
  },
  {
   "cell_type": "code",
   "execution_count": 508,
   "metadata": {},
   "outputs": [
    {
     "name": "stdout",
     "output_type": "stream",
     "text": [
      "truc\n",
      "10\n"
     ]
    }
   ],
   "source": [
    "print(truc_1.name)\n",
    "print(truc_1.age)\n"
   ]
  },
  {
   "cell_type": "markdown",
   "metadata": {},
   "source": [
    "### Create first method"
   ]
  },
  {
   "cell_type": "code",
   "execution_count": 509,
   "metadata": {},
   "outputs": [],
   "source": [
    "class Truc:\n",
    "\n",
    "    # Define instanciator (init)\n",
    "    def __init__(self):\n",
    "        self.age = 10\n",
    "        self.name = 'truc'\n",
    "\n",
    "    def present(self):\n",
    "        print(f\"My name is: {self.name}, \"\n",
    "              f\"I'm {self.age} years old\")"
   ]
  },
  {
   "cell_type": "code",
   "execution_count": 510,
   "metadata": {},
   "outputs": [],
   "source": [
    "truc_1 = Truc()"
   ]
  },
  {
   "cell_type": "code",
   "execution_count": 511,
   "metadata": {},
   "outputs": [
    {
     "data": {
      "text/plain": [
       "<__main__.Truc at 0x15c945370>"
      ]
     },
     "execution_count": 511,
     "metadata": {},
     "output_type": "execute_result"
    }
   ],
   "source": [
    "truc_1"
   ]
  },
  {
   "cell_type": "code",
   "execution_count": 512,
   "metadata": {},
   "outputs": [
    {
     "data": {
      "text/plain": [
       "'truc'"
      ]
     },
     "execution_count": 512,
     "metadata": {},
     "output_type": "execute_result"
    }
   ],
   "source": [
    "truc_1.name"
   ]
  },
  {
   "cell_type": "code",
   "execution_count": 513,
   "metadata": {},
   "outputs": [
    {
     "name": "stdout",
     "output_type": "stream",
     "text": [
      "My name is: truc, I'm 10 years old\n"
     ]
    }
   ],
   "source": [
    "truc_1.present()"
   ]
  },
  {
   "cell_type": "markdown",
   "metadata": {},
   "source": [
    "### Create a method with a return"
   ]
  },
  {
   "cell_type": "code",
   "execution_count": 514,
   "metadata": {},
   "outputs": [],
   "source": [
    "class Truc:\n",
    "\n",
    "    # Define instanciator (init)\n",
    "    def __init__(self):\n",
    "        self.age = 10\n",
    "        self.name = 'truc'\n",
    "\n",
    "    def present(self):\n",
    "        print(f\"My name is: {self.name}, \"\n",
    "              f\"I'm {self.age} years old\")\n",
    "\n",
    "    def dog_age(self):\n",
    "        return self.age * 7"
   ]
  },
  {
   "cell_type": "code",
   "execution_count": 515,
   "metadata": {},
   "outputs": [],
   "source": [
    "truc_1 = Truc()"
   ]
  },
  {
   "cell_type": "code",
   "execution_count": 516,
   "metadata": {},
   "outputs": [],
   "source": [
    "dog_age = truc_1.dog_age()"
   ]
  },
  {
   "cell_type": "code",
   "execution_count": 517,
   "metadata": {},
   "outputs": [
    {
     "data": {
      "text/plain": [
       "70"
      ]
     },
     "execution_count": 517,
     "metadata": {},
     "output_type": "execute_result"
    }
   ],
   "source": [
    "dog_age"
   ]
  },
  {
   "cell_type": "markdown",
   "metadata": {},
   "source": [
    "### Instanciate with an argument"
   ]
  },
  {
   "cell_type": "code",
   "execution_count": 518,
   "metadata": {},
   "outputs": [],
   "source": [
    "class Truc:\n",
    "\n",
    "    # Define instanciator (init)\n",
    "    def __init__(self, name, age):\n",
    "        self.age = age\n",
    "        self.name = name\n",
    "\n",
    "    def present(self):\n",
    "        print(f\"My name is: {self.name}, \"\n",
    "              f\"I'm {self.age} years old\")\n",
    "\n",
    "    def dog_age(self):\n",
    "        return self.age * 7"
   ]
  },
  {
   "cell_type": "code",
   "execution_count": 519,
   "metadata": {},
   "outputs": [],
   "source": [
    "truc_1 = Truc('Yuko', 7)\n",
    "truc_2 = Truc('Mila', 13)"
   ]
  },
  {
   "cell_type": "code",
   "execution_count": 520,
   "metadata": {},
   "outputs": [
    {
     "name": "stdout",
     "output_type": "stream",
     "text": [
      "Yuko is 49 old\n",
      "Mila is 91 old\n"
     ]
    }
   ],
   "source": [
    "print(f\"{truc_1.name} is {truc_1.dog_age()} old\")\n",
    "print(f\"{truc_2.name} is {truc_2.dog_age()} old\")"
   ]
  },
  {
   "cell_type": "markdown",
   "metadata": {},
   "source": [
    "#### Chaining operations"
   ]
  },
  {
   "cell_type": "code",
   "execution_count": 521,
   "metadata": {},
   "outputs": [
    {
     "data": {
      "text/plain": [
       "'YUKO'"
      ]
     },
     "execution_count": 521,
     "metadata": {},
     "output_type": "execute_result"
    }
   ],
   "source": [
    "truc_1.name.upper()"
   ]
  },
  {
   "cell_type": "code",
   "execution_count": 522,
   "metadata": {},
   "outputs": [
    {
     "data": {
      "text/plain": [
       "'YUKO'"
      ]
     },
     "execution_count": 522,
     "metadata": {},
     "output_type": "execute_result"
    }
   ],
   "source": [
    "name = truc_1.name\n",
    "name.upper()"
   ]
  },
  {
   "cell_type": "markdown",
   "metadata": {},
   "source": [
    "--------------------------------\n",
    "Question\n",
    "\n",
    "1. Define: Define a class named: Bioshop\n",
    "2. Define: It should take the name of the bio shop when the object is instanciated\n",
    "3. Define: It should also get an optional attribute *is_zero_waste* at instanciation, with default value *False*\n",
    "4. Define: Add a method *become_zero_waste* that changes the corresponding attribute to True\n",
    "5. Call: Instanciate an object of your class with the name of your choice\n",
    "6. Call: Call the *become_zero_waste* method\n",
    "7. Call: Display the value of attribute is_zero_waste\n",
    "\n",
    "It should output:\n",
    "```True```"
   ]
  },
  {
   "cell_type": "code",
   "execution_count": 153,
   "metadata": {},
   "outputs": [
    {
     "data": {
      "text/plain": [
       "True"
      ]
     },
     "execution_count": 153,
     "metadata": {},
     "output_type": "execute_result"
    }
   ],
   "source": [
    "### =====                ==== ####\n",
    "###       YOUR CODE HERE      ####\n",
    "### =====                ==== ####\n",
    "class Bioshop:\n",
    "\n",
    "    def __init__(self, name, is_zero_waste=False):\n",
    "        self.name = name\n",
    "        self.is_zero_waste = is_zero_waste\n",
    "\n",
    "    def become_zero_waste(self):\n",
    "        self.is_zero_waste = True\n",
    "\n",
    "bio_vegan = Bioshop('bio_vegan')\n",
    "bio_vegan.become_zero_waste()\n",
    "bio_vegan.is_zero_waste"
   ]
  },
  {
   "cell_type": "markdown",
   "metadata": {},
   "source": [
    "## Libraries<a class=anchor id=libraries></a>"
   ]
  },
  {
   "cell_type": "markdown",
   "metadata": {},
   "source": [
    "### Import personal module"
   ]
  },
  {
   "cell_type": "code",
   "execution_count": 1,
   "metadata": {},
   "outputs": [
    {
     "data": {
      "text/plain": [
       "'truc'"
      ]
     },
     "execution_count": 1,
     "metadata": {},
     "output_type": "execute_result"
    }
   ],
   "source": [
    "import truc\n",
    "truc.truc()"
   ]
  },
  {
   "cell_type": "markdown",
   "metadata": {},
   "source": [
    "### Standard Modules"
   ]
  },
  {
   "cell_type": "code",
   "execution_count": null,
   "metadata": {},
   "outputs": [],
   "source": [
    "# How to use a standard module\n",
    "## Measure execution time\n",
    "t_start = datetime.datetime.now()\n",
    "\n",
    "for i in range(int(10e6)):\n",
    "    i**4\n",
    "\n",
    "t_end = datetime.datetime.now()\n",
    "\n",
    "print(t_end-t_start)"
   ]
  }
 ],
 "metadata": {
  "interpreter": {
   "hash": "3e74358760790ee203734cf82a8145858ee0b285e8616beddc0cb417b8455e70"
  },
  "kernelspec": {
   "display_name": "Python 3.9.2 ('eda')",
   "language": "python",
   "name": "python3"
  },
  "language_info": {
   "codemirror_mode": {
    "name": "ipython",
    "version": 3
   },
   "file_extension": ".py",
   "mimetype": "text/x-python",
   "name": "python",
   "nbconvert_exporter": "python",
   "pygments_lexer": "ipython3",
   "version": "3.9.12"
  },
  "orig_nbformat": 4
 },
 "nbformat": 4,
 "nbformat_minor": 2
}
