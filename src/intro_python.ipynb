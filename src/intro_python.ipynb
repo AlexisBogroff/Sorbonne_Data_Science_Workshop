{
 "cells": [
  {
   "cell_type": "markdown",
   "metadata": {},
   "source": [
    "# Introduction to Python"
   ]
  },
  {
   "cell_type": "code",
   "execution_count": 49,
   "metadata": {},
   "outputs": [],
   "source": [
    "# Modules, Libraries\n",
    "import pandas as pd\n",
    "import numpy as np\n",
    "import datetime\n",
    "import os\n",
    "import sklearn\n",
    "import truc"
   ]
  },
  {
   "cell_type": "code",
   "execution_count": 50,
   "metadata": {},
   "outputs": [
    {
     "data": {
      "text/plain": [
       "'truc'"
      ]
     },
     "execution_count": 50,
     "metadata": {},
     "output_type": "execute_result"
    }
   ],
   "source": [
    "# Import personal module\n",
    "truc.truc()"
   ]
  },
  {
   "cell_type": "code",
   "execution_count": 51,
   "metadata": {},
   "outputs": [
    {
     "name": "stdout",
     "output_type": "stream",
     "text": [
      "0:00:02.270978\n"
     ]
    }
   ],
   "source": [
    "# How to use a standard module\n",
    "## Measure execution time\n",
    "t_start = datetime.datetime.now()\n",
    "\n",
    "for i in range(int(10e6)):\n",
    "    i**4\n",
    "\n",
    "t_end = datetime.datetime.now()\n",
    "\n",
    "print(t_end-t_start)"
   ]
  },
  {
   "cell_type": "markdown",
   "metadata": {},
   "source": [
    "## Basic types / structures"
   ]
  },
  {
   "cell_type": "code",
   "execution_count": null,
   "metadata": {},
   "outputs": [],
   "source": [
    "# Text and numbers\n",
    "12         # int (integer)\n",
    "1.5        # float\n",
    "'hola'     # str (string)\n",
    "\"hola\"\n",
    "\"\"\"hola\"\"\"\n",
    "\n",
    "# Iterables\n",
    "[42, 58, 209, 42]  # list\n",
    "(42, 58, 209, 42)  # tuple\n",
    "{42, 58, 209}      # set\n",
    "{'name': ['akiko', 'julie'], 'age': [12, 43]}  # dict (dictionary)"
   ]
  },
  {
   "cell_type": "markdown",
   "metadata": {},
   "source": [
    "### Dictionaries"
   ]
  },
  {
   "cell_type": "code",
   "execution_count": 52,
   "metadata": {},
   "outputs": [],
   "source": [
    "# Different (legal as to PEP8) ways to create the dictionary\n",
    "dico = {'surname': ['jp', 'pa', 'ma', 'fo'], 'name': ['aba', 'chd', 'oih', 'iouh'], 'age': [12, 23, 40, 8]}\n",
    "\n",
    "dico = {'surname': ['jp', 'pa', 'ma', 'fo'],\n",
    "        'name': ['aba', 'chd', 'oih', 'iouh'],\n",
    "        'age': [12, 23, 40, 8]}\n",
    "\n",
    "dico = {\n",
    "    'surname': ['jp', 'pa', 'ma', 'fo'],\n",
    "    'name': ['aba', 'chd', 'oih', 'iouh'],\n",
    "    'age': [12, 23, 40, 8],\n",
    "}"
   ]
  },
  {
   "cell_type": "markdown",
   "metadata": {},
   "source": [
    "#### Extract info from dictionary"
   ]
  },
  {
   "cell_type": "code",
   "execution_count": 53,
   "metadata": {},
   "outputs": [
    {
     "data": {
      "text/plain": [
       "['jp', 'pa', 'ma', 'fo']"
      ]
     },
     "execution_count": 53,
     "metadata": {},
     "output_type": "execute_result"
    }
   ],
   "source": [
    "dico['surname']"
   ]
  },
  {
   "cell_type": "code",
   "execution_count": 54,
   "metadata": {},
   "outputs": [
    {
     "data": {
      "text/plain": [
       "['aba', 'chd', 'oih', 'iouh']"
      ]
     },
     "execution_count": 54,
     "metadata": {},
     "output_type": "execute_result"
    }
   ],
   "source": [
    "dico['name']"
   ]
  },
  {
   "cell_type": "code",
   "execution_count": 55,
   "metadata": {},
   "outputs": [
    {
     "data": {
      "text/plain": [
       "dict_items([('surname', ['jp', 'pa', 'ma', 'fo']), ('name', ['aba', 'chd', 'oih', 'iouh']), ('age', [12, 23, 40, 8])])"
      ]
     },
     "execution_count": 55,
     "metadata": {},
     "output_type": "execute_result"
    }
   ],
   "source": [
    "dico.items()"
   ]
  },
  {
   "cell_type": "code",
   "execution_count": 56,
   "metadata": {},
   "outputs": [
    {
     "data": {
      "text/plain": [
       "dict_keys(['surname', 'name', 'age'])"
      ]
     },
     "execution_count": 56,
     "metadata": {},
     "output_type": "execute_result"
    }
   ],
   "source": [
    "dico.keys()"
   ]
  },
  {
   "cell_type": "code",
   "execution_count": 57,
   "metadata": {},
   "outputs": [
    {
     "data": {
      "text/plain": [
       "dict_values([['jp', 'pa', 'ma', 'fo'], ['aba', 'chd', 'oih', 'iouh'], [12, 23, 40, 8]])"
      ]
     },
     "execution_count": 57,
     "metadata": {},
     "output_type": "execute_result"
    }
   ],
   "source": [
    "dico.values()"
   ]
  },
  {
   "cell_type": "code",
   "execution_count": 58,
   "metadata": {},
   "outputs": [
    {
     "name": "stdout",
     "output_type": "stream",
     "text": [
      "pa\n",
      "chd\n",
      "23\n",
      "pa\n",
      "chd\n",
      "23\n"
     ]
    }
   ],
   "source": [
    "for key in dico:\n",
    "    print(dico[key][1])\n",
    "\n",
    "for key in dico.keys():\n",
    "    print(dico[key][1])"
   ]
  },
  {
   "cell_type": "code",
   "execution_count": 59,
   "metadata": {},
   "outputs": [
    {
     "name": "stdout",
     "output_type": "stream",
     "text": [
      "12\n",
      "23\n",
      "40\n",
      "8\n"
     ]
    }
   ],
   "source": [
    "for val in dico['age']:\n",
    "    print(val)"
   ]
  },
  {
   "cell_type": "markdown",
   "metadata": {},
   "source": [
    "#### Add info to dicotionary"
   ]
  },
  {
   "cell_type": "code",
   "execution_count": 60,
   "metadata": {},
   "outputs": [],
   "source": [
    "# Add value to existing key\n",
    "dico['age'].append(43)"
   ]
  },
  {
   "cell_type": "code",
   "execution_count": 61,
   "metadata": {},
   "outputs": [
    {
     "data": {
      "text/plain": [
       "{'surname': ['jp', 'pa', 'ma', 'fo'],\n",
       " 'name': ['aba', 'chd', 'oih', 'iouh'],\n",
       " 'age': [12, 23, 40, 8, 43]}"
      ]
     },
     "execution_count": 61,
     "metadata": {},
     "output_type": "execute_result"
    }
   ],
   "source": [
    "dico"
   ]
  },
  {
   "cell_type": "markdown",
   "metadata": {},
   "source": [
    "We observe that lists of the dictionary do not need to be of same length.\n",
    "\n",
    "Actually, we could add any object in each value"
   ]
  },
  {
   "cell_type": "code",
   "execution_count": 62,
   "metadata": {},
   "outputs": [],
   "source": [
    "dico['country'] = 'a'"
   ]
  },
  {
   "cell_type": "code",
   "execution_count": 63,
   "metadata": {},
   "outputs": [
    {
     "data": {
      "text/plain": [
       "{'surname': ['jp', 'pa', 'ma', 'fo'],\n",
       " 'name': ['aba', 'chd', 'oih', 'iouh'],\n",
       " 'age': [12, 23, 40, 8, 43],\n",
       " 'country': 'a'}"
      ]
     },
     "execution_count": 63,
     "metadata": {},
     "output_type": "execute_result"
    }
   ],
   "source": [
    "dico"
   ]
  },
  {
   "cell_type": "code",
   "execution_count": 64,
   "metadata": {},
   "outputs": [],
   "source": [
    "# Replace existing key/values\n",
    "dico['country'] = ['fr', 'gb', 'us', 'es']"
   ]
  },
  {
   "cell_type": "code",
   "execution_count": 65,
   "metadata": {},
   "outputs": [
    {
     "data": {
      "text/plain": [
       "{'surname': ['jp', 'pa', 'ma', 'fo'],\n",
       " 'name': ['aba', 'chd', 'oih', 'iouh'],\n",
       " 'age': [12, 23, 40, 8, 43],\n",
       " 'country': ['fr', 'gb', 'us', 'es']}"
      ]
     },
     "execution_count": 65,
     "metadata": {},
     "output_type": "execute_result"
    }
   ],
   "source": [
    "dico"
   ]
  },
  {
   "cell_type": "code",
   "execution_count": 66,
   "metadata": {},
   "outputs": [],
   "source": [
    "dico['objects'] = [truc.truc]"
   ]
  },
  {
   "cell_type": "code",
   "execution_count": 67,
   "metadata": {},
   "outputs": [
    {
     "data": {
      "text/plain": [
       "{'surname': ['jp', 'pa', 'ma', 'fo'],\n",
       " 'name': ['aba', 'chd', 'oih', 'iouh'],\n",
       " 'age': [12, 23, 40, 8, 43],\n",
       " 'country': ['fr', 'gb', 'us', 'es'],\n",
       " 'objects': [<function truc.truc()>]}"
      ]
     },
     "execution_count": 67,
     "metadata": {},
     "output_type": "execute_result"
    }
   ],
   "source": [
    "dico"
   ]
  },
  {
   "cell_type": "code",
   "execution_count": 68,
   "metadata": {},
   "outputs": [
    {
     "name": "stdout",
     "output_type": "stream",
     "text": [
      "[<function truc at 0x15c731670>]\n",
      "<function truc at 0x15c731670>\n",
      "truc\n"
     ]
    }
   ],
   "source": [
    "# Chaining operations\n",
    "print(dico['objects'])  # but is within parenthesis\n",
    "print(dico['objects'][0])  # extract the first (and only) element of the list\n",
    "print(dico['objects'][0]())  # execute the function (ref)"
   ]
  },
  {
   "cell_type": "code",
   "execution_count": 69,
   "metadata": {},
   "outputs": [
    {
     "data": {
      "text/plain": [
       "<function truc.truc()>"
      ]
     },
     "execution_count": 69,
     "metadata": {},
     "output_type": "execute_result"
    }
   ],
   "source": [
    "truc.truc"
   ]
  },
  {
   "cell_type": "markdown",
   "metadata": {},
   "source": [
    "## Operators"
   ]
  },
  {
   "cell_type": "markdown",
   "metadata": {},
   "source": [
    "Class methods:\n",
    "- Greater than \\_\\_gt\\_\\_\n",
    "- Lower than \\_\\_lt\\_\\_ "
   ]
  },
  {
   "cell_type": "code",
   "execution_count": 138,
   "metadata": {},
   "outputs": [
    {
     "name": "stdout",
     "output_type": "stream",
     "text": [
      "False\n",
      "True\n",
      "False\n",
      "True\n",
      "False\n",
      "True\n",
      "False\n"
     ]
    }
   ],
   "source": [
    "print(1 > 2)\n",
    "print(1 < 2)\n",
    "print(1 < 1)\n",
    "print('a' < 'b')\n",
    "print('a' > 'b')\n",
    "print([1] < [2, 3])\n",
    "print([1] > [2, 3])"
   ]
  },
  {
   "cell_type": "markdown",
   "metadata": {},
   "source": [
    "Class methods:\n",
    "- Greater than or equal to \\_\\_ge\\_\\_\n",
    "- Lower than or equal to \\_\\_le\\_\\_ "
   ]
  },
  {
   "cell_type": "code",
   "execution_count": 106,
   "metadata": {},
   "outputs": [
    {
     "name": "stdout",
     "output_type": "stream",
     "text": [
      "False\n",
      "True\n",
      "True\n"
     ]
    }
   ],
   "source": [
    "print(1 >= 2)\n",
    "print(1 <= 2)\n",
    "print(1 <= 1)"
   ]
  },
  {
   "cell_type": "markdown",
   "metadata": {},
   "source": [
    "Class methods:\n",
    "- Equal to \\_\\_eq\\_\\_\n",
    "- Different from \\_\\_ne\\_\\_ "
   ]
  },
  {
   "cell_type": "code",
   "execution_count": 107,
   "metadata": {},
   "outputs": [
    {
     "name": "stdout",
     "output_type": "stream",
     "text": [
      "False\n",
      "True\n",
      "True\n",
      "False\n"
     ]
    }
   ],
   "source": [
    "print(1 == 2)\n",
    "print(1 != 2)\n",
    "print(1 == 1)\n",
    "print(1 != 1)"
   ]
  },
  {
   "cell_type": "markdown",
   "metadata": {},
   "source": [
    "Class method:\n",
    "- Find element in object \\_\\_contains\\_\\_\n",
    "\n",
    "Available in iterables, not in numbers."
   ]
  },
  {
   "cell_type": "code",
   "execution_count": 128,
   "metadata": {},
   "outputs": [
    {
     "name": "stdout",
     "output_type": "stream",
     "text": [
      "True\n",
      "False\n",
      "False\n",
      "True\n",
      "False\n",
      "True\n"
     ]
    }
   ],
   "source": [
    "print(1 in [1, 4, 2])\n",
    "print(1 in [4, 2])\n",
    "print([1] in [1, 4, 2])\n",
    "print([1] in [[1], 4, 2])\n",
    "print('a' in 'oisj')\n",
    "print('a' in 'oiasj')"
   ]
  },
  {
   "cell_type": "markdown",
   "metadata": {},
   "source": [
    "Not a class method:\n",
    "- Check if element is (True, False, None, np.nan)"
   ]
  },
  {
   "cell_type": "code",
   "execution_count": 157,
   "metadata": {},
   "outputs": [
    {
     "name": "stdout",
     "output_type": "stream",
     "text": [
      "True\n",
      "False\n",
      "False\n",
      "False\n",
      "True\n",
      "False\n"
     ]
    }
   ],
   "source": [
    "print(True is True)\n",
    "print(True is False)\n",
    "\n",
    "print([1] is None)\n",
    "x = 12\n",
    "print(x is None)\n",
    "x = None\n",
    "print(x is None)\n",
    "\n",
    "import numpy as np\n",
    "print(x is np.nan)"
   ]
  },
  {
   "cell_type": "markdown",
   "metadata": {},
   "source": [
    "Negation operator:\n",
    "- not\n",
    "- ~"
   ]
  },
  {
   "cell_type": "code",
   "execution_count": null,
   "metadata": {},
   "outputs": [
    {
     "name": "stdout",
     "output_type": "stream",
     "text": [
      "True\n",
      "False\n",
      "False\n",
      "False\n",
      "True\n",
      "True\n"
     ]
    }
   ],
   "source": [
    "print(1 == 1)\n",
    "print(not 1 == 1)\n",
    "print(~ 1 == 1)\n",
    "print(1 != 1)\n",
    "print(not 1 != 1)\n",
    "print(~ 1 != 1)"
   ]
  },
  {
   "cell_type": "markdown",
   "metadata": {},
   "source": [
    "View an object internal methods"
   ]
  },
  {
   "cell_type": "code",
   "execution_count": 130,
   "metadata": {},
   "outputs": [
    {
     "data": {
      "text/plain": [
       "['__abs__',\n",
       " '__add__',\n",
       " '__and__',\n",
       " '__bool__',\n",
       " '__ceil__',\n",
       " '__class__',\n",
       " '__delattr__',\n",
       " '__dir__',\n",
       " '__divmod__',\n",
       " '__doc__',\n",
       " '__eq__',\n",
       " '__float__',\n",
       " '__floor__',\n",
       " '__floordiv__',\n",
       " '__format__',\n",
       " '__ge__',\n",
       " '__getattribute__',\n",
       " '__getnewargs__',\n",
       " '__gt__',\n",
       " '__hash__',\n",
       " '__index__',\n",
       " '__init__',\n",
       " '__init_subclass__',\n",
       " '__int__',\n",
       " '__invert__',\n",
       " '__le__',\n",
       " '__lshift__',\n",
       " '__lt__',\n",
       " '__mod__',\n",
       " '__mul__',\n",
       " '__ne__',\n",
       " '__neg__',\n",
       " '__new__',\n",
       " '__or__',\n",
       " '__pos__',\n",
       " '__pow__',\n",
       " '__radd__',\n",
       " '__rand__',\n",
       " '__rdivmod__',\n",
       " '__reduce__',\n",
       " '__reduce_ex__',\n",
       " '__repr__',\n",
       " '__rfloordiv__',\n",
       " '__rlshift__',\n",
       " '__rmod__',\n",
       " '__rmul__',\n",
       " '__ror__',\n",
       " '__round__',\n",
       " '__rpow__',\n",
       " '__rrshift__',\n",
       " '__rshift__',\n",
       " '__rsub__',\n",
       " '__rtruediv__',\n",
       " '__rxor__',\n",
       " '__setattr__',\n",
       " '__sizeof__',\n",
       " '__str__',\n",
       " '__sub__',\n",
       " '__subclasshook__',\n",
       " '__truediv__',\n",
       " '__trunc__',\n",
       " '__xor__',\n",
       " 'as_integer_ratio',\n",
       " 'bit_length',\n",
       " 'conjugate',\n",
       " 'denominator',\n",
       " 'from_bytes',\n",
       " 'imag',\n",
       " 'numerator',\n",
       " 'real',\n",
       " 'to_bytes']"
      ]
     },
     "execution_count": 130,
     "metadata": {},
     "output_type": "execute_result"
    }
   ],
   "source": [
    "dir(3)\n",
    "# dir([1, 2, 3])"
   ]
  },
  {
   "cell_type": "markdown",
   "metadata": {},
   "source": [
    "All these operators return boolean values (True / False). In Pandas, this will help us build \"masks\" (filters)"
   ]
  },
  {
   "cell_type": "markdown",
   "metadata": {},
   "source": [
    "## Conditions"
   ]
  },
  {
   "cell_type": "markdown",
   "metadata": {},
   "source": [
    "Simple \"if, else\" condition"
   ]
  },
  {
   "cell_type": "code",
   "execution_count": 147,
   "metadata": {},
   "outputs": [
    {
     "name": "stdout",
     "output_type": "stream",
     "text": [
      "Yes, x is equal to 3\n"
     ]
    }
   ],
   "source": [
    "x = 3\n",
    "\n",
    "if x == 3:\n",
    "    print(\"Yes, x is equal to 3\")\n",
    "else:\n",
    "    print(\"No, x is not equal to 3\")"
   ]
  },
  {
   "cell_type": "markdown",
   "metadata": {},
   "source": [
    "If is not None"
   ]
  },
  {
   "cell_type": "code",
   "execution_count": 148,
   "metadata": {},
   "outputs": [
    {
     "name": "stdout",
     "output_type": "stream",
     "text": [
      "3\n"
     ]
    }
   ],
   "source": [
    "if x != None:\n",
    "    print(x)\n",
    "else:\n",
    "    print(\"Not possible\")"
   ]
  },
  {
   "cell_type": "markdown",
   "metadata": {},
   "source": [
    "Better way to write, if is not None"
   ]
  },
  {
   "cell_type": "code",
   "execution_count": 149,
   "metadata": {},
   "outputs": [
    {
     "name": "stdout",
     "output_type": "stream",
     "text": [
      "3\n"
     ]
    }
   ],
   "source": [
    "if x:\n",
    "    print(x)\n",
    "else:\n",
    "    print(\"Not possible\")"
   ]
  },
  {
   "cell_type": "markdown",
   "metadata": {},
   "source": [
    "## Control Structures"
   ]
  },
  {
   "cell_type": "markdown",
   "metadata": {},
   "source": [
    "for loop"
   ]
  },
  {
   "cell_type": "code",
   "execution_count": 158,
   "metadata": {},
   "outputs": [
    {
     "name": "stdout",
     "output_type": "stream",
     "text": [
      "2\n",
      "54\n",
      "39\n"
     ]
    }
   ],
   "source": [
    "for i in [2, 54, 39]:\n",
    "    print(i)"
   ]
  },
  {
   "cell_type": "markdown",
   "metadata": {},
   "source": [
    "## Functions"
   ]
  },
  {
   "cell_type": "markdown",
   "metadata": {},
   "source": [
    "Functions can:\n",
    "- take no, to many arguments\n",
    "- arguments can be \"Positional\" or \"Keyword\" arguments\n",
    "- return nothing (None) or anything (to many things)\n",
    "- synonyms: arguments / parameters / inputs\n",
    "\n",
    "One must:\n",
    "- Define the function\n",
    "- Call the function"
   ]
  },
  {
   "cell_type": "markdown",
   "metadata": {},
   "source": [
    "Simplest form:\n",
    "- No argument required\n",
    "- No return"
   ]
  },
  {
   "cell_type": "code",
   "execution_count": 163,
   "metadata": {},
   "outputs": [
    {
     "name": "stdout",
     "output_type": "stream",
     "text": [
      "Something\n"
     ]
    }
   ],
   "source": [
    "# Define the function\n",
    "def say_something():\n",
    "    print(\"Something\")\n",
    "\n",
    "# Call the function\n",
    "say_something()"
   ]
  },
  {
   "cell_type": "markdown",
   "metadata": {},
   "source": [
    "Function with:\n",
    "- an argument\n",
    "- no return"
   ]
  },
  {
   "cell_type": "code",
   "execution_count": 159,
   "metadata": {},
   "outputs": [
    {
     "name": "stdout",
     "output_type": "stream",
     "text": [
      "Alexis\n"
     ]
    }
   ],
   "source": [
    "def say_my_name(name):\n",
    "    print(name)\n",
    "\n",
    "say_my_name(\"Alexis\")"
   ]
  },
  {
   "cell_type": "markdown",
   "metadata": {},
   "source": [
    "Function with:\n",
    "- an argument\n",
    "- a return"
   ]
  },
  {
   "cell_type": "code",
   "execution_count": 166,
   "metadata": {},
   "outputs": [
    {
     "data": {
      "text/plain": [
       "16"
      ]
     },
     "execution_count": 166,
     "metadata": {},
     "output_type": "execute_result"
    }
   ],
   "source": [
    "def square(x):\n",
    "    return x**2\n",
    "\n",
    "result = square(4)\n",
    "result"
   ]
  },
  {
   "cell_type": "markdown",
   "metadata": {},
   "source": [
    "Function with:\n",
    "- multiple arguments\n",
    "- a return"
   ]
  },
  {
   "cell_type": "code",
   "execution_count": 167,
   "metadata": {},
   "outputs": [
    {
     "data": {
      "text/plain": [
       "15"
      ]
     },
     "execution_count": 167,
     "metadata": {},
     "output_type": "execute_result"
    }
   ],
   "source": [
    "def add(a, b, c):\n",
    "    return a + b + c\n",
    "\n",
    "result = add(4, 2, 9)\n",
    "result"
   ]
  },
  {
   "cell_type": "markdown",
   "metadata": {},
   "source": [
    "Function with:\n",
    "- no argument\n",
    "- multiple returns"
   ]
  },
  {
   "cell_type": "code",
   "execution_count": 168,
   "metadata": {},
   "outputs": [
    {
     "data": {
      "text/plain": [
       "('alexis', 'bogroff', 'data')"
      ]
     },
     "execution_count": 168,
     "metadata": {},
     "output_type": "execute_result"
    }
   ],
   "source": [
    "def return_many_things():\n",
    "    return 'alexis', 'bogroff', 'data'\n",
    "\n",
    "return_many_things()"
   ]
  },
  {
   "cell_type": "code",
   "execution_count": 169,
   "metadata": {},
   "outputs": [
    {
     "name": "stdout",
     "output_type": "stream",
     "text": [
      "alexis\n",
      "bogroff\n",
      "data\n"
     ]
    }
   ],
   "source": [
    "# Get the result in separate variables\n",
    "r_1, r_2, r_3 = return_many_things()\n",
    "print(r_1)\n",
    "print(r_2)\n",
    "print(r_3)"
   ]
  },
  {
   "cell_type": "markdown",
   "metadata": {},
   "source": [
    "Function with:\n",
    "- a keyword argument\n",
    "    - is thus optional\n",
    "    - must be positioned after the positional arguments\n",
    "- no return"
   ]
  },
  {
   "cell_type": "code",
   "execution_count": 171,
   "metadata": {},
   "outputs": [
    {
     "name": "stdout",
     "output_type": "stream",
     "text": [
      "Alexis doing data\n",
      "Alexis doing writing the course\n"
     ]
    }
   ],
   "source": [
    "def say_what_you_doing(name, course='data'):\n",
    "    print(f\"{name} doing {course}\")\n",
    "\n",
    "say_what_you_doing(\"Alexis\")\n",
    "say_what_you_doing(\"Alexis\", \"writing the course\")"
   ]
  },
  {
   "cell_type": "markdown",
   "metadata": {},
   "source": [
    "Function with:\n",
    "- a (positional) argument awaiting a function\n",
    "- no return"
   ]
  },
  {
   "cell_type": "code",
   "execution_count": 176,
   "metadata": {},
   "outputs": [
    {
     "name": "stdout",
     "output_type": "stream",
     "text": [
      "This function will say\n",
      "Something\n"
     ]
    }
   ],
   "source": [
    "def complex_fct(func):\n",
    "    print(\"This function will say\")\n",
    "    func()\n",
    "\n",
    "complex_fct(say_something)"
   ]
  },
  {
   "cell_type": "markdown",
   "metadata": {},
   "source": [
    "## Pandas"
   ]
  },
  {
   "cell_type": "markdown",
   "metadata": {},
   "source": [
    "### Import csv (data)"
   ]
  },
  {
   "cell_type": "code",
   "execution_count": 70,
   "metadata": {},
   "outputs": [
    {
     "data": {
      "text/html": [
       "<div>\n",
       "<style scoped>\n",
       "    .dataframe tbody tr th:only-of-type {\n",
       "        vertical-align: middle;\n",
       "    }\n",
       "\n",
       "    .dataframe tbody tr th {\n",
       "        vertical-align: top;\n",
       "    }\n",
       "\n",
       "    .dataframe thead th {\n",
       "        text-align: right;\n",
       "    }\n",
       "</style>\n",
       "<table border=\"1\" class=\"dataframe\">\n",
       "  <thead>\n",
       "    <tr style=\"text-align: right;\">\n",
       "      <th></th>\n",
       "      <th>Question</th>\n",
       "      <th>Answer1</th>\n",
       "      <th>True?</th>\n",
       "      <th>2</th>\n",
       "      <th>True?.1</th>\n",
       "      <th>3</th>\n",
       "      <th>True?.2</th>\n",
       "      <th>4</th>\n",
       "      <th>True?.3</th>\n",
       "      <th>5</th>\n",
       "      <th>...</th>\n",
       "      <th>6</th>\n",
       "      <th>True?.5</th>\n",
       "      <th>7</th>\n",
       "      <th>True?.6</th>\n",
       "      <th>8</th>\n",
       "      <th>True?.7</th>\n",
       "      <th>9</th>\n",
       "      <th>True?.8</th>\n",
       "      <th>10</th>\n",
       "      <th>True?.9</th>\n",
       "    </tr>\n",
       "  </thead>\n",
       "  <tbody>\n",
       "    <tr>\n",
       "      <th>0</th>\n",
       "      <td>NaN</td>\n",
       "      <td>NaN</td>\n",
       "      <td>NaN</td>\n",
       "      <td>NaN</td>\n",
       "      <td>NaN</td>\n",
       "      <td>NaN</td>\n",
       "      <td>NaN</td>\n",
       "      <td>NaN</td>\n",
       "      <td>NaN</td>\n",
       "      <td>NaN</td>\n",
       "      <td>...</td>\n",
       "      <td>NaN</td>\n",
       "      <td>NaN</td>\n",
       "      <td>NaN</td>\n",
       "      <td>NaN</td>\n",
       "      <td>NaN</td>\n",
       "      <td>NaN</td>\n",
       "      <td>NaN</td>\n",
       "      <td>NaN</td>\n",
       "      <td>NaN</td>\n",
       "      <td>NaN</td>\n",
       "    </tr>\n",
       "    <tr>\n",
       "      <th>1</th>\n",
       "      <td>Which Operating System has the biggest Persona...</td>\n",
       "      <td>Microsoft Windows</td>\n",
       "      <td>X</td>\n",
       "      <td>Apple macOS</td>\n",
       "      <td>NaN</td>\n",
       "      <td>Unix - Linux</td>\n",
       "      <td>NaN</td>\n",
       "      <td>NaN</td>\n",
       "      <td>NaN</td>\n",
       "      <td>NaN</td>\n",
       "      <td>...</td>\n",
       "      <td>NaN</td>\n",
       "      <td>NaN</td>\n",
       "      <td>NaN</td>\n",
       "      <td>NaN</td>\n",
       "      <td>NaN</td>\n",
       "      <td>NaN</td>\n",
       "      <td>NaN</td>\n",
       "      <td>NaN</td>\n",
       "      <td>NaN</td>\n",
       "      <td>NaN</td>\n",
       "    </tr>\n",
       "    <tr>\n",
       "      <th>2</th>\n",
       "      <td>Which Operating System has the biggest Smartph...</td>\n",
       "      <td>Microsoft Windows</td>\n",
       "      <td>NaN</td>\n",
       "      <td>Apple macOS</td>\n",
       "      <td>NaN</td>\n",
       "      <td>Unix - Linux</td>\n",
       "      <td>X</td>\n",
       "      <td>NaN</td>\n",
       "      <td>NaN</td>\n",
       "      <td>NaN</td>\n",
       "      <td>...</td>\n",
       "      <td>NaN</td>\n",
       "      <td>NaN</td>\n",
       "      <td>NaN</td>\n",
       "      <td>NaN</td>\n",
       "      <td>NaN</td>\n",
       "      <td>NaN</td>\n",
       "      <td>NaN</td>\n",
       "      <td>NaN</td>\n",
       "      <td>NaN</td>\n",
       "      <td>NaN</td>\n",
       "    </tr>\n",
       "    <tr>\n",
       "      <th>3</th>\n",
       "      <td>For Unix creators, human efficiency is more va...</td>\n",
       "      <td>TRUE</td>\n",
       "      <td>X</td>\n",
       "      <td>FALSE</td>\n",
       "      <td>NaN</td>\n",
       "      <td>NaN</td>\n",
       "      <td>NaN</td>\n",
       "      <td>NaN</td>\n",
       "      <td>NaN</td>\n",
       "      <td>NaN</td>\n",
       "      <td>...</td>\n",
       "      <td>NaN</td>\n",
       "      <td>NaN</td>\n",
       "      <td>NaN</td>\n",
       "      <td>NaN</td>\n",
       "      <td>NaN</td>\n",
       "      <td>NaN</td>\n",
       "      <td>NaN</td>\n",
       "      <td>NaN</td>\n",
       "      <td>NaN</td>\n",
       "      <td>NaN</td>\n",
       "    </tr>\n",
       "    <tr>\n",
       "      <th>4</th>\n",
       "      <td>Before Personal Computer era, human efficiency...</td>\n",
       "      <td>TRUE</td>\n",
       "      <td>NaN</td>\n",
       "      <td>FALSE</td>\n",
       "      <td>X</td>\n",
       "      <td>NaN</td>\n",
       "      <td>NaN</td>\n",
       "      <td>NaN</td>\n",
       "      <td>NaN</td>\n",
       "      <td>NaN</td>\n",
       "      <td>...</td>\n",
       "      <td>NaN</td>\n",
       "      <td>NaN</td>\n",
       "      <td>NaN</td>\n",
       "      <td>NaN</td>\n",
       "      <td>NaN</td>\n",
       "      <td>NaN</td>\n",
       "      <td>NaN</td>\n",
       "      <td>NaN</td>\n",
       "      <td>NaN</td>\n",
       "      <td>NaN</td>\n",
       "    </tr>\n",
       "  </tbody>\n",
       "</table>\n",
       "<p>5 rows × 21 columns</p>\n",
       "</div>"
      ],
      "text/plain": [
       "                                            Question            Answer1 True?  \\\n",
       "0                                                NaN                NaN   NaN   \n",
       "1  Which Operating System has the biggest Persona...  Microsoft Windows     X   \n",
       "2  Which Operating System has the biggest Smartph...  Microsoft Windows   NaN   \n",
       "3  For Unix creators, human efficiency is more va...               TRUE     X   \n",
       "4  Before Personal Computer era, human efficiency...               TRUE   NaN   \n",
       "\n",
       "             2 True?.1             3 True?.2    4 True?.3    5  ...    6  \\\n",
       "0          NaN     NaN           NaN     NaN  NaN     NaN  NaN  ...  NaN   \n",
       "1  Apple macOS     NaN  Unix - Linux     NaN  NaN     NaN  NaN  ...  NaN   \n",
       "2  Apple macOS     NaN  Unix - Linux       X  NaN     NaN  NaN  ...  NaN   \n",
       "3        FALSE     NaN           NaN     NaN  NaN     NaN  NaN  ...  NaN   \n",
       "4        FALSE       X           NaN     NaN  NaN     NaN  NaN  ...  NaN   \n",
       "\n",
       "  True?.5    7 True?.6    8 True?.7   9  True?.8  10  True?.9  \n",
       "0     NaN  NaN     NaN  NaN     NaN NaN      NaN NaN      NaN  \n",
       "1     NaN  NaN     NaN  NaN     NaN NaN      NaN NaN      NaN  \n",
       "2     NaN  NaN     NaN  NaN     NaN NaN      NaN NaN      NaN  \n",
       "3     NaN  NaN     NaN  NaN     NaN NaN      NaN NaN      NaN  \n",
       "4     NaN  NaN     NaN  NaN     NaN NaN      NaN NaN      NaN  \n",
       "\n",
       "[5 rows x 21 columns]"
      ]
     },
     "execution_count": 70,
     "metadata": {},
     "output_type": "execute_result"
    }
   ],
   "source": [
    "path_relative = \"examples/TD6_Exam_MCQ.csv\"  # relative\n",
    "path_absolute = \"/Users/alexisbogroff/git_repositories/Sorbonne_Data_Science_Workshop/src/examples/TD6_Exam_MCQ.csv\" # absolute\n",
    "df = pd.read_csv(path_relative)\n",
    "df.head()"
   ]
  },
  {
   "cell_type": "code",
   "execution_count": 71,
   "metadata": {},
   "outputs": [
    {
     "data": {
      "text/plain": [
       "pandas.core.frame.DataFrame"
      ]
     },
     "execution_count": 71,
     "metadata": {},
     "output_type": "execute_result"
    }
   ],
   "source": [
    "type(df)"
   ]
  },
  {
   "cell_type": "code",
   "execution_count": 72,
   "metadata": {},
   "outputs": [
    {
     "name": "stdout",
     "output_type": "stream",
     "text": [
      "<class 'pandas.core.frame.DataFrame'>\n",
      "RangeIndex: 53 entries, 0 to 52\n",
      "Data columns (total 21 columns):\n",
      " #   Column    Non-Null Count  Dtype  \n",
      "---  ------    --------------  -----  \n",
      " 0   Question  48 non-null     object \n",
      " 1   Answer1   48 non-null     object \n",
      " 2   True?     17 non-null     object \n",
      " 3   2         48 non-null     object \n",
      " 4   True?.1   17 non-null     object \n",
      " 5   3         43 non-null     object \n",
      " 6   True?.2   13 non-null     object \n",
      " 7   4         39 non-null     object \n",
      " 8   True?.3   12 non-null     object \n",
      " 9   5         32 non-null     object \n",
      " 10  True?.4   6 non-null      object \n",
      " 11  6         19 non-null     object \n",
      " 12  True?.5   2 non-null      object \n",
      " 13  7         11 non-null     object \n",
      " 14  True?.6   1 non-null      object \n",
      " 15  8         1 non-null      object \n",
      " 16  True?.7   0 non-null      float64\n",
      " 17  9         0 non-null      float64\n",
      " 18  True?.8   0 non-null      float64\n",
      " 19  10        0 non-null      float64\n",
      " 20  True?.9   0 non-null      float64\n",
      "dtypes: float64(5), object(16)\n",
      "memory usage: 8.8+ KB\n"
     ]
    }
   ],
   "source": [
    "df.info()"
   ]
  },
  {
   "cell_type": "markdown",
   "metadata": {},
   "source": [
    "### Filter (extract) data from DataFrame (Pandas)"
   ]
  },
  {
   "cell_type": "code",
   "execution_count": 73,
   "metadata": {},
   "outputs": [
    {
     "name": "stdout",
     "output_type": "stream",
     "text": [
      "<class 'pandas.core.series.Series'>\n"
     ]
    },
    {
     "data": {
      "text/plain": [
       "Question    Which Operating System has the biggest Persona...\n",
       "Answer1                                     Microsoft Windows\n",
       "True?                                                       X\n",
       "2                                                 Apple macOS\n",
       "True?.1                                                   NaN\n",
       "3                                                Unix - Linux\n",
       "True?.2                                                   NaN\n",
       "4                                                         NaN\n",
       "True?.3                                                   NaN\n",
       "5                                                         NaN\n",
       "True?.4                                                   NaN\n",
       "6                                                         NaN\n",
       "True?.5                                                   NaN\n",
       "7                                                         NaN\n",
       "True?.6                                                   NaN\n",
       "8                                                         NaN\n",
       "True?.7                                                   NaN\n",
       "9                                                         NaN\n",
       "True?.8                                                   NaN\n",
       "10                                                        NaN\n",
       "True?.9                                                   NaN\n",
       "Name: 1, dtype: object"
      ]
     },
     "execution_count": 73,
     "metadata": {},
     "output_type": "execute_result"
    }
   ],
   "source": [
    "# Get line 2\n",
    "print(type(df.iloc[1]))\n",
    "df.iloc[1]"
   ]
  },
  {
   "cell_type": "code",
   "execution_count": 74,
   "metadata": {},
   "outputs": [
    {
     "data": {
      "text/plain": [
       "Question    Which Operating System has the biggest Persona...\n",
       "Answer1                                     Microsoft Windows\n",
       "True?                                                       X\n",
       "2                                                 Apple macOS\n",
       "3                                                Unix - Linux\n",
       "Name: 1, dtype: object"
      ]
     },
     "execution_count": 74,
     "metadata": {},
     "output_type": "execute_result"
    }
   ],
   "source": [
    "# Get line 2 without NAs\n",
    "df.iloc[1][~df.iloc[1].isna()]"
   ]
  },
  {
   "cell_type": "code",
   "execution_count": 75,
   "metadata": {},
   "outputs": [],
   "source": [
    "# Do the same in multiple steps (more comprehensible)\n",
    "line_2 = df.iloc[1]  # extract => get a pandas Series\n",
    "mask_isna = line_2.isna()  # mask => True & False\n",
    "line_2_no_na = line_2[~mask_isna]  # ~ => Get all BUT what is True"
   ]
  },
  {
   "cell_type": "code",
   "execution_count": 76,
   "metadata": {},
   "outputs": [
    {
     "data": {
      "text/plain": [
       "Question    Which Operating System has the biggest Persona...\n",
       "Answer1                                     Microsoft Windows\n",
       "True?                                                       X\n",
       "2                                                 Apple macOS\n",
       "3                                                Unix - Linux\n",
       "Name: 1, dtype: object"
      ]
     },
     "execution_count": 76,
     "metadata": {},
     "output_type": "execute_result"
    }
   ],
   "source": [
    "line_2_no_na"
   ]
  },
  {
   "cell_type": "markdown",
   "metadata": {},
   "source": [
    "## Lists comprehension\n",
    "\n",
    "Efficient looping (since computed in C++)"
   ]
  },
  {
   "cell_type": "code",
   "execution_count": 77,
   "metadata": {},
   "outputs": [],
   "source": [
    "l = []\n",
    "for i in range(50000000):\n",
    "    l.append(i**2)"
   ]
  },
  {
   "cell_type": "code",
   "execution_count": 78,
   "metadata": {},
   "outputs": [],
   "source": [
    "# As long as the instruction is simple enough\n",
    "# Do the following which is faster\n",
    "l = [i**2 for i in range(50000000)]"
   ]
  },
  {
   "cell_type": "code",
   "execution_count": 79,
   "metadata": {},
   "outputs": [],
   "source": [
    "l = []\n",
    "for i in range(int(10e6)):\n",
    "    if i > 10 and i < 20:\n",
    "        l.append(i)\n",
    "    if i > 20 and i < 50:\n",
    "        l.append(0)\n",
    "    else:\n",
    "        l.append(i)"
   ]
  },
  {
   "cell_type": "markdown",
   "metadata": {},
   "source": [
    "## Lambda functions"
   ]
  },
  {
   "cell_type": "code",
   "execution_count": 80,
   "metadata": {},
   "outputs": [],
   "source": [
    "def mult_11(x):\n",
    "    return x * 11"
   ]
  },
  {
   "cell_type": "code",
   "execution_count": 81,
   "metadata": {},
   "outputs": [
    {
     "data": {
      "text/plain": [
       "44"
      ]
     },
     "execution_count": 81,
     "metadata": {},
     "output_type": "execute_result"
    }
   ],
   "source": [
    "mult_11(4)"
   ]
  },
  {
   "cell_type": "code",
   "execution_count": 82,
   "metadata": {},
   "outputs": [],
   "source": [
    "# Create a function in one-line (don't do this alone in a line)\n",
    "mult_12 = lambda x: x * 12"
   ]
  },
  {
   "cell_type": "code",
   "execution_count": 83,
   "metadata": {},
   "outputs": [
    {
     "data": {
      "text/plain": [
       "48"
      ]
     },
     "execution_count": 83,
     "metadata": {},
     "output_type": "execute_result"
    }
   ],
   "source": [
    "mult_12(4)"
   ]
  },
  {
   "cell_type": "markdown",
   "metadata": {},
   "source": [
    "When is it useful? When you have one-time use functions"
   ]
  },
  {
   "cell_type": "code",
   "execution_count": 84,
   "metadata": {},
   "outputs": [],
   "source": [
    "df = pd.DataFrame({'letters':['a', 'b', 'c']})"
   ]
  },
  {
   "cell_type": "code",
   "execution_count": 85,
   "metadata": {},
   "outputs": [
    {
     "data": {
      "text/html": [
       "<div>\n",
       "<style scoped>\n",
       "    .dataframe tbody tr th:only-of-type {\n",
       "        vertical-align: middle;\n",
       "    }\n",
       "\n",
       "    .dataframe tbody tr th {\n",
       "        vertical-align: top;\n",
       "    }\n",
       "\n",
       "    .dataframe thead th {\n",
       "        text-align: right;\n",
       "    }\n",
       "</style>\n",
       "<table border=\"1\" class=\"dataframe\">\n",
       "  <thead>\n",
       "    <tr style=\"text-align: right;\">\n",
       "      <th></th>\n",
       "      <th>letters</th>\n",
       "    </tr>\n",
       "  </thead>\n",
       "  <tbody>\n",
       "    <tr>\n",
       "      <th>0</th>\n",
       "      <td>A</td>\n",
       "    </tr>\n",
       "    <tr>\n",
       "      <th>1</th>\n",
       "      <td>B</td>\n",
       "    </tr>\n",
       "    <tr>\n",
       "      <th>2</th>\n",
       "      <td>C</td>\n",
       "    </tr>\n",
       "  </tbody>\n",
       "</table>\n",
       "</div>"
      ],
      "text/plain": [
       "  letters\n",
       "0       A\n",
       "1       B\n",
       "2       C"
      ]
     },
     "execution_count": 85,
     "metadata": {},
     "output_type": "execute_result"
    }
   ],
   "source": [
    "df.apply(lambda x: x.str.upper())"
   ]
  },
  {
   "cell_type": "code",
   "execution_count": 86,
   "metadata": {},
   "outputs": [
    {
     "data": {
      "text/plain": [
       "0    A\n",
       "1    B\n",
       "2    C\n",
       "Name: letters, dtype: object"
      ]
     },
     "execution_count": 86,
     "metadata": {},
     "output_type": "execute_result"
    }
   ],
   "source": [
    "# But useless here since we have a simpler solution\n",
    "df['letters'].str.upper()"
   ]
  },
  {
   "cell_type": "code",
   "execution_count": 87,
   "metadata": {},
   "outputs": [
    {
     "data": {
      "text/plain": [
       "0    A\n",
       "1    b\n",
       "2    c\n",
       "Name: letters, dtype: object"
      ]
     },
     "execution_count": 87,
     "metadata": {},
     "output_type": "execute_result"
    }
   ],
   "source": [
    "df['letters'].apply(lambda x: x.upper() if x=='a' else x)"
   ]
  },
  {
   "cell_type": "markdown",
   "metadata": {},
   "source": [
    "Vectorised loop:\n",
    "- way more effient on large data\n",
    "- good practice"
   ]
  },
  {
   "cell_type": "code",
   "execution_count": 88,
   "metadata": {},
   "outputs": [
    {
     "data": {
      "text/plain": [
       "0    aaaaaaaaaaaa\n",
       "1    bbbbbbbbbbbb\n",
       "2    cccccccccccc\n",
       "Name: letters, dtype: object"
      ]
     },
     "execution_count": 88,
     "metadata": {},
     "output_type": "execute_result"
    }
   ],
   "source": [
    "# Use .apply with a pre defined function\n",
    "df['letters'].apply(mult_12)\n",
    "\n",
    "# Functions should take only 1 argument as input."
   ]
  },
  {
   "cell_type": "markdown",
   "metadata": {},
   "source": [
    "## Objects"
   ]
  },
  {
   "cell_type": "markdown",
   "metadata": {},
   "source": [
    "### Create simple class"
   ]
  },
  {
   "cell_type": "code",
   "execution_count": 89,
   "metadata": {},
   "outputs": [],
   "source": [
    "class Truc:\n",
    "\n",
    "    # Define instanciator (init)\n",
    "    def __init__(self):\n",
    "        self.age = 10\n",
    "        self.name = 'truc'\n"
   ]
  },
  {
   "cell_type": "code",
   "execution_count": 90,
   "metadata": {},
   "outputs": [],
   "source": [
    "truc_1 = Truc()"
   ]
  },
  {
   "cell_type": "code",
   "execution_count": 91,
   "metadata": {},
   "outputs": [
    {
     "data": {
      "text/plain": [
       "<__main__.Truc at 0x15c93d700>"
      ]
     },
     "execution_count": 91,
     "metadata": {},
     "output_type": "execute_result"
    }
   ],
   "source": [
    "truc_1"
   ]
  },
  {
   "cell_type": "code",
   "execution_count": 92,
   "metadata": {},
   "outputs": [
    {
     "name": "stdout",
     "output_type": "stream",
     "text": [
      "truc\n",
      "10\n"
     ]
    }
   ],
   "source": [
    "print(truc_1.name)\n",
    "print(truc_1.age)\n"
   ]
  },
  {
   "cell_type": "markdown",
   "metadata": {},
   "source": [
    "### Create first method"
   ]
  },
  {
   "cell_type": "code",
   "execution_count": 93,
   "metadata": {},
   "outputs": [],
   "source": [
    "class Truc:\n",
    "\n",
    "    # Define instanciator (init)\n",
    "    def __init__(self):\n",
    "        self.age = 10\n",
    "        self.name = 'truc'\n",
    "\n",
    "    def present(self):\n",
    "        print(f\"My name is: {self.name}, I'm {self.age} years old\")"
   ]
  },
  {
   "cell_type": "code",
   "execution_count": 94,
   "metadata": {},
   "outputs": [],
   "source": [
    "truc_1 = Truc()"
   ]
  },
  {
   "cell_type": "code",
   "execution_count": 95,
   "metadata": {},
   "outputs": [
    {
     "data": {
      "text/plain": [
       "<__main__.Truc at 0x15c93d070>"
      ]
     },
     "execution_count": 95,
     "metadata": {},
     "output_type": "execute_result"
    }
   ],
   "source": [
    "truc_1"
   ]
  },
  {
   "cell_type": "code",
   "execution_count": 96,
   "metadata": {},
   "outputs": [
    {
     "data": {
      "text/plain": [
       "'truc'"
      ]
     },
     "execution_count": 96,
     "metadata": {},
     "output_type": "execute_result"
    }
   ],
   "source": [
    "truc_1.name"
   ]
  },
  {
   "cell_type": "code",
   "execution_count": 97,
   "metadata": {},
   "outputs": [
    {
     "name": "stdout",
     "output_type": "stream",
     "text": [
      "My name is: truc, I'm 10 years old\n"
     ]
    }
   ],
   "source": [
    "truc_1.present()"
   ]
  },
  {
   "cell_type": "markdown",
   "metadata": {},
   "source": [
    "### Create a method with a return"
   ]
  },
  {
   "cell_type": "code",
   "execution_count": 98,
   "metadata": {},
   "outputs": [],
   "source": [
    "class Truc:\n",
    "\n",
    "    # Define instanciator (init)\n",
    "    def __init__(self):\n",
    "        self.age = 10\n",
    "        self.name = 'truc'\n",
    "\n",
    "    def present(self):\n",
    "        print(f\"My name is: {self.name}, I'm {self.age} years old\")\n",
    "\n",
    "    def dog_age(self):\n",
    "        return self.age * 7"
   ]
  },
  {
   "cell_type": "code",
   "execution_count": 99,
   "metadata": {},
   "outputs": [],
   "source": [
    "truc_1 = Truc()"
   ]
  },
  {
   "cell_type": "code",
   "execution_count": 100,
   "metadata": {},
   "outputs": [],
   "source": [
    "dog_age = truc_1.dog_age()"
   ]
  },
  {
   "cell_type": "code",
   "execution_count": 101,
   "metadata": {},
   "outputs": [
    {
     "data": {
      "text/plain": [
       "70"
      ]
     },
     "execution_count": 101,
     "metadata": {},
     "output_type": "execute_result"
    }
   ],
   "source": [
    "dog_age"
   ]
  },
  {
   "cell_type": "markdown",
   "metadata": {},
   "source": [
    "#### Chaining operations"
   ]
  },
  {
   "cell_type": "code",
   "execution_count": 102,
   "metadata": {},
   "outputs": [
    {
     "data": {
      "text/plain": [
       "'TRUC'"
      ]
     },
     "execution_count": 102,
     "metadata": {},
     "output_type": "execute_result"
    }
   ],
   "source": [
    "truc_1.name.upper()"
   ]
  },
  {
   "cell_type": "code",
   "execution_count": 103,
   "metadata": {},
   "outputs": [
    {
     "data": {
      "text/plain": [
       "'TRUC'"
      ]
     },
     "execution_count": 103,
     "metadata": {},
     "output_type": "execute_result"
    }
   ],
   "source": [
    "name = truc_1.name\n",
    "name.upper()"
   ]
  }
 ],
 "metadata": {
  "interpreter": {
   "hash": "3e74358760790ee203734cf82a8145858ee0b285e8616beddc0cb417b8455e70"
  },
  "kernelspec": {
   "display_name": "Python 3.9.2 ('eda')",
   "language": "python",
   "name": "python3"
  },
  "language_info": {
   "codemirror_mode": {
    "name": "ipython",
    "version": 3
   },
   "file_extension": ".py",
   "mimetype": "text/x-python",
   "name": "python",
   "nbconvert_exporter": "python",
   "pygments_lexer": "ipython3",
   "version": "3.9.2"
  },
  "orig_nbformat": 4
 },
 "nbformat": 4,
 "nbformat_minor": 2
}
