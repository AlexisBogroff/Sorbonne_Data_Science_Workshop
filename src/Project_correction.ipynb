{
 "cells": [
  {
   "cell_type": "markdown",
   "metadata": {},
   "source": [
    "# Project Correction"
   ]
  },
  {
   "cell_type": "markdown",
   "metadata": {},
   "source": [
    "## Set up"
   ]
  },
  {
   "cell_type": "code",
   "execution_count": 874,
   "metadata": {},
   "outputs": [],
   "source": [
    "import numpy as np\n",
    "import pandas as pd\n",
    "import matplotlib.pyplot as plt\n",
    "import seaborn as sns"
   ]
  },
  {
   "cell_type": "code",
   "execution_count": 875,
   "metadata": {},
   "outputs": [],
   "source": [
    "sns.set_theme()"
   ]
  },
  {
   "cell_type": "code",
   "execution_count": 876,
   "metadata": {},
   "outputs": [],
   "source": [
    "# Load data\n",
    "file_path = \"masse-salariale-et-assiette-chomage-partiel-mensuelles-du-secteur-prive_modif.csv\"\n",
    "df = pd.read_csv(file_path, sep=';')"
   ]
  },
  {
   "cell_type": "code",
   "execution_count": 877,
   "metadata": {},
   "outputs": [
    {
     "data": {
      "text/html": [
       "<div>\n",
       "<style scoped>\n",
       "    .dataframe tbody tr th:only-of-type {\n",
       "        vertical-align: middle;\n",
       "    }\n",
       "\n",
       "    .dataframe tbody tr th {\n",
       "        vertical-align: top;\n",
       "    }\n",
       "\n",
       "    .dataframe thead th {\n",
       "        text-align: right;\n",
       "    }\n",
       "</style>\n",
       "<table border=\"1\" class=\"dataframe\">\n",
       "  <thead>\n",
       "    <tr style=\"text-align: right;\">\n",
       "      <th></th>\n",
       "      <th>dernier_jour_du_mois</th>\n",
       "      <th>masse_salariale_brute</th>\n",
       "      <th>glissement_annuel_masse_salariale</th>\n",
       "      <th>assiette_chomage_partiel</th>\n",
       "      <th>part_assiette_chomage_partiel</th>\n",
       "    </tr>\n",
       "  </thead>\n",
       "  <tbody>\n",
       "    <tr>\n",
       "      <th>0</th>\n",
       "      <td>2018-07-31</td>\n",
       "      <td>4.751144e+10</td>\n",
       "      <td>3.597676</td>\n",
       "      <td>0</td>\n",
       "      <td>0.095611</td>\n",
       "    </tr>\n",
       "    <tr>\n",
       "      <th>1</th>\n",
       "      <td>2018-12-31</td>\n",
       "      <td>4.600000e+00</td>\n",
       "      <td>3.319051</td>\n",
       "      <td>0</td>\n",
       "      <td>0.099413</td>\n",
       "    </tr>\n",
       "    <tr>\n",
       "      <th>2</th>\n",
       "      <td>2019-02-28</td>\n",
       "      <td>4.650688e+10</td>\n",
       "      <td>3.031088</td>\n",
       "      <td>0</td>\n",
       "      <td>0.127574</td>\n",
       "    </tr>\n",
       "    <tr>\n",
       "      <th>3</th>\n",
       "      <td>2019-12-31</td>\n",
       "      <td>4.600000e+00</td>\n",
       "      <td>1.949395</td>\n",
       "      <td>56070642</td>\n",
       "      <td>0.098110</td>\n",
       "    </tr>\n",
       "    <tr>\n",
       "      <th>4</th>\n",
       "      <td>2020-05-31</td>\n",
       "      <td>4.600000e+00</td>\n",
       "      <td>-18.501244</td>\n",
       "      <td>5026058436</td>\n",
       "      <td>11.315531</td>\n",
       "    </tr>\n",
       "    <tr>\n",
       "      <th>5</th>\n",
       "      <td>2020-06-30</td>\n",
       "      <td>4.811677e+10</td>\n",
       "      <td>-7.287336</td>\n",
       "      <td>2664957719</td>\n",
       "      <td>5.247868</td>\n",
       "    </tr>\n",
       "    <tr>\n",
       "      <th>6</th>\n",
       "      <td>2021-01-31</td>\n",
       "      <td>4.734466e+10</td>\n",
       "      <td>-2.672570</td>\n",
       "      <td>1397496188</td>\n",
       "      <td>2.867120</td>\n",
       "    </tr>\n",
       "    <tr>\n",
       "      <th>7</th>\n",
       "      <td>2021-08-31</td>\n",
       "      <td>4.883181e+10</td>\n",
       "      <td>6.042091</td>\n",
       "      <td>305335366</td>\n",
       "      <td>0.621394</td>\n",
       "    </tr>\n",
       "    <tr>\n",
       "      <th>8</th>\n",
       "      <td>2021-11-30</td>\n",
       "      <td>5.457379e+10</td>\n",
       "      <td>11.471635</td>\n",
       "      <td>0</td>\n",
       "      <td>0.445903</td>\n",
       "    </tr>\n",
       "    <tr>\n",
       "      <th>9</th>\n",
       "      <td>2021-12-31</td>\n",
       "      <td>4.600000e+00</td>\n",
       "      <td>8.992572</td>\n",
       "      <td>0</td>\n",
       "      <td>0.402537</td>\n",
       "    </tr>\n",
       "  </tbody>\n",
       "</table>\n",
       "</div>"
      ],
      "text/plain": [
       "  dernier_jour_du_mois  masse_salariale_brute  \\\n",
       "0           2018-07-31           4.751144e+10   \n",
       "1           2018-12-31           4.600000e+00   \n",
       "2           2019-02-28           4.650688e+10   \n",
       "3           2019-12-31           4.600000e+00   \n",
       "4           2020-05-31           4.600000e+00   \n",
       "5           2020-06-30           4.811677e+10   \n",
       "6           2021-01-31           4.734466e+10   \n",
       "7           2021-08-31           4.883181e+10   \n",
       "8           2021-11-30           5.457379e+10   \n",
       "9           2021-12-31           4.600000e+00   \n",
       "\n",
       "   glissement_annuel_masse_salariale  assiette_chomage_partiel  \\\n",
       "0                           3.597676                         0   \n",
       "1                           3.319051                         0   \n",
       "2                           3.031088                         0   \n",
       "3                           1.949395                  56070642   \n",
       "4                         -18.501244                5026058436   \n",
       "5                          -7.287336                2664957719   \n",
       "6                          -2.672570                1397496188   \n",
       "7                           6.042091                 305335366   \n",
       "8                          11.471635                         0   \n",
       "9                           8.992572                         0   \n",
       "\n",
       "   part_assiette_chomage_partiel  \n",
       "0                       0.095611  \n",
       "1                       0.099413  \n",
       "2                       0.127574  \n",
       "3                       0.098110  \n",
       "4                      11.315531  \n",
       "5                       5.247868  \n",
       "6                       2.867120  \n",
       "7                       0.621394  \n",
       "8                       0.445903  \n",
       "9                       0.402537  "
      ]
     },
     "execution_count": 877,
     "metadata": {},
     "output_type": "execute_result"
    }
   ],
   "source": [
    "df.head(10)"
   ]
  },
  {
   "cell_type": "code",
   "execution_count": 878,
   "metadata": {},
   "outputs": [
    {
     "name": "stdout",
     "output_type": "stream",
     "text": [
      "<class 'pandas.core.frame.DataFrame'>\n",
      "RangeIndex: 50 entries, 0 to 49\n",
      "Data columns (total 5 columns):\n",
      " #   Column                             Non-Null Count  Dtype  \n",
      "---  ------                             --------------  -----  \n",
      " 0   dernier_jour_du_mois               50 non-null     object \n",
      " 1   masse_salariale_brute              49 non-null     float64\n",
      " 2   glissement_annuel_masse_salariale  49 non-null     float64\n",
      " 3   assiette_chomage_partiel           50 non-null     int64  \n",
      " 4   part_assiette_chomage_partiel      50 non-null     float64\n",
      "dtypes: float64(3), int64(1), object(1)\n",
      "memory usage: 2.1+ KB\n"
     ]
    }
   ],
   "source": [
    "df.info()"
   ]
  },
  {
   "cell_type": "code",
   "execution_count": 879,
   "metadata": {},
   "outputs": [
    {
     "data": {
      "text/html": [
       "<div>\n",
       "<style scoped>\n",
       "    .dataframe tbody tr th:only-of-type {\n",
       "        vertical-align: middle;\n",
       "    }\n",
       "\n",
       "    .dataframe tbody tr th {\n",
       "        vertical-align: top;\n",
       "    }\n",
       "\n",
       "    .dataframe thead th {\n",
       "        text-align: right;\n",
       "    }\n",
       "</style>\n",
       "<table border=\"1\" class=\"dataframe\">\n",
       "  <thead>\n",
       "    <tr style=\"text-align: right;\">\n",
       "      <th></th>\n",
       "      <th>masse_salariale_brute</th>\n",
       "      <th>glissement_annuel_masse_salariale</th>\n",
       "      <th>assiette_chomage_partiel</th>\n",
       "      <th>part_assiette_chomage_partiel</th>\n",
       "    </tr>\n",
       "    <tr>\n",
       "      <th>dernier_jour_du_mois</th>\n",
       "      <th></th>\n",
       "      <th></th>\n",
       "      <th></th>\n",
       "      <th></th>\n",
       "    </tr>\n",
       "  </thead>\n",
       "  <tbody>\n",
       "    <tr>\n",
       "      <th>2018-01-31</th>\n",
       "      <td>4.597808e+10</td>\n",
       "      <td>3.723658</td>\n",
       "      <td>65170920</td>\n",
       "      <td>0.141543</td>\n",
       "    </tr>\n",
       "    <tr>\n",
       "      <th>2018-02-28</th>\n",
       "      <td>4.513869e+10</td>\n",
       "      <td>3.382396</td>\n",
       "      <td>93043381</td>\n",
       "      <td>0.205704</td>\n",
       "    </tr>\n",
       "    <tr>\n",
       "      <th>2018-03-31</th>\n",
       "      <td>5.010227e+10</td>\n",
       "      <td>3.528660</td>\n",
       "      <td>77734990</td>\n",
       "      <td>0.154912</td>\n",
       "    </tr>\n",
       "    <tr>\n",
       "      <th>2018-04-30</th>\n",
       "      <td>4.759058e+10</td>\n",
       "      <td>4.056714</td>\n",
       "      <td>0</td>\n",
       "      <td>0.108859</td>\n",
       "    </tr>\n",
       "    <tr>\n",
       "      <th>2018-05-31</th>\n",
       "      <td>NaN</td>\n",
       "      <td>3.132336</td>\n",
       "      <td>49338347</td>\n",
       "      <td>0.105381</td>\n",
       "    </tr>\n",
       "  </tbody>\n",
       "</table>\n",
       "</div>"
      ],
      "text/plain": [
       "                      masse_salariale_brute  \\\n",
       "dernier_jour_du_mois                          \n",
       "2018-01-31                     4.597808e+10   \n",
       "2018-02-28                     4.513869e+10   \n",
       "2018-03-31                     5.010227e+10   \n",
       "2018-04-30                     4.759058e+10   \n",
       "2018-05-31                              NaN   \n",
       "\n",
       "                      glissement_annuel_masse_salariale  \\\n",
       "dernier_jour_du_mois                                      \n",
       "2018-01-31                                     3.723658   \n",
       "2018-02-28                                     3.382396   \n",
       "2018-03-31                                     3.528660   \n",
       "2018-04-30                                     4.056714   \n",
       "2018-05-31                                     3.132336   \n",
       "\n",
       "                      assiette_chomage_partiel  part_assiette_chomage_partiel  \n",
       "dernier_jour_du_mois                                                           \n",
       "2018-01-31                            65170920                       0.141543  \n",
       "2018-02-28                            93043381                       0.205704  \n",
       "2018-03-31                            77734990                       0.154912  \n",
       "2018-04-30                                   0                       0.108859  \n",
       "2018-05-31                            49338347                       0.105381  "
      ]
     },
     "execution_count": 879,
     "metadata": {},
     "output_type": "execute_result"
    }
   ],
   "source": [
    "# Cast date_col as datetime and sort\n",
    "date_col = 'dernier_jour_du_mois'\n",
    "df.index = pd.to_datetime(df[date_col])\n",
    "df.drop(columns=date_col, inplace=True)\n",
    "df.sort_index(inplace=True)\n",
    "df.head()"
   ]
  },
  {
   "cell_type": "markdown",
   "metadata": {},
   "source": [
    "## Analysis"
   ]
  },
  {
   "cell_type": "markdown",
   "metadata": {},
   "source": [
    "### Visualize time series"
   ]
  },
  {
   "cell_type": "code",
   "execution_count": 880,
   "metadata": {},
   "outputs": [
    {
     "data": {
      "image/png": "[encoded data removed]",
      "text/plain": [
       "<Figure size 720x1008 with 4 Axes>"
      ]
     },
     "metadata": {},
     "output_type": "display_data"
    }
   ],
   "source": [
    "df.plot(subplots=True, figsize=(10, 14))\n",
    "None"
   ]
  },
  {
   "cell_type": "markdown",
   "metadata": {},
   "source": [
    "- We can see there is a sort of missing data somewhere, we'll handle that in a few moments"
   ]
  },
  {
   "cell_type": "code",
   "execution_count": 881,
   "metadata": {},
   "outputs": [
    {
     "data": {
      "text/plain": [
       "<seaborn.axisgrid.PairGrid at 0x2c82a3a00>"
      ]
     },
     "execution_count": 881,
     "metadata": {},
     "output_type": "execute_result"
    },
    {
     "data": {
      "image/png": "[encoded data removed]",
      "text/plain": [
       "<Figure size 720x720 with 14 Axes>"
      ]
     },
     "metadata": {},
     "output_type": "display_data"
    }
   ],
   "source": [
    "sns.pairplot(df, corner=True)"
   ]
  },
  {
   "cell_type": "markdown",
   "metadata": {},
   "source": [
    "Analysis:\n",
    "- Potential presence of outlier in *masse_salariale_brute*, since most of the points are crushed on the left side (one should be alone on the right)\n",
    "- *glissement_annuel_masse_salariale* might be the variable closest to a normal law (but still far) - logical since the name suggests it has been computed as the evolution (often close to a normal law, see returns in finance, compared to their raw price)\n",
    "- *part_assiette_chomage_partiel* and *assiette_chomage_partiel* show a positive linear relation (when one grows, the other grows too)"
   ]
  },
  {
   "cell_type": "markdown",
   "metadata": {},
   "source": [
    "### Correlations\n",
    "Pearson"
   ]
  },
  {
   "cell_type": "code",
   "execution_count": 882,
   "metadata": {},
   "outputs": [
    {
     "data": {
      "text/plain": [
       "<AxesSubplot:>"
      ]
     },
     "execution_count": 882,
     "metadata": {},
     "output_type": "execute_result"
    },
    {
     "data": {
      "image/png": "[encoded data removed]",
      "text/plain": [
       "<Figure size 432x288 with 2 Axes>"
      ]
     },
     "metadata": {},
     "output_type": "display_data"
    }
   ],
   "source": [
    "colormap = sns.diverging_palette(15, 260, s=75, l=40, n=9, center=\"dark\")\n",
    "mask = np.triu(np.ones_like(df.corr()))\n",
    "sns.heatmap(df.corr(), cmap=colormap, annot=True, mask=mask)"
   ]
  },
  {
   "cell_type": "markdown",
   "metadata": {},
   "source": [
    "Analysis:\n",
    "- All the features but *masses_salariale_brute* are highly correlated\n",
    "- Thus, many information is redundant, only a single variable from those correlated above 50% should be kept\n",
    "- Since *part_assiette_chomage_partiel* is the most correlated with *glissement_annuel_masse_salariale* and *assiette_chomage_partiel*, it is the variable that contains the most information. Hence will be kept while others will be deleted (in [Data Management](#data_management) section)."
   ]
  },
  {
   "cell_type": "markdown",
   "metadata": {},
   "source": [
    "To go further:\n",
    "- Use statistical tests to check the robustness of these results.\n",
    "- They might otherwise be due to a sampling bias."
   ]
  },
  {
   "cell_type": "markdown",
   "metadata": {},
   "source": [
    "## Data Cleaning"
   ]
  },
  {
   "cell_type": "markdown",
   "metadata": {},
   "source": [
    "### Check missing values"
   ]
  },
  {
   "cell_type": "markdown",
   "metadata": {},
   "source": [
    "Find the missing date\n",
    "- A row will be imputed (through linear interpolation)"
   ]
  },
  {
   "cell_type": "code",
   "execution_count": 883,
   "metadata": {},
   "outputs": [
    {
     "data": {
      "text/plain": [
       "2018    12\n",
       "2019    12\n",
       "2021    12\n",
       "2020    11\n",
       "2022     3\n",
       "Name: dernier_jour_du_mois, dtype: int64"
      ]
     },
     "execution_count": 883,
     "metadata": {},
     "output_type": "execute_result"
    }
   ],
   "source": [
    "# Check number of occurences for each year\n",
    "df.index.year.value_counts()"
   ]
  },
  {
   "cell_type": "code",
   "execution_count": 884,
   "metadata": {},
   "outputs": [
    {
     "data": {
      "text/plain": [
       "[8]"
      ]
     },
     "execution_count": 884,
     "metadata": {},
     "output_type": "execute_result"
    }
   ],
   "source": [
    "# Find the missing date in 2020\n",
    "mask_2020 = df.index.year == 2020\n",
    "[month for month in range(1, 13) if not month in df[mask_2020].index.month]"
   ]
  },
  {
   "cell_type": "markdown",
   "metadata": {},
   "source": [
    "- The missing row is at 2020-08-31 (31 days in august)\n",
    "- Will have to reconstruct using interpolation (mean between previous and next rows)"
   ]
  },
  {
   "cell_type": "code",
   "execution_count": 885,
   "metadata": {},
   "outputs": [],
   "source": [
    "# Interpolate the missing row\n",
    "interpolate_2020_08 = ((df.loc['2020-09-30'] + df.loc['2020-07-31']) / 2)\n",
    "interpolate_2020_08 = pd.DataFrame(data=[interpolate_2020_08.values], columns=interpolate_2020_08.index, index=['2020-08-31'])\n",
    "interpolate_2020_08.index = pd.to_datetime(interpolate_2020_08.index)\n",
    "df = pd.concat([df, interpolate_2020_08])\n",
    "df.sort_index(inplace=True)"
   ]
  },
  {
   "cell_type": "code",
   "execution_count": 886,
   "metadata": {},
   "outputs": [
    {
     "data": {
      "text/html": [
       "<div>\n",
       "<style scoped>\n",
       "    .dataframe tbody tr th:only-of-type {\n",
       "        vertical-align: middle;\n",
       "    }\n",
       "\n",
       "    .dataframe tbody tr th {\n",
       "        vertical-align: top;\n",
       "    }\n",
       "\n",
       "    .dataframe thead th {\n",
       "        text-align: right;\n",
       "    }\n",
       "</style>\n",
       "<table border=\"1\" class=\"dataframe\">\n",
       "  <thead>\n",
       "    <tr style=\"text-align: right;\">\n",
       "      <th></th>\n",
       "      <th>masse_salariale_brute</th>\n",
       "      <th>glissement_annuel_masse_salariale</th>\n",
       "      <th>assiette_chomage_partiel</th>\n",
       "      <th>part_assiette_chomage_partiel</th>\n",
       "    </tr>\n",
       "  </thead>\n",
       "  <tbody>\n",
       "    <tr>\n",
       "      <th>2020-09-30</th>\n",
       "      <td>4.761950e+10</td>\n",
       "      <td>-0.870150</td>\n",
       "      <td>0.000000e+00</td>\n",
       "      <td>1.557461</td>\n",
       "    </tr>\n",
       "    <tr>\n",
       "      <th>2020-08-31</th>\n",
       "      <td>4.744790e+10</td>\n",
       "      <td>-2.690735</td>\n",
       "      <td>7.286845e+08</td>\n",
       "      <td>2.273969</td>\n",
       "    </tr>\n",
       "    <tr>\n",
       "      <th>2020-07-31</th>\n",
       "      <td>4.727629e+10</td>\n",
       "      <td>-4.511321</td>\n",
       "      <td>1.457369e+09</td>\n",
       "      <td>2.990477</td>\n",
       "    </tr>\n",
       "  </tbody>\n",
       "</table>\n",
       "</div>"
      ],
      "text/plain": [
       "            masse_salariale_brute  glissement_annuel_masse_salariale  \\\n",
       "2020-09-30           4.761950e+10                          -0.870150   \n",
       "2020-08-31           4.744790e+10                          -2.690735   \n",
       "2020-07-31           4.727629e+10                          -4.511321   \n",
       "\n",
       "            assiette_chomage_partiel  part_assiette_chomage_partiel  \n",
       "2020-09-30              0.000000e+00                       1.557461  \n",
       "2020-08-31              7.286845e+08                       2.273969  \n",
       "2020-07-31              1.457369e+09                       2.990477  "
      ]
     },
     "execution_count": 886,
     "metadata": {},
     "output_type": "execute_result"
    }
   ],
   "source": [
    "# Check the right execution of intended imputation\n",
    "df.loc[['2020-09-30', '2020-08-31', '2020-07-31']]"
   ]
  },
  {
   "cell_type": "markdown",
   "metadata": {},
   "source": [
    "### Check for NAs"
   ]
  },
  {
   "cell_type": "code",
   "execution_count": 887,
   "metadata": {},
   "outputs": [
    {
     "data": {
      "text/plain": [
       "masse_salariale_brute                1\n",
       "glissement_annuel_masse_salariale    1\n",
       "assiette_chomage_partiel             0\n",
       "part_assiette_chomage_partiel        0\n",
       "dtype: int64"
      ]
     },
     "execution_count": 887,
     "metadata": {},
     "output_type": "execute_result"
    }
   ],
   "source": [
    "df.isna().sum()"
   ]
  },
  {
   "cell_type": "code",
   "execution_count": 888,
   "metadata": {},
   "outputs": [],
   "source": [
    "# Easy imputation of NaN:\n",
    "# - coherent since there is a single NaN in the two columns\n",
    "# - coherent since the values seem to have a linear relation\n",
    "# - Use bfill as it prevents the risk of data leakage (using future values for imputation of past values)\n",
    "df.fillna(method='bfill', inplace=True)"
   ]
  },
  {
   "cell_type": "markdown",
   "metadata": {},
   "source": [
    "To go further:\n",
    "- Variables can be used to impute the missing value in *masse_salariale_brute*, with a linear or non-linear imputer"
   ]
  },
  {
   "cell_type": "markdown",
   "metadata": {},
   "source": [
    "### Detect outliers"
   ]
  },
  {
   "cell_type": "code",
   "execution_count": 903,
   "metadata": {},
   "outputs": [
    {
     "data": {
      "text/html": [
       "<div>\n",
       "<style scoped>\n",
       "    .dataframe tbody tr th:only-of-type {\n",
       "        vertical-align: middle;\n",
       "    }\n",
       "\n",
       "    .dataframe tbody tr th {\n",
       "        vertical-align: top;\n",
       "    }\n",
       "\n",
       "    .dataframe thead th {\n",
       "        text-align: right;\n",
       "    }\n",
       "</style>\n",
       "<table border=\"1\" class=\"dataframe\">\n",
       "  <thead>\n",
       "    <tr style=\"text-align: right;\">\n",
       "      <th></th>\n",
       "      <th>masse_salariale_brute</th>\n",
       "      <th>glissement_annuel_masse_salariale</th>\n",
       "      <th>assiette_chomage_partiel</th>\n",
       "      <th>part_assiette_chomage_partiel</th>\n",
       "    </tr>\n",
       "  </thead>\n",
       "  <tbody>\n",
       "    <tr>\n",
       "      <th>2018-09-30</th>\n",
       "      <td>5.000000e+11</td>\n",
       "      <td>3.164464</td>\n",
       "      <td>39769110.0</td>\n",
       "      <td>0.085523</td>\n",
       "    </tr>\n",
       "  </tbody>\n",
       "</table>\n",
       "</div>"
      ],
      "text/plain": [
       "            masse_salariale_brute  glissement_annuel_masse_salariale  \\\n",
       "2018-09-30           5.000000e+11                           3.164464   \n",
       "\n",
       "            assiette_chomage_partiel  part_assiette_chomage_partiel  \n",
       "2018-09-30                39769110.0                       0.085523  "
      ]
     },
     "execution_count": 903,
     "metadata": {},
     "output_type": "execute_result"
    }
   ],
   "source": [
    "bound_max = df.mean() + df.std() * 2\n",
    "bound_min = df.mean() - df.std() * 2\n",
    "mask_outliers_array = (df > bound_max) | (df < bound_min)\n",
    "df[mask_outliers_array['masse_salariale_brute']]"
   ]
  },
  {
   "cell_type": "code",
   "execution_count": 905,
   "metadata": {},
   "outputs": [
    {
     "data": {
      "text/html": [
       "<div>\n",
       "<style scoped>\n",
       "    .dataframe tbody tr th:only-of-type {\n",
       "        vertical-align: middle;\n",
       "    }\n",
       "\n",
       "    .dataframe tbody tr th {\n",
       "        vertical-align: top;\n",
       "    }\n",
       "\n",
       "    .dataframe thead th {\n",
       "        text-align: right;\n",
       "    }\n",
       "</style>\n",
       "<table border=\"1\" class=\"dataframe\">\n",
       "  <thead>\n",
       "    <tr style=\"text-align: right;\">\n",
       "      <th></th>\n",
       "      <th>masse_salariale_brute</th>\n",
       "      <th>glissement_annuel_masse_salariale</th>\n",
       "      <th>assiette_chomage_partiel</th>\n",
       "      <th>part_assiette_chomage_partiel</th>\n",
       "    </tr>\n",
       "  </thead>\n",
       "  <tbody>\n",
       "    <tr>\n",
       "      <th>2020-04-30</th>\n",
       "      <td>4.600000e+00</td>\n",
       "      <td>-24.649473</td>\n",
       "      <td>6.864317e+09</td>\n",
       "      <td>15.576859</td>\n",
       "    </tr>\n",
       "    <tr>\n",
       "      <th>2020-05-31</th>\n",
       "      <td>4.600000e+00</td>\n",
       "      <td>-18.501244</td>\n",
       "      <td>5.026058e+09</td>\n",
       "      <td>11.315531</td>\n",
       "    </tr>\n",
       "    <tr>\n",
       "      <th>2021-04-30</th>\n",
       "      <td>4.856824e+10</td>\n",
       "      <td>30.548969</td>\n",
       "      <td>0.000000e+00</td>\n",
       "      <td>3.912326</td>\n",
       "    </tr>\n",
       "    <tr>\n",
       "      <th>2021-05-31</th>\n",
       "      <td>4.809593e+10</td>\n",
       "      <td>22.097902</td>\n",
       "      <td>0.000000e+00</td>\n",
       "      <td>2.743861</td>\n",
       "    </tr>\n",
       "  </tbody>\n",
       "</table>\n",
       "</div>"
      ],
      "text/plain": [
       "            masse_salariale_brute  glissement_annuel_masse_salariale  \\\n",
       "2020-04-30           4.600000e+00                         -24.649473   \n",
       "2020-05-31           4.600000e+00                         -18.501244   \n",
       "2021-04-30           4.856824e+10                          30.548969   \n",
       "2021-05-31           4.809593e+10                          22.097902   \n",
       "\n",
       "            assiette_chomage_partiel  part_assiette_chomage_partiel  \n",
       "2020-04-30              6.864317e+09                      15.576859  \n",
       "2020-05-31              5.026058e+09                      11.315531  \n",
       "2021-04-30              0.000000e+00                       3.912326  \n",
       "2021-05-31              0.000000e+00                       2.743861  "
      ]
     },
     "execution_count": 905,
     "metadata": {},
     "output_type": "execute_result"
    }
   ],
   "source": [
    "df[mask_outliers_array['glissement_annuel_masse_salariale']]"
   ]
  },
  {
   "cell_type": "code",
   "execution_count": 906,
   "metadata": {},
   "outputs": [
    {
     "data": {
      "text/html": [
       "<div>\n",
       "<style scoped>\n",
       "    .dataframe tbody tr th:only-of-type {\n",
       "        vertical-align: middle;\n",
       "    }\n",
       "\n",
       "    .dataframe tbody tr th {\n",
       "        vertical-align: top;\n",
       "    }\n",
       "\n",
       "    .dataframe thead th {\n",
       "        text-align: right;\n",
       "    }\n",
       "</style>\n",
       "<table border=\"1\" class=\"dataframe\">\n",
       "  <thead>\n",
       "    <tr style=\"text-align: right;\">\n",
       "      <th></th>\n",
       "      <th>masse_salariale_brute</th>\n",
       "      <th>glissement_annuel_masse_salariale</th>\n",
       "      <th>assiette_chomage_partiel</th>\n",
       "      <th>part_assiette_chomage_partiel</th>\n",
       "    </tr>\n",
       "  </thead>\n",
       "  <tbody>\n",
       "    <tr>\n",
       "      <th>2020-04-30</th>\n",
       "      <td>4.6</td>\n",
       "      <td>-24.649473</td>\n",
       "      <td>6.864317e+09</td>\n",
       "      <td>15.576859</td>\n",
       "    </tr>\n",
       "    <tr>\n",
       "      <th>2020-05-31</th>\n",
       "      <td>4.6</td>\n",
       "      <td>-18.501244</td>\n",
       "      <td>5.026058e+09</td>\n",
       "      <td>11.315531</td>\n",
       "    </tr>\n",
       "  </tbody>\n",
       "</table>\n",
       "</div>"
      ],
      "text/plain": [
       "            masse_salariale_brute  glissement_annuel_masse_salariale  \\\n",
       "2020-04-30                    4.6                         -24.649473   \n",
       "2020-05-31                    4.6                         -18.501244   \n",
       "\n",
       "            assiette_chomage_partiel  part_assiette_chomage_partiel  \n",
       "2020-04-30              6.864317e+09                      15.576859  \n",
       "2020-05-31              5.026058e+09                      11.315531  "
      ]
     },
     "execution_count": 906,
     "metadata": {},
     "output_type": "execute_result"
    }
   ],
   "source": [
    "df[mask_outliers_array['assiette_chomage_partiel']]"
   ]
  },
  {
   "cell_type": "code",
   "execution_count": 907,
   "metadata": {},
   "outputs": [
    {
     "data": {
      "text/html": [
       "<div>\n",
       "<style scoped>\n",
       "    .dataframe tbody tr th:only-of-type {\n",
       "        vertical-align: middle;\n",
       "    }\n",
       "\n",
       "    .dataframe tbody tr th {\n",
       "        vertical-align: top;\n",
       "    }\n",
       "\n",
       "    .dataframe thead th {\n",
       "        text-align: right;\n",
       "    }\n",
       "</style>\n",
       "<table border=\"1\" class=\"dataframe\">\n",
       "  <thead>\n",
       "    <tr style=\"text-align: right;\">\n",
       "      <th></th>\n",
       "      <th>masse_salariale_brute</th>\n",
       "      <th>glissement_annuel_masse_salariale</th>\n",
       "      <th>assiette_chomage_partiel</th>\n",
       "      <th>part_assiette_chomage_partiel</th>\n",
       "    </tr>\n",
       "  </thead>\n",
       "  <tbody>\n",
       "    <tr>\n",
       "      <th>2020-04-30</th>\n",
       "      <td>4.6</td>\n",
       "      <td>-24.649473</td>\n",
       "      <td>6.864317e+09</td>\n",
       "      <td>15.576859</td>\n",
       "    </tr>\n",
       "    <tr>\n",
       "      <th>2020-05-31</th>\n",
       "      <td>4.6</td>\n",
       "      <td>-18.501244</td>\n",
       "      <td>5.026058e+09</td>\n",
       "      <td>11.315531</td>\n",
       "    </tr>\n",
       "  </tbody>\n",
       "</table>\n",
       "</div>"
      ],
      "text/plain": [
       "            masse_salariale_brute  glissement_annuel_masse_salariale  \\\n",
       "2020-04-30                    4.6                         -24.649473   \n",
       "2020-05-31                    4.6                         -18.501244   \n",
       "\n",
       "            assiette_chomage_partiel  part_assiette_chomage_partiel  \n",
       "2020-04-30              6.864317e+09                      15.576859  \n",
       "2020-05-31              5.026058e+09                      11.315531  "
      ]
     },
     "execution_count": 907,
     "metadata": {},
     "output_type": "execute_result"
    }
   ],
   "source": [
    "df[mask_outliers_array['part_assiette_chomage_partiel']]"
   ]
  },
  {
   "cell_type": "markdown",
   "metadata": {},
   "source": [
    "## Data Management\n",
    "<a id='data_management'></a>"
   ]
  },
  {
   "cell_type": "markdown",
   "metadata": {},
   "source": [
    "### Drop features"
   ]
  },
  {
   "cell_type": "code",
   "execution_count": 864,
   "metadata": {},
   "outputs": [],
   "source": [
    "# Delete useless redundant information\n",
    "df.drop(columns='part_assiette_chomage_partiel', inplace=True)"
   ]
  },
  {
   "cell_type": "code",
   "execution_count": 865,
   "metadata": {},
   "outputs": [],
   "source": [
    "# Delete features with excessive correlation ±60% (multi-colinearity)\n",
    "# As the name suggests \"glissement_annuel_masse_salariale\",\n",
    "# the variable might be derived directly from \"masse_salariale_brute\"\n",
    "df.drop(columns='glissement_annuel_masse_salariale', inplace=True)"
   ]
  },
  {
   "cell_type": "code",
   "execution_count": 866,
   "metadata": {},
   "outputs": [
    {
     "data": {
      "text/html": [
       "<div>\n",
       "<style scoped>\n",
       "    .dataframe tbody tr th:only-of-type {\n",
       "        vertical-align: middle;\n",
       "    }\n",
       "\n",
       "    .dataframe tbody tr th {\n",
       "        vertical-align: top;\n",
       "    }\n",
       "\n",
       "    .dataframe thead th {\n",
       "        text-align: right;\n",
       "    }\n",
       "</style>\n",
       "<table border=\"1\" class=\"dataframe\">\n",
       "  <thead>\n",
       "    <tr style=\"text-align: right;\">\n",
       "      <th></th>\n",
       "      <th>masse_salariale_brute</th>\n",
       "      <th>assiette_chomage_partiel</th>\n",
       "    </tr>\n",
       "  </thead>\n",
       "  <tbody>\n",
       "    <tr>\n",
       "      <th>2018-01-31</th>\n",
       "      <td>4.597808e+10</td>\n",
       "      <td>65170920.0</td>\n",
       "    </tr>\n",
       "    <tr>\n",
       "      <th>2018-02-28</th>\n",
       "      <td>4.513869e+10</td>\n",
       "      <td>93043381.0</td>\n",
       "    </tr>\n",
       "    <tr>\n",
       "      <th>2018-03-31</th>\n",
       "      <td>5.010227e+10</td>\n",
       "      <td>77734990.0</td>\n",
       "    </tr>\n",
       "    <tr>\n",
       "      <th>2018-04-30</th>\n",
       "      <td>4.759058e+10</td>\n",
       "      <td>0.0</td>\n",
       "    </tr>\n",
       "    <tr>\n",
       "      <th>2018-05-31</th>\n",
       "      <td>5.057610e+10</td>\n",
       "      <td>49338347.0</td>\n",
       "    </tr>\n",
       "  </tbody>\n",
       "</table>\n",
       "</div>"
      ],
      "text/plain": [
       "            masse_salariale_brute  assiette_chomage_partiel\n",
       "2018-01-31           4.597808e+10                65170920.0\n",
       "2018-02-28           4.513869e+10                93043381.0\n",
       "2018-03-31           5.010227e+10                77734990.0\n",
       "2018-04-30           4.759058e+10                       0.0\n",
       "2018-05-31           5.057610e+10                49338347.0"
      ]
     },
     "execution_count": 866,
     "metadata": {},
     "output_type": "execute_result"
    }
   ],
   "source": [
    "df.head()"
   ]
  },
  {
   "cell_type": "markdown",
   "metadata": {},
   "source": [
    "We are left with 2 time series"
   ]
  },
  {
   "cell_type": "markdown",
   "metadata": {},
   "source": [
    "## Feature Engineering"
   ]
  },
  {
   "cell_type": "code",
   "execution_count": null,
   "metadata": {},
   "outputs": [],
   "source": []
  },
  {
   "cell_type": "markdown",
   "metadata": {},
   "source": [
    "## Prediction\n",
    "- Regression\n",
    "- Time Series\n",
    "- Predict the future"
   ]
  },
  {
   "cell_type": "markdown",
   "metadata": {},
   "source": [
    "### Prepare data for time series prediction\n",
    "- split train and test (70% train, 30% test)\n",
    "- extract features (X) and target (y)\n",
    "- shift features (this enables to find the link between old features values and current target values)"
   ]
  },
  {
   "cell_type": "code",
   "execution_count": 867,
   "metadata": {},
   "outputs": [],
   "source": [
    "# Train / Test Split\n",
    "PCT_TRAIN = .70\n",
    "\n",
    "last_train = int(df.shape[0] * PCT_TRAIN)\n",
    "train = df.iloc[:last_train]\n",
    "test = df.iloc[last_train:]\n",
    "\n",
    "# For the plot only\n",
    "train_index = df.index[:last_train]\n",
    "test_index = df.index[last_train:]"
   ]
  },
  {
   "cell_type": "code",
   "execution_count": 868,
   "metadata": {},
   "outputs": [],
   "source": [
    "# Features vs Target (and shift)\n",
    "TARGET = 'masse_salariale_brute'\n",
    "N_DELAY = 4  # months to predict ahead\n",
    "\n",
    "X_train = train.shift(N_DELAY)  # use data n months before to predict today\n",
    "X_train = X_train.iloc[N_DELAY:]\n",
    "y_train = train[TARGET].iloc[N_DELAY:]\n",
    "train_index = train_index[N_DELAY:]  # For the plot only\n",
    "\n",
    "X_test = test.shift(N_DELAY)\n",
    "X_test = X_test.iloc[N_DELAY:]\n",
    "y_test = test[TARGET].iloc[N_DELAY:]\n",
    "test_index = test_index[N_DELAY:]  # For the plot only"
   ]
  },
  {
   "cell_type": "markdown",
   "metadata": {},
   "source": [
    "### Model\n",
    "- Train\n",
    "- Evaluate (test)\n",
    "- Predict"
   ]
  },
  {
   "cell_type": "code",
   "execution_count": 869,
   "metadata": {},
   "outputs": [],
   "source": [
    "from sklearn.linear_model import LinearRegression\n",
    "from sklearn.preprocessing import PolynomialFeatures\n",
    "from sklearn.pipeline import Pipeline"
   ]
  },
  {
   "cell_type": "code",
   "execution_count": 870,
   "metadata": {},
   "outputs": [],
   "source": [
    "# Make a pipeline to automate transformation of the input\n",
    "# On both train and test sets\n",
    "DEGREE = 2\n",
    "poly = PolynomialFeatures(DEGREE, include_bias=False)\n",
    "model = LinearRegression()\n",
    "pipeline = Pipeline(steps=[('t', poly), ('m', model)])"
   ]
  },
  {
   "cell_type": "code",
   "execution_count": 871,
   "metadata": {},
   "outputs": [
    {
     "name": "stdout",
     "output_type": "stream",
     "text": [
      "Train R^2: 0.02\n",
      "Test R^2: -1.28\n"
     ]
    }
   ],
   "source": [
    "# Train model\n",
    "poly_reg_model = pipeline.fit(X_train, y_train)\n",
    "\n",
    "# Evaluate model on train (predict on the train set)\n",
    "y_train_pred = poly_reg_model.predict(X_train)\n",
    "print(f'Train R^2: {poly_reg_model.score(X_train, y_train):.2f}')\n",
    "\n",
    "# Evaluate model on test (predict on the test set)\n",
    "y_test_pred = poly_reg_model.predict(X_test)\n",
    "print(f'Test R^2: {poly_reg_model.score(X_test, y_test):.2f}')"
   ]
  },
  {
   "cell_type": "code",
   "execution_count": 872,
   "metadata": {},
   "outputs": [
    {
     "data": {
      "image/png": "[encoded data removed]",
      "text/plain": [
       "<Figure size 1008x432 with 2 Axes>"
      ]
     },
     "metadata": {},
     "output_type": "display_data"
    }
   ],
   "source": [
    "# Define figure (whole white frame and space for each plot)\n",
    "fig, ax = plt.subplots(1, 2, figsize=(14,6), sharey=True)\n",
    "\n",
    "# Left plot (train)\n",
    "ax[0].plot(train_index, y_train)\n",
    "ax[0].plot(train_index, y_train_pred)\n",
    "ax[0].tick_params(labelrotation=45)\n",
    "ax[0].legend([f'{TARGET}_actual', f'{TARGET}_predict'])\n",
    "ax[0].set_ylabel(TARGET)\n",
    "\n",
    "# Right plot (train)\n",
    "ax[1].plot(test_index, y_test)\n",
    "ax[1].plot(test_index, y_test_pred)\n",
    "ax[1].tick_params(labelrotation=45)\n",
    "ax[1].legend([f'{TARGET}_actual', f'{TARGET}_predict'])\n",
    "ax[1].set_ylabel(TARGET)\n",
    "\n",
    "fig.suptitle(f\"Prediction of 'masse_salariale_brute' {N_DELAY} months ahead\")\n",
    "plt.show()"
   ]
  },
  {
   "cell_type": "markdown",
   "metadata": {},
   "source": [
    "The performance is very poor using this model on these data.\n",
    "\n",
    "Going further:\n",
    "- try the model SARIMAX\n",
    "- try the model XGBOOST\n",
    "- Look for complementary data (very often this is more powerful than playing with models)"
   ]
  },
  {
   "cell_type": "code",
   "execution_count": null,
   "metadata": {},
   "outputs": [],
   "source": []
  }
 ],
 "metadata": {
  "interpreter": {
   "hash": "3e74358760790ee203734cf82a8145858ee0b285e8616beddc0cb417b8455e70"
  },
  "kernelspec": {
   "display_name": "Python 3.9.12 ('eda')",
   "language": "python",
   "name": "python3"
  },
  "language_info": {
   "codemirror_mode": {
    "name": "ipython",
    "version": 3
   },
   "file_extension": ".py",
   "mimetype": "text/x-python",
   "name": "python",
   "nbconvert_exporter": "python",
   "pygments_lexer": "ipython3",
   "version": "3.9.12"
  },
  "orig_nbformat": 4
 },
 "nbformat": 4,
 "nbformat_minor": 2
}
